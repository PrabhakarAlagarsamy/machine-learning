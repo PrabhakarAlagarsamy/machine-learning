{
  "nbformat": 4,
  "nbformat_minor": 0,
  "metadata": {
    "colab": {
      "name": "Untitled1.ipynb",
      "provenance": [],
      "include_colab_link": true
    },
    "kernelspec": {
      "name": "python3",
      "display_name": "Python 3"
    }
  },
  "cells": [
    {
      "cell_type": "markdown",
      "metadata": {
        "id": "view-in-github",
        "colab_type": "text"
      },
      "source": [
        "<a href=\"https://colab.research.google.com/github/PrabhakarAlagarsamy/machine-learning/blob/master/python-datatype.ipynb\" target=\"_parent\"><img src=\"https://colab.research.google.com/assets/colab-badge.svg\" alt=\"Open In Colab\"/></a>"
      ]
    },
    {
      "cell_type": "code",
      "metadata": {
        "id": "dKqK-pRtMWz1",
        "colab_type": "code",
        "colab": {
          "base_uri": "https://localhost:8080/",
          "height": 34
        },
        "outputId": "fffa1425-ea49-4d7a-c69a-898dd844cad0"
      },
      "source": [
        "#count the character frequency in a string\n",
        "def char_frequency(str1):\n",
        "    dict = {}\n",
        "    for n in str1:\n",
        "        keys = dict.keys()\n",
        "        if n in keys:\n",
        "            dict[n] += 1\n",
        "        else:\n",
        "            dict[n] = 1\n",
        "    return dict\n",
        "print(char_frequency('google.com'))"
      ],
      "execution_count": 1,
      "outputs": [
        {
          "output_type": "stream",
          "text": [
            "{'g': 2, 'o': 3, 'l': 1, 'e': 1, '.': 1, 'c': 1, 'm': 1}\n"
          ],
          "name": "stdout"
        }
      ]
    },
    {
      "cell_type": "code",
      "metadata": {
        "id": "6bJb5VTnP0Ug",
        "colab_type": "code",
        "colab": {
          "base_uri": "https://localhost:8080/",
          "height": 34
        },
        "outputId": "e34395a3-95d5-4668-fba3-2779ff7d2c28"
      },
      "source": [
        "#string where all occurrences of its first char have been changed to '$', except the first char itself\n",
        "def change_char(str1):\n",
        "  char = str1[0]\n",
        "  str1 = str1.replace(char, '$')\n",
        "  str1 = char + str1[1:]\n",
        "\n",
        "  return str1\n",
        "\n",
        "print(change_char('restart'))"
      ],
      "execution_count": 2,
      "outputs": [
        {
          "output_type": "stream",
          "text": [
            "resta$t\n"
          ],
          "name": "stdout"
        }
      ]
    },
    {
      "cell_type": "code",
      "metadata": {
        "id": "UkOXE3FsQpXl",
        "colab_type": "code",
        "colab": {
          "base_uri": "https://localhost:8080/",
          "height": 34
        },
        "outputId": "3cf02f11-9257-4715-f1de-66b7ee80cdea"
      },
      "source": [
        "#get a single string from two given strings, separated by a space and swap the first two characters of each string\n",
        "def chars_mix_up(a, b):\n",
        "  new_a = b[:2] + a[2:]\n",
        "  new_b = a[:2] + b[2:]\n",
        "\n",
        "  return new_a + ' ' + new_b\n",
        "print(chars_mix_up('abc', 'xyz'))"
      ],
      "execution_count": 3,
      "outputs": [
        {
          "output_type": "stream",
          "text": [
            "xyc abz\n"
          ],
          "name": "stdout"
        }
      ]
    },
    {
      "cell_type": "code",
      "metadata": {
        "id": "CisSzsJ3V2eF",
        "colab_type": "code",
        "colab": {
          "base_uri": "https://localhost:8080/",
          "height": 34
        },
        "outputId": "ef341f73-5991-4710-f931-43515a66510c"
      },
      "source": [
        "#takes a list of words and returns the length of the longest one\n",
        "def find_longest_word(words_list):\n",
        "    word_len = []\n",
        "    for n in words_list:\n",
        "        word_len.append((len(n), n))\n",
        "    word_len.sort()\n",
        "    return word_len[-1][1]\n",
        "\n",
        "print(find_longest_word([\"PHP\", \"Exercises\", \"Backend\"]))"
      ],
      "execution_count": 4,
      "outputs": [
        {
          "output_type": "stream",
          "text": [
            "Exercises\n"
          ],
          "name": "stdout"
        }
      ]
    },
    {
      "cell_type": "code",
      "metadata": {
        "id": "br0LB42LWn1V",
        "colab_type": "code",
        "colab": {
          "base_uri": "https://localhost:8080/",
          "height": 34
        },
        "outputId": "2755f99b-a8ad-4a8b-c7ff-d334570bdf73"
      },
      "source": [
        "#remove the nth index character from a nonempty string\n",
        "def remove_char(str, n):\n",
        "      first_part = str[:n] \n",
        "      last_part = str[n+1:]\n",
        "      return first_part + last_part\n",
        "print(remove_char('Python', 3))"
      ],
      "execution_count": 5,
      "outputs": [
        {
          "output_type": "stream",
          "text": [
            "Pyton\n"
          ],
          "name": "stdout"
        }
      ]
    },
    {
      "cell_type": "code",
      "metadata": {
        "id": "h0kLW9nnXQeV",
        "colab_type": "code",
        "colab": {
          "base_uri": "https://localhost:8080/",
          "height": 34
        },
        "outputId": "ab63758b-2d7d-4521-8c11-6db277ce5800"
      },
      "source": [
        "#change a given string to a new string where the first and last chars have been exchanged\n",
        "def change_sring(str1):\n",
        "      return str1[-1:] + str1[1:-1] + str1[:1]\n",
        "\t  \n",
        "print(change_sring('abcd'))"
      ],
      "execution_count": 7,
      "outputs": [
        {
          "output_type": "stream",
          "text": [
            "dbca\n"
          ],
          "name": "stdout"
        }
      ]
    },
    {
      "cell_type": "code",
      "metadata": {
        "id": "q9G9CsigZwDR",
        "colab_type": "code",
        "colab": {
          "base_uri": "https://localhost:8080/",
          "height": 34
        },
        "outputId": "ea67d964-6a52-4313-fc62-fcadf4200921"
      },
      "source": [
        "#odd index values of a given string\n",
        "def odd_values_string(str):\n",
        "  result = \"\" \n",
        "  for i in range(len(str)):\n",
        "    if i % 2 == 0:\n",
        "      result = result + str[i]\n",
        "  return result\n",
        "\n",
        "print(odd_values_string('abcdef'))"
      ],
      "execution_count": 8,
      "outputs": [
        {
          "output_type": "stream",
          "text": [
            "ace\n"
          ],
          "name": "stdout"
        }
      ]
    },
    {
      "cell_type": "code",
      "metadata": {
        "id": "r-AQ4xeFaSQi",
        "colab_type": "code",
        "colab": {
          "base_uri": "https://localhost:8080/",
          "height": 34
        },
        "outputId": "7f182c2c-f8c3-488f-858f-f51405fb2778"
      },
      "source": [
        "#count the occurrences of each word in a given sentence\n",
        "def word_count(str):\n",
        "    counts = dict()\n",
        "    words = str.split()\n",
        "\n",
        "    for word in words:\n",
        "        if word in counts:\n",
        "            counts[word] += 1\n",
        "        else:\n",
        "            counts[word] = 1\n",
        "\n",
        "    return counts\n",
        "\n",
        "print( word_count('the quick brown fox jumps over the lazy dog.'))"
      ],
      "execution_count": 9,
      "outputs": [
        {
          "output_type": "stream",
          "text": [
            "{'the': 2, 'quick': 1, 'brown': 1, 'fox': 1, 'jumps': 1, 'over': 1, 'lazy': 1, 'dog.': 1}\n"
          ],
          "name": "stdout"
        }
      ]
    },
    {
      "cell_type": "code",
      "metadata": {
        "id": "plmOw7VjzjhJ",
        "colab_type": "code",
        "colab": {
          "base_uri": "https://localhost:8080/",
          "height": 34
        },
        "outputId": "94d74958-0e55-4367-9b5e-f728020d604f"
      },
      "source": [
        "#swap comma and dot in a string\n",
        "amount = \"32.054,23\"\n",
        "maketrans = amount.maketrans\n",
        "amount = amount.translate(maketrans(',.', '.,'))\n",
        "print(amount)"
      ],
      "execution_count": 10,
      "outputs": [
        {
          "output_type": "stream",
          "text": [
            "32,054.23\n"
          ],
          "name": "stdout"
        }
      ]
    },
    {
      "cell_type": "code",
      "metadata": {
        "id": "QEHPge1o3x5c",
        "colab_type": "code",
        "colab": {
          "base_uri": "https://localhost:8080/",
          "height": 51
        },
        "outputId": "85b9c76c-9db6-415b-c690-3ba5fefb8e79"
      },
      "source": [
        "#first repeated word in a given string\n",
        "def first_repeated_word(str1):\n",
        "  temp = set()\n",
        "  for word in str1.split():\n",
        "    if word in temp:\n",
        "      return word;\n",
        "    else:\n",
        "      temp.add(word)\n",
        "  return 'None'\n",
        "print(first_repeated_word(\"ab ca bc ab\"))\n",
        "print(first_repeated_word(\"ab ca bc\"))"
      ],
      "execution_count": 11,
      "outputs": [
        {
          "output_type": "stream",
          "text": [
            "ab\n",
            "None\n"
          ],
          "name": "stdout"
        }
      ]
    },
    {
      "cell_type": "code",
      "metadata": {
        "id": "JzZT-On5Wnxp",
        "colab_type": "code",
        "colab": {}
      },
      "source": [
        ""
      ],
      "execution_count": 0,
      "outputs": []
    }
  ]
}