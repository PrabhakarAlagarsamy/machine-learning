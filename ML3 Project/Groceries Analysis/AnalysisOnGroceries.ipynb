{
 "cells": [
  {
   "cell_type": "markdown",
   "metadata": {},
   "source": [
    "# Analysis On Groceries"
   ]
  },
  {
   "cell_type": "markdown",
   "metadata": {},
   "source": [
    "## Table of Contents\n",
    "\n",
    "1. [Problem Statement](#section1)<br>\n",
    "2. [Importing Packages](#section2)<br>\n",
    "3. [Loading Data](#section3)<br>\n",
    "  - 3.1 [Importing Dataset](#section301)<br>\n",
    "  - 3.2 [Name Column](#section302)<br>\n",
    "  - 3.3 [Identifying Missing Values](#section303)<br>\n",
    "  - 3.4 [Identify Rows and Columns](#section304)<br>\n",
    "  - 3.5 [Identify Unique Item Values](#section305)<br>  \n",
    "4. [Exploratory Data Analysis](#section4)<br>\n",
    "  - 4.1 [Analysis based on Sales](#section401)<br>\n",
    "5. [Applying Apriori Algorithm](#section5)<br>\n",
    "  - 5.1 [Transform Data](#section501)<br>\n",
    "  - 5.2 [Applying Association Rules](#section502)<br>\n",
    "  - 5.3 [Confidence Sorting](#section503)<br>\n",
    "  - 5.4 [Visualizing Association](#section504)<br>    \n",
    "6. [Conclusion](#section6)<br>"
   ]
  },
  {
   "cell_type": "markdown",
   "metadata": {},
   "source": [
    "<a id=section1></a>\n",
    "## 1. Problem Statement"
   ]
  },
  {
   "cell_type": "markdown",
   "metadata": {},
   "source": [
    "One of the big **super market** in the city given their sales of **groceries** data to find useful outcome. The owner of the super market want to know that **most frequent item on sales**. We are trying to predict, what other items people buy along with most frequent items. This may **boost the sales**."
   ]
  },
  {
   "cell_type": "markdown",
   "metadata": {},
   "source": [
    "<a id=section2></a>\n",
    "## 2. Importing Packages"
   ]
  },
  {
   "cell_type": "code",
   "execution_count": 1,
   "metadata": {},
   "outputs": [],
   "source": [
    "import pandas as pd\n",
    "import numpy as np\n",
    "import warnings\n",
    "\n",
    "import matplotlib.pyplot as plt\n",
    "import seaborn as sns\n",
    "\n",
    "from mlxtend.frequent_patterns import apriori\n",
    "from mlxtend.frequent_patterns import association_rules\n",
    "import networkx as nx\n",
    "\n",
    "%matplotlib inline\n",
    "warnings.filterwarnings('ignore')"
   ]
  },
  {
   "cell_type": "markdown",
   "metadata": {},
   "source": [
    "<a id=section3></a>\n",
    "## 3. Loading Data"
   ]
  },
  {
   "cell_type": "markdown",
   "metadata": {},
   "source": [
    "<a id=section301></a>\n",
    "### 3.1 Importing Dataset"
   ]
  },
  {
   "cell_type": "code",
   "execution_count": 2,
   "metadata": {},
   "outputs": [
    {
     "data": {
      "text/html": [
       "<div>\n",
       "<style scoped>\n",
       "    .dataframe tbody tr th:only-of-type {\n",
       "        vertical-align: middle;\n",
       "    }\n",
       "\n",
       "    .dataframe tbody tr th {\n",
       "        vertical-align: top;\n",
       "    }\n",
       "\n",
       "    .dataframe thead th {\n",
       "        text-align: right;\n",
       "    }\n",
       "</style>\n",
       "<table border=\"1\" class=\"dataframe\">\n",
       "  <thead>\n",
       "    <tr style=\"text-align: right;\">\n",
       "      <th></th>\n",
       "      <th>0</th>\n",
       "    </tr>\n",
       "  </thead>\n",
       "  <tbody>\n",
       "    <tr>\n",
       "      <th>0</th>\n",
       "      <td>citrus fruit,semi-finished bread,margarine,rea...</td>\n",
       "    </tr>\n",
       "    <tr>\n",
       "      <th>1</th>\n",
       "      <td>tropical fruit,yogurt,coffee</td>\n",
       "    </tr>\n",
       "    <tr>\n",
       "      <th>2</th>\n",
       "      <td>whole milk</td>\n",
       "    </tr>\n",
       "    <tr>\n",
       "      <th>3</th>\n",
       "      <td>pip fruit,yogurt,cream cheese ,meat spreads</td>\n",
       "    </tr>\n",
       "    <tr>\n",
       "      <th>4</th>\n",
       "      <td>other vegetables,whole milk,condensed milk,lon...</td>\n",
       "    </tr>\n",
       "  </tbody>\n",
       "</table>\n",
       "</div>"
      ],
      "text/plain": [
       "                                                   0\n",
       "0  citrus fruit,semi-finished bread,margarine,rea...\n",
       "1                       tropical fruit,yogurt,coffee\n",
       "2                                         whole milk\n",
       "3        pip fruit,yogurt,cream cheese ,meat spreads\n",
       "4  other vegetables,whole milk,condensed milk,lon..."
      ]
     },
     "execution_count": 2,
     "metadata": {},
     "output_type": "execute_result"
    }
   ],
   "source": [
    "df = pd.read_csv('https://raw.githubusercontent.com/insaid2018/Term-4/master/Projects/groceries.csv',sep='\\t',header=None)\n",
    "df.head()"
   ]
  },
  {
   "cell_type": "markdown",
   "metadata": {},
   "source": [
    "**Observations**\n",
    "- **No** column name given in data set."
   ]
  },
  {
   "cell_type": "markdown",
   "metadata": {},
   "source": [
    "<a id=section302></a>\n",
    "### 3.2 Name Column"
   ]
  },
  {
   "cell_type": "code",
   "execution_count": 3,
   "metadata": {},
   "outputs": [
    {
     "data": {
      "text/html": [
       "<div>\n",
       "<style scoped>\n",
       "    .dataframe tbody tr th:only-of-type {\n",
       "        vertical-align: middle;\n",
       "    }\n",
       "\n",
       "    .dataframe tbody tr th {\n",
       "        vertical-align: top;\n",
       "    }\n",
       "\n",
       "    .dataframe thead th {\n",
       "        text-align: right;\n",
       "    }\n",
       "</style>\n",
       "<table border=\"1\" class=\"dataframe\">\n",
       "  <thead>\n",
       "    <tr style=\"text-align: right;\">\n",
       "      <th></th>\n",
       "      <th>Items</th>\n",
       "    </tr>\n",
       "  </thead>\n",
       "  <tbody>\n",
       "    <tr>\n",
       "      <th>0</th>\n",
       "      <td>citrus fruit,semi-finished bread,margarine,rea...</td>\n",
       "    </tr>\n",
       "    <tr>\n",
       "      <th>1</th>\n",
       "      <td>tropical fruit,yogurt,coffee</td>\n",
       "    </tr>\n",
       "    <tr>\n",
       "      <th>2</th>\n",
       "      <td>whole milk</td>\n",
       "    </tr>\n",
       "    <tr>\n",
       "      <th>3</th>\n",
       "      <td>pip fruit,yogurt,cream cheese ,meat spreads</td>\n",
       "    </tr>\n",
       "    <tr>\n",
       "      <th>4</th>\n",
       "      <td>other vegetables,whole milk,condensed milk,lon...</td>\n",
       "    </tr>\n",
       "  </tbody>\n",
       "</table>\n",
       "</div>"
      ],
      "text/plain": [
       "                                               Items\n",
       "0  citrus fruit,semi-finished bread,margarine,rea...\n",
       "1                       tropical fruit,yogurt,coffee\n",
       "2                                         whole milk\n",
       "3        pip fruit,yogurt,cream cheese ,meat spreads\n",
       "4  other vegetables,whole milk,condensed milk,lon..."
      ]
     },
     "execution_count": 3,
     "metadata": {},
     "output_type": "execute_result"
    }
   ],
   "source": [
    "df.columns = ['Items']\n",
    "df.head()"
   ]
  },
  {
   "cell_type": "markdown",
   "metadata": {},
   "source": [
    "**Observations**\n",
    "- **Items** is the column name assigned in data set."
   ]
  },
  {
   "cell_type": "markdown",
   "metadata": {},
   "source": [
    "<a id=section303></a>\n",
    "### 3.3 Identify Missing Values"
   ]
  },
  {
   "cell_type": "code",
   "execution_count": 4,
   "metadata": {},
   "outputs": [
    {
     "data": {
      "text/plain": [
       "Items    0\n",
       "dtype: int64"
      ]
     },
     "execution_count": 4,
     "metadata": {},
     "output_type": "execute_result"
    }
   ],
   "source": [
    "df.isnull().sum()"
   ]
  },
  {
   "cell_type": "markdown",
   "metadata": {},
   "source": [
    "**Observations**\n",
    "- There is **no missing values**"
   ]
  },
  {
   "cell_type": "markdown",
   "metadata": {},
   "source": [
    "<a id=section304></a>\n",
    "### 3.4 Identify Rows and Columns"
   ]
  },
  {
   "cell_type": "code",
   "execution_count": 5,
   "metadata": {},
   "outputs": [
    {
     "data": {
      "text/plain": [
       "(9835, 1)"
      ]
     },
     "execution_count": 5,
     "metadata": {},
     "output_type": "execute_result"
    }
   ],
   "source": [
    "df.shape"
   ]
  },
  {
   "cell_type": "markdown",
   "metadata": {},
   "source": [
    "**Observations**\n",
    "- There are **9835 transactions** and **1 column** value of **Items**."
   ]
  },
  {
   "cell_type": "markdown",
   "metadata": {},
   "source": [
    "<a id=section305></a>\n",
    "### 3.5 Identify Unique Item Values"
   ]
  },
  {
   "cell_type": "code",
   "execution_count": 6,
   "metadata": {
    "scrolled": false
   },
   "outputs": [
    {
     "data": {
      "text/plain": [
       "canned beer                                                                                                                                                                                                                260\n",
       "soda                                                                                                                                                                                                                       156\n",
       "whole milk                                                                                                                                                                                                                 121\n",
       "bottled beer                                                                                                                                                                                                               120\n",
       "rolls/buns                                                                                                                                                                                                                 109\n",
       "bottled water                                                                                                                                                                                                               67\n",
       "other vegetables                                                                                                                                                                                                            62\n",
       "newspapers                                                                                                                                                                                                                  54\n",
       "shopping bags                                                                                                                                                                                                               48\n",
       "yogurt                                                                                                                                                                                                                      40\n",
       "coffee                                                                                                                                                                                                                      39\n",
       "pastry                                                                                                                                                                                                                      37\n",
       "chocolate                                                                                                                                                                                                                   35\n",
       "ice cream                                                                                                                                                                                                                   34\n",
       "misc. beverages                                                                                                                                                                                                             31\n",
       "salty snack                                                                                                                                                                                                                 30\n",
       "pip fruit                                                                                                                                                                                                                   28\n",
       "pork                                                                                                                                                                                                                        27\n",
       "pastry,soda                                                                                                                                                                                                                 27\n",
       "photo/film                                                                                                                                                                                                                  27\n",
       "whipped/sour cream                                                                                                                                                                                                          26\n",
       "beef                                                                                                                                                                                                                        26\n",
       "beverages                                                                                                                                                                                                                   26\n",
       "specialty chocolate                                                                                                                                                                                                         26\n",
       "root vegetables                                                                                                                                                                                                             25\n",
       "sausage                                                                                                                                                                                                                     24\n",
       "tropical fruit                                                                                                                                                                                                              23\n",
       "rolls/buns,soda                                                                                                                                                                                                             23\n",
       "fruit/vegetable juice                                                                                                                                                                                                       22\n",
       "specialty bar                                                                                                                                                                                                               21\n",
       "                                                                                                                                                                                                                          ... \n",
       "tropical fruit,yogurt,whipped/sour cream,sliced cheese,coffee,soda,fruit/vegetable juice,hair spray,soap                                                                                                                     1\n",
       "tropical fruit,other vegetables,butter,whipped/sour cream,semi-finished bread,vinegar,fruit/vegetable juice,chocolate,shopping bags                                                                                          1\n",
       "pork,onions,yogurt                                                                                                                                                                                                           1\n",
       "turkey,citrus fruit,tropical fruit,pip fruit,berries,root vegetables,herbs,whole milk,butter,frozen vegetables,sauces,pickled vegetables,bottled water,rubbing alcohol,hygiene articles,napkins,flower (seeds)               1\n",
       "butter milk,hard cheese                                                                                                                                                                                                      1\n",
       "pork,root vegetables,pasta                                                                                                                                                                                                   1\n",
       "dessert,cat food,newspapers                                                                                                                                                                                                  1\n",
       "finished products,other vegetables,butter,cream cheese ,processed cheese,domestic eggs,rolls/buns,pastry,long life bakery product,candy                                                                                      1\n",
       "meat,rolls/buns,soda                                                                                                                                                                                                         1\n",
       "hamburger meat,root vegetables,whole milk,whipped/sour cream,flour,chocolate marshmallow,newspapers                                                                                                                          1\n",
       "chicken,tropical fruit,whole milk,pastry,soda,long life bakery product,waffles,chocolate                                                                                                                                     1\n",
       "other vegetables,hard cheese,processed cheese,cereals,pickled vegetables,long life bakery product,specialty chocolate                                                                                                        1\n",
       "sausage,chicken,grapes,whole milk,cream cheese ,ice cream,domestic eggs,pickled vegetables,soda,chocolate,shopping bags                                                                                                      1\n",
       "sausage,soft cheese,rolls/buns,bottled water,specialty chocolate                                                                                                                                                             1\n",
       "frankfurter,packaged fruit/vegetables,soft cheese,soda                                                                                                                                                                       1\n",
       "chicken,root vegetables,whole milk,rolls/buns,brown bread                                                                                                                                                                    1\n",
       "pork,whole milk,rolls/buns,artif. sweetener,baking powder,specialty chocolate,house keeping products,newspapers                                                                                                              1\n",
       "citrus fruit,root vegetables,other vegetables,dessert,pastry,chocolate,dishes,candles                                                                                                                                        1\n",
       "other vegetables,curd                                                                                                                                                                                                        1\n",
       "tropical fruit,yogurt,whipped/sour cream                                                                                                                                                                                     1\n",
       "citrus fruit,onions,other vegetables,yogurt,beverages,rolls/buns,brown bread,vinegar,bottled water,long life bakery product                                                                                                  1\n",
       "chicken,curd,butter milk,UHT-milk,rolls/buns,fruit/vegetable juice,newspapers                                                                                                                                                1\n",
       "rolls/buns,pot plants                                                                                                                                                                                                        1\n",
       "sausage,chicken,beef,other vegetables,butter,dessert,whipped/sour cream,UHT-milk,soft cheese,frozen meals,brown bread,pasta,oil,specialty fat,pudding powder,pickled vegetables,specialty bar                                1\n",
       "meat,root vegetables,hard cheese,brown bread                                                                                                                                                                                 1\n",
       "pork,beef,citrus fruit,berries,root vegetables,other vegetables,whole milk,yogurt,cream cheese ,vinegar,oil,cat food,specialty chocolate,detergent,dish cleaner,abrasive cleaner,cleaner,hygiene articles,shopping bags      1\n",
       "berries,other vegetables,yogurt,margarine,mustard,fruit/vegetable juice,detergent                                                                                                                                            1\n",
       "chicken,hamburger meat,pip fruit,onions,other vegetables,whole milk,butter,yogurt,whipped/sour cream,white bread,long life bakery product,chocolate                                                                          1\n",
       "frozen vegetables,rolls/buns,pastry                                                                                                                                                                                          1\n",
       "whole milk,curd,yogurt,pastry                                                                                                                                                                                                1\n",
       "Name: Items, Length: 7011, dtype: int64"
      ]
     },
     "execution_count": 6,
     "metadata": {},
     "output_type": "execute_result"
    }
   ],
   "source": [
    "df.Items.value_counts()"
   ]
  },
  {
   "cell_type": "markdown",
   "metadata": {},
   "source": [
    "**Observations**\n",
    "- The list shows that unique items sale count of both individually or combinedly"
   ]
  },
  {
   "cell_type": "markdown",
   "metadata": {},
   "source": [
    "<a id=section4></a>\n",
    "## 4. Exploratory Data Analysis"
   ]
  },
  {
   "cell_type": "markdown",
   "metadata": {},
   "source": [
    "<a id=section401></a>\n",
    "### 4.1 Analysis based on Sales"
   ]
  },
  {
   "cell_type": "code",
   "execution_count": 7,
   "metadata": {},
   "outputs": [
    {
     "data": {
      "image/png": "[encoded data removed]",
      "text/plain": [
       "<Figure size 1080x576 with 1 Axes>"
      ]
     },
     "metadata": {
      "needs_background": "light"
     },
     "output_type": "display_data"
    }
   ],
   "source": [
    "fig  =  plt.figure(figsize = (15,8))\n",
    "sns.countplot(x  =  'Items', data  =  df, order  =  df['Items'].value_counts().iloc[:10].index)\n",
    "plt.xticks(rotation = 90)\n",
    "plt.title('Top 10 selling items')\n",
    "plt.show()"
   ]
  },
  {
   "cell_type": "markdown",
   "metadata": {},
   "source": [
    "**Observations**\n",
    "- The graph shows top 10 selling items in super market.\n",
    "- Most sold single item is **canned beer** with **260** units."
   ]
  },
  {
   "cell_type": "markdown",
   "metadata": {},
   "source": [
    "<a id=section5></a>\n",
    "## 5. Applying Apriori Algorithm"
   ]
  },
  {
   "cell_type": "markdown",
   "metadata": {},
   "source": [
    "<a id=section501></a>\n",
    "### 5.1 Transform Data"
   ]
  },
  {
   "cell_type": "markdown",
   "metadata": {},
   "source": [
    "-  Transfrom the data to make items as columns and each transaction as a row and count same Items bought in one transaction but fill other cloumns of the row with 0 to represent item which are not bought."
   ]
  },
  {
   "cell_type": "code",
   "execution_count": 8,
   "metadata": {},
   "outputs": [
    {
     "data": {
      "text/html": [
       "<div>\n",
       "<style scoped>\n",
       "    .dataframe tbody tr th:only-of-type {\n",
       "        vertical-align: middle;\n",
       "    }\n",
       "\n",
       "    .dataframe tbody tr th {\n",
       "        vertical-align: top;\n",
       "    }\n",
       "\n",
       "    .dataframe thead th {\n",
       "        text-align: right;\n",
       "    }\n",
       "</style>\n",
       "<table border=\"1\" class=\"dataframe\">\n",
       "  <thead>\n",
       "    <tr style=\"text-align: right;\">\n",
       "      <th></th>\n",
       "      <th>Instant food products</th>\n",
       "      <th>UHT-milk</th>\n",
       "      <th>abrasive cleaner</th>\n",
       "      <th>artif. sweetener</th>\n",
       "      <th>baby cosmetics</th>\n",
       "      <th>baby food</th>\n",
       "      <th>bags</th>\n",
       "      <th>baking powder</th>\n",
       "      <th>bathroom cleaner</th>\n",
       "      <th>beef</th>\n",
       "      <th>...</th>\n",
       "      <th>turkey</th>\n",
       "      <th>vinegar</th>\n",
       "      <th>waffles</th>\n",
       "      <th>whipped/sour cream</th>\n",
       "      <th>whisky</th>\n",
       "      <th>white bread</th>\n",
       "      <th>white wine</th>\n",
       "      <th>whole milk</th>\n",
       "      <th>yogurt</th>\n",
       "      <th>zwieback</th>\n",
       "    </tr>\n",
       "  </thead>\n",
       "  <tbody>\n",
       "    <tr>\n",
       "      <th>0</th>\n",
       "      <td>0</td>\n",
       "      <td>0</td>\n",
       "      <td>0</td>\n",
       "      <td>0</td>\n",
       "      <td>0</td>\n",
       "      <td>0</td>\n",
       "      <td>0</td>\n",
       "      <td>0</td>\n",
       "      <td>0</td>\n",
       "      <td>0</td>\n",
       "      <td>...</td>\n",
       "      <td>0</td>\n",
       "      <td>0</td>\n",
       "      <td>0</td>\n",
       "      <td>0</td>\n",
       "      <td>0</td>\n",
       "      <td>0</td>\n",
       "      <td>0</td>\n",
       "      <td>0</td>\n",
       "      <td>0</td>\n",
       "      <td>0</td>\n",
       "    </tr>\n",
       "    <tr>\n",
       "      <th>1</th>\n",
       "      <td>0</td>\n",
       "      <td>0</td>\n",
       "      <td>0</td>\n",
       "      <td>0</td>\n",
       "      <td>0</td>\n",
       "      <td>0</td>\n",
       "      <td>0</td>\n",
       "      <td>0</td>\n",
       "      <td>0</td>\n",
       "      <td>0</td>\n",
       "      <td>...</td>\n",
       "      <td>0</td>\n",
       "      <td>0</td>\n",
       "      <td>0</td>\n",
       "      <td>0</td>\n",
       "      <td>0</td>\n",
       "      <td>0</td>\n",
       "      <td>0</td>\n",
       "      <td>0</td>\n",
       "      <td>1</td>\n",
       "      <td>0</td>\n",
       "    </tr>\n",
       "    <tr>\n",
       "      <th>2</th>\n",
       "      <td>0</td>\n",
       "      <td>0</td>\n",
       "      <td>0</td>\n",
       "      <td>0</td>\n",
       "      <td>0</td>\n",
       "      <td>0</td>\n",
       "      <td>0</td>\n",
       "      <td>0</td>\n",
       "      <td>0</td>\n",
       "      <td>0</td>\n",
       "      <td>...</td>\n",
       "      <td>0</td>\n",
       "      <td>0</td>\n",
       "      <td>0</td>\n",
       "      <td>0</td>\n",
       "      <td>0</td>\n",
       "      <td>0</td>\n",
       "      <td>0</td>\n",
       "      <td>1</td>\n",
       "      <td>0</td>\n",
       "      <td>0</td>\n",
       "    </tr>\n",
       "    <tr>\n",
       "      <th>3</th>\n",
       "      <td>0</td>\n",
       "      <td>0</td>\n",
       "      <td>0</td>\n",
       "      <td>0</td>\n",
       "      <td>0</td>\n",
       "      <td>0</td>\n",
       "      <td>0</td>\n",
       "      <td>0</td>\n",
       "      <td>0</td>\n",
       "      <td>0</td>\n",
       "      <td>...</td>\n",
       "      <td>0</td>\n",
       "      <td>0</td>\n",
       "      <td>0</td>\n",
       "      <td>0</td>\n",
       "      <td>0</td>\n",
       "      <td>0</td>\n",
       "      <td>0</td>\n",
       "      <td>0</td>\n",
       "      <td>1</td>\n",
       "      <td>0</td>\n",
       "    </tr>\n",
       "    <tr>\n",
       "      <th>4</th>\n",
       "      <td>0</td>\n",
       "      <td>0</td>\n",
       "      <td>0</td>\n",
       "      <td>0</td>\n",
       "      <td>0</td>\n",
       "      <td>0</td>\n",
       "      <td>0</td>\n",
       "      <td>0</td>\n",
       "      <td>0</td>\n",
       "      <td>0</td>\n",
       "      <td>...</td>\n",
       "      <td>0</td>\n",
       "      <td>0</td>\n",
       "      <td>0</td>\n",
       "      <td>0</td>\n",
       "      <td>0</td>\n",
       "      <td>0</td>\n",
       "      <td>0</td>\n",
       "      <td>1</td>\n",
       "      <td>0</td>\n",
       "      <td>0</td>\n",
       "    </tr>\n",
       "  </tbody>\n",
       "</table>\n",
       "<p>5 rows × 169 columns</p>\n",
       "</div>"
      ],
      "text/plain": [
       "   Instant food products  UHT-milk  abrasive cleaner  artif. sweetener  \\\n",
       "0                      0         0                 0                 0   \n",
       "1                      0         0                 0                 0   \n",
       "2                      0         0                 0                 0   \n",
       "3                      0         0                 0                 0   \n",
       "4                      0         0                 0                 0   \n",
       "\n",
       "   baby cosmetics  baby food  bags  baking powder  bathroom cleaner  beef  \\\n",
       "0               0          0     0              0                 0     0   \n",
       "1               0          0     0              0                 0     0   \n",
       "2               0          0     0              0                 0     0   \n",
       "3               0          0     0              0                 0     0   \n",
       "4               0          0     0              0                 0     0   \n",
       "\n",
       "   ...  turkey  vinegar  waffles  whipped/sour cream  whisky  white bread  \\\n",
       "0  ...       0        0        0                   0       0            0   \n",
       "1  ...       0        0        0                   0       0            0   \n",
       "2  ...       0        0        0                   0       0            0   \n",
       "3  ...       0        0        0                   0       0            0   \n",
       "4  ...       0        0        0                   0       0            0   \n",
       "\n",
       "   white wine  whole milk  yogurt  zwieback  \n",
       "0           0           0       0         0  \n",
       "1           0           0       1         0  \n",
       "2           0           1       0         0  \n",
       "3           0           0       1         0  \n",
       "4           0           1       0         0  \n",
       "\n",
       "[5 rows x 169 columns]"
      ]
     },
     "execution_count": 8,
     "metadata": {},
     "output_type": "execute_result"
    }
   ],
   "source": [
    "df_encoded = df['Items'].str.get_dummies(',')\n",
    "df_encoded.head()"
   ]
  },
  {
   "cell_type": "code",
   "execution_count": 9,
   "metadata": {},
   "outputs": [],
   "source": [
    "def encode_units(x):\n",
    "    if x <=  0:\n",
    "        return 0\n",
    "    if x >=  1:\n",
    "        return 1\n",
    "df_encoded = df_encoded.applymap(encode_units)"
   ]
  },
  {
   "cell_type": "markdown",
   "metadata": {},
   "source": [
    "<a id=section502></a>\n",
    "### 5.2 Applying Association Rules"
   ]
  },
  {
   "cell_type": "markdown",
   "metadata": {},
   "source": [
    "- Association rules is to determine the optimal thresholds for **support and confidence**.\n",
    "- Support is an indication of how frequently the itemset appears in the dataset.\n",
    "- Confidence is an indication of how often the rule has been found to be true.\n",
    "- **min_support** as **0.01** to be the threshhold"
   ]
  },
  {
   "cell_type": "code",
   "execution_count": 10,
   "metadata": {},
   "outputs": [],
   "source": [
    "frequent_items  =  apriori(df_encoded, min_support = 0.01, use_colnames = True)"
   ]
  },
  {
   "cell_type": "code",
   "execution_count": 11,
   "metadata": {},
   "outputs": [
    {
     "data": {
      "text/html": [
       "<div>\n",
       "<style scoped>\n",
       "    .dataframe tbody tr th:only-of-type {\n",
       "        vertical-align: middle;\n",
       "    }\n",
       "\n",
       "    .dataframe tbody tr th {\n",
       "        vertical-align: top;\n",
       "    }\n",
       "\n",
       "    .dataframe thead th {\n",
       "        text-align: right;\n",
       "    }\n",
       "</style>\n",
       "<table border=\"1\" class=\"dataframe\">\n",
       "  <thead>\n",
       "    <tr style=\"text-align: right;\">\n",
       "      <th></th>\n",
       "      <th>antecedents</th>\n",
       "      <th>consequents</th>\n",
       "      <th>antecedent support</th>\n",
       "      <th>consequent support</th>\n",
       "      <th>support</th>\n",
       "      <th>confidence</th>\n",
       "      <th>lift</th>\n",
       "      <th>leverage</th>\n",
       "      <th>conviction</th>\n",
       "    </tr>\n",
       "  </thead>\n",
       "  <tbody>\n",
       "    <tr>\n",
       "      <th>0</th>\n",
       "      <td>(other vegetables)</td>\n",
       "      <td>(beef)</td>\n",
       "      <td>0.193493</td>\n",
       "      <td>0.052466</td>\n",
       "      <td>0.019725</td>\n",
       "      <td>0.101944</td>\n",
       "      <td>1.943066</td>\n",
       "      <td>0.009574</td>\n",
       "      <td>1.055095</td>\n",
       "    </tr>\n",
       "    <tr>\n",
       "      <th>1</th>\n",
       "      <td>(beef)</td>\n",
       "      <td>(other vegetables)</td>\n",
       "      <td>0.052466</td>\n",
       "      <td>0.193493</td>\n",
       "      <td>0.019725</td>\n",
       "      <td>0.375969</td>\n",
       "      <td>1.943066</td>\n",
       "      <td>0.009574</td>\n",
       "      <td>1.292416</td>\n",
       "    </tr>\n",
       "    <tr>\n",
       "      <th>2</th>\n",
       "      <td>(beef)</td>\n",
       "      <td>(rolls/buns)</td>\n",
       "      <td>0.052466</td>\n",
       "      <td>0.183935</td>\n",
       "      <td>0.013625</td>\n",
       "      <td>0.259690</td>\n",
       "      <td>1.411858</td>\n",
       "      <td>0.003975</td>\n",
       "      <td>1.102329</td>\n",
       "    </tr>\n",
       "    <tr>\n",
       "      <th>3</th>\n",
       "      <td>(rolls/buns)</td>\n",
       "      <td>(beef)</td>\n",
       "      <td>0.183935</td>\n",
       "      <td>0.052466</td>\n",
       "      <td>0.013625</td>\n",
       "      <td>0.074074</td>\n",
       "      <td>1.411858</td>\n",
       "      <td>0.003975</td>\n",
       "      <td>1.023337</td>\n",
       "    </tr>\n",
       "    <tr>\n",
       "      <th>4</th>\n",
       "      <td>(beef)</td>\n",
       "      <td>(root vegetables)</td>\n",
       "      <td>0.052466</td>\n",
       "      <td>0.108998</td>\n",
       "      <td>0.017387</td>\n",
       "      <td>0.331395</td>\n",
       "      <td>3.040367</td>\n",
       "      <td>0.011668</td>\n",
       "      <td>1.332628</td>\n",
       "    </tr>\n",
       "    <tr>\n",
       "      <th>5</th>\n",
       "      <td>(root vegetables)</td>\n",
       "      <td>(beef)</td>\n",
       "      <td>0.108998</td>\n",
       "      <td>0.052466</td>\n",
       "      <td>0.017387</td>\n",
       "      <td>0.159515</td>\n",
       "      <td>3.040367</td>\n",
       "      <td>0.011668</td>\n",
       "      <td>1.127366</td>\n",
       "    </tr>\n",
       "    <tr>\n",
       "      <th>6</th>\n",
       "      <td>(beef)</td>\n",
       "      <td>(whole milk)</td>\n",
       "      <td>0.052466</td>\n",
       "      <td>0.255516</td>\n",
       "      <td>0.021251</td>\n",
       "      <td>0.405039</td>\n",
       "      <td>1.585180</td>\n",
       "      <td>0.007845</td>\n",
       "      <td>1.251315</td>\n",
       "    </tr>\n",
       "    <tr>\n",
       "      <th>7</th>\n",
       "      <td>(whole milk)</td>\n",
       "      <td>(beef)</td>\n",
       "      <td>0.255516</td>\n",
       "      <td>0.052466</td>\n",
       "      <td>0.021251</td>\n",
       "      <td>0.083168</td>\n",
       "      <td>1.585180</td>\n",
       "      <td>0.007845</td>\n",
       "      <td>1.033487</td>\n",
       "    </tr>\n",
       "    <tr>\n",
       "      <th>8</th>\n",
       "      <td>(beef)</td>\n",
       "      <td>(yogurt)</td>\n",
       "      <td>0.052466</td>\n",
       "      <td>0.139502</td>\n",
       "      <td>0.011693</td>\n",
       "      <td>0.222868</td>\n",
       "      <td>1.597601</td>\n",
       "      <td>0.004374</td>\n",
       "      <td>1.107275</td>\n",
       "    </tr>\n",
       "    <tr>\n",
       "      <th>9</th>\n",
       "      <td>(yogurt)</td>\n",
       "      <td>(beef)</td>\n",
       "      <td>0.139502</td>\n",
       "      <td>0.052466</td>\n",
       "      <td>0.011693</td>\n",
       "      <td>0.083819</td>\n",
       "      <td>1.597601</td>\n",
       "      <td>0.004374</td>\n",
       "      <td>1.034222</td>\n",
       "    </tr>\n",
       "  </tbody>\n",
       "</table>\n",
       "</div>"
      ],
      "text/plain": [
       "          antecedents         consequents  antecedent support  \\\n",
       "0  (other vegetables)              (beef)            0.193493   \n",
       "1              (beef)  (other vegetables)            0.052466   \n",
       "2              (beef)        (rolls/buns)            0.052466   \n",
       "3        (rolls/buns)              (beef)            0.183935   \n",
       "4              (beef)   (root vegetables)            0.052466   \n",
       "5   (root vegetables)              (beef)            0.108998   \n",
       "6              (beef)        (whole milk)            0.052466   \n",
       "7        (whole milk)              (beef)            0.255516   \n",
       "8              (beef)            (yogurt)            0.052466   \n",
       "9            (yogurt)              (beef)            0.139502   \n",
       "\n",
       "   consequent support   support  confidence      lift  leverage  conviction  \n",
       "0            0.052466  0.019725    0.101944  1.943066  0.009574    1.055095  \n",
       "1            0.193493  0.019725    0.375969  1.943066  0.009574    1.292416  \n",
       "2            0.183935  0.013625    0.259690  1.411858  0.003975    1.102329  \n",
       "3            0.052466  0.013625    0.074074  1.411858  0.003975    1.023337  \n",
       "4            0.108998  0.017387    0.331395  3.040367  0.011668    1.332628  \n",
       "5            0.052466  0.017387    0.159515  3.040367  0.011668    1.127366  \n",
       "6            0.255516  0.021251    0.405039  1.585180  0.007845    1.251315  \n",
       "7            0.052466  0.021251    0.083168  1.585180  0.007845    1.033487  \n",
       "8            0.139502  0.011693    0.222868  1.597601  0.004374    1.107275  \n",
       "9            0.052466  0.011693    0.083819  1.597601  0.004374    1.034222  "
      ]
     },
     "execution_count": 11,
     "metadata": {},
     "output_type": "execute_result"
    }
   ],
   "source": [
    "rules  =  association_rules(frequent_items, metric = \"lift\", min_threshold = 1)\n",
    "rules.head(10)"
   ]
  },
  {
   "cell_type": "markdown",
   "metadata": {},
   "source": [
    "<a id=section503></a>\n",
    "### 5.3 Confidence Sorting"
   ]
  },
  {
   "cell_type": "markdown",
   "metadata": {},
   "source": [
    "- confidence for sorting purpose and to find the most important relationships."
   ]
  },
  {
   "cell_type": "code",
   "execution_count": 12,
   "metadata": {},
   "outputs": [
    {
     "data": {
      "text/html": [
       "<div>\n",
       "<style scoped>\n",
       "    .dataframe tbody tr th:only-of-type {\n",
       "        vertical-align: middle;\n",
       "    }\n",
       "\n",
       "    .dataframe tbody tr th {\n",
       "        vertical-align: top;\n",
       "    }\n",
       "\n",
       "    .dataframe thead th {\n",
       "        text-align: right;\n",
       "    }\n",
       "</style>\n",
       "<table border=\"1\" class=\"dataframe\">\n",
       "  <thead>\n",
       "    <tr style=\"text-align: right;\">\n",
       "      <th></th>\n",
       "      <th>antecedents</th>\n",
       "      <th>consequents</th>\n",
       "      <th>antecedent support</th>\n",
       "      <th>consequent support</th>\n",
       "      <th>support</th>\n",
       "      <th>confidence</th>\n",
       "      <th>lift</th>\n",
       "      <th>leverage</th>\n",
       "      <th>conviction</th>\n",
       "    </tr>\n",
       "  </thead>\n",
       "  <tbody>\n",
       "    <tr>\n",
       "      <th>420</th>\n",
       "      <td>(root vegetables, citrus fruit)</td>\n",
       "      <td>(other vegetables)</td>\n",
       "      <td>0.017692</td>\n",
       "      <td>0.193493</td>\n",
       "      <td>0.010371</td>\n",
       "      <td>0.586207</td>\n",
       "      <td>3.029608</td>\n",
       "      <td>0.006948</td>\n",
       "      <td>1.949059</td>\n",
       "    </tr>\n",
       "    <tr>\n",
       "      <th>492</th>\n",
       "      <td>(root vegetables, tropical fruit)</td>\n",
       "      <td>(other vegetables)</td>\n",
       "      <td>0.021047</td>\n",
       "      <td>0.193493</td>\n",
       "      <td>0.012303</td>\n",
       "      <td>0.584541</td>\n",
       "      <td>3.020999</td>\n",
       "      <td>0.008231</td>\n",
       "      <td>1.941244</td>\n",
       "    </tr>\n",
       "    <tr>\n",
       "      <th>437</th>\n",
       "      <td>(yogurt, curd)</td>\n",
       "      <td>(whole milk)</td>\n",
       "      <td>0.017285</td>\n",
       "      <td>0.255516</td>\n",
       "      <td>0.010066</td>\n",
       "      <td>0.582353</td>\n",
       "      <td>2.279125</td>\n",
       "      <td>0.005649</td>\n",
       "      <td>1.782567</td>\n",
       "    </tr>\n",
       "    <tr>\n",
       "      <th>413</th>\n",
       "      <td>(other vegetables, butter)</td>\n",
       "      <td>(whole milk)</td>\n",
       "      <td>0.020031</td>\n",
       "      <td>0.255516</td>\n",
       "      <td>0.011490</td>\n",
       "      <td>0.573604</td>\n",
       "      <td>2.244885</td>\n",
       "      <td>0.006371</td>\n",
       "      <td>1.745992</td>\n",
       "    </tr>\n",
       "    <tr>\n",
       "      <th>570</th>\n",
       "      <td>(root vegetables, tropical fruit)</td>\n",
       "      <td>(whole milk)</td>\n",
       "      <td>0.021047</td>\n",
       "      <td>0.255516</td>\n",
       "      <td>0.011998</td>\n",
       "      <td>0.570048</td>\n",
       "      <td>2.230969</td>\n",
       "      <td>0.006620</td>\n",
       "      <td>1.731553</td>\n",
       "    </tr>\n",
       "    <tr>\n",
       "      <th>575</th>\n",
       "      <td>(yogurt, root vegetables)</td>\n",
       "      <td>(whole milk)</td>\n",
       "      <td>0.025826</td>\n",
       "      <td>0.255516</td>\n",
       "      <td>0.014540</td>\n",
       "      <td>0.562992</td>\n",
       "      <td>2.203354</td>\n",
       "      <td>0.007941</td>\n",
       "      <td>1.703594</td>\n",
       "    </tr>\n",
       "    <tr>\n",
       "      <th>442</th>\n",
       "      <td>(domestic eggs, other vegetables)</td>\n",
       "      <td>(whole milk)</td>\n",
       "      <td>0.022267</td>\n",
       "      <td>0.255516</td>\n",
       "      <td>0.012303</td>\n",
       "      <td>0.552511</td>\n",
       "      <td>2.162336</td>\n",
       "      <td>0.006613</td>\n",
       "      <td>1.663694</td>\n",
       "    </tr>\n",
       "    <tr>\n",
       "      <th>592</th>\n",
       "      <td>(whipped/sour cream, yogurt)</td>\n",
       "      <td>(whole milk)</td>\n",
       "      <td>0.020742</td>\n",
       "      <td>0.255516</td>\n",
       "      <td>0.010880</td>\n",
       "      <td>0.524510</td>\n",
       "      <td>2.052747</td>\n",
       "      <td>0.005580</td>\n",
       "      <td>1.565719</td>\n",
       "    </tr>\n",
       "    <tr>\n",
       "      <th>551</th>\n",
       "      <td>(rolls/buns, root vegetables)</td>\n",
       "      <td>(whole milk)</td>\n",
       "      <td>0.024301</td>\n",
       "      <td>0.255516</td>\n",
       "      <td>0.012710</td>\n",
       "      <td>0.523013</td>\n",
       "      <td>2.046888</td>\n",
       "      <td>0.006500</td>\n",
       "      <td>1.560804</td>\n",
       "    </tr>\n",
       "    <tr>\n",
       "      <th>460</th>\n",
       "      <td>(other vegetables, pip fruit)</td>\n",
       "      <td>(whole milk)</td>\n",
       "      <td>0.026131</td>\n",
       "      <td>0.255516</td>\n",
       "      <td>0.013523</td>\n",
       "      <td>0.517510</td>\n",
       "      <td>2.025351</td>\n",
       "      <td>0.006846</td>\n",
       "      <td>1.543003</td>\n",
       "    </tr>\n",
       "  </tbody>\n",
       "</table>\n",
       "</div>"
      ],
      "text/plain": [
       "                           antecedents         consequents  \\\n",
       "420    (root vegetables, citrus fruit)  (other vegetables)   \n",
       "492  (root vegetables, tropical fruit)  (other vegetables)   \n",
       "437                     (yogurt, curd)        (whole milk)   \n",
       "413         (other vegetables, butter)        (whole milk)   \n",
       "570  (root vegetables, tropical fruit)        (whole milk)   \n",
       "575          (yogurt, root vegetables)        (whole milk)   \n",
       "442  (domestic eggs, other vegetables)        (whole milk)   \n",
       "592       (whipped/sour cream, yogurt)        (whole milk)   \n",
       "551      (rolls/buns, root vegetables)        (whole milk)   \n",
       "460      (other vegetables, pip fruit)        (whole milk)   \n",
       "\n",
       "     antecedent support  consequent support   support  confidence      lift  \\\n",
       "420            0.017692            0.193493  0.010371    0.586207  3.029608   \n",
       "492            0.021047            0.193493  0.012303    0.584541  3.020999   \n",
       "437            0.017285            0.255516  0.010066    0.582353  2.279125   \n",
       "413            0.020031            0.255516  0.011490    0.573604  2.244885   \n",
       "570            0.021047            0.255516  0.011998    0.570048  2.230969   \n",
       "575            0.025826            0.255516  0.014540    0.562992  2.203354   \n",
       "442            0.022267            0.255516  0.012303    0.552511  2.162336   \n",
       "592            0.020742            0.255516  0.010880    0.524510  2.052747   \n",
       "551            0.024301            0.255516  0.012710    0.523013  2.046888   \n",
       "460            0.026131            0.255516  0.013523    0.517510  2.025351   \n",
       "\n",
       "     leverage  conviction  \n",
       "420  0.006948    1.949059  \n",
       "492  0.008231    1.941244  \n",
       "437  0.005649    1.782567  \n",
       "413  0.006371    1.745992  \n",
       "570  0.006620    1.731553  \n",
       "575  0.007941    1.703594  \n",
       "442  0.006613    1.663694  \n",
       "592  0.005580    1.565719  \n",
       "551  0.006500    1.560804  \n",
       "460  0.006846    1.543003  "
      ]
     },
     "execution_count": 12,
     "metadata": {},
     "output_type": "execute_result"
    }
   ],
   "source": [
    "rules.sort_values('confidence', ascending  =  False, inplace  =  True)\n",
    "rules.head(10)"
   ]
  },
  {
   "cell_type": "markdown",
   "metadata": {},
   "source": [
    "**Observations**\n",
    "- To draw inference explore the first rule we can see that **root vegetables, citrus fruit** and **other vegetables** are commonly bought together. This makes sense since people who purchase **root vegetables** and **citrus fruit** would like to buy **other vegetables** with it.\n",
    "- The **support** value for the this rule is **0.010371**. This number is calculated by dividing the number of transactions containing **root vegetables, citrus fruit** divided by total number of transactions.\n",
    "- The **confidence** level for the rule is **0.586207** which shows that out of all the transactions that contain **root vegetables and citrus fruit**, 58.62% of the transactions also contain **other vegetables**.\n",
    "- Finally, the **lift** of **3.029608** tells us that **other vegetables** is **3.029608** times more likely to be bought by the customers who buy **root vegetables, citrus fruit** compared to the default likelihood of the sale of **other vegetables**."
   ]
  },
  {
   "cell_type": "code",
   "execution_count": 13,
   "metadata": {},
   "outputs": [
    {
     "data": {
      "text/html": [
       "<div>\n",
       "<style scoped>\n",
       "    .dataframe tbody tr th:only-of-type {\n",
       "        vertical-align: middle;\n",
       "    }\n",
       "\n",
       "    .dataframe tbody tr th {\n",
       "        vertical-align: top;\n",
       "    }\n",
       "\n",
       "    .dataframe thead th {\n",
       "        text-align: right;\n",
       "    }\n",
       "</style>\n",
       "<table border=\"1\" class=\"dataframe\">\n",
       "  <thead>\n",
       "    <tr style=\"text-align: right;\">\n",
       "      <th></th>\n",
       "      <th>antecedents</th>\n",
       "      <th>consequents</th>\n",
       "      <th>antecedent support</th>\n",
       "      <th>consequent support</th>\n",
       "      <th>support</th>\n",
       "      <th>confidence</th>\n",
       "      <th>lift</th>\n",
       "      <th>leverage</th>\n",
       "      <th>conviction</th>\n",
       "    </tr>\n",
       "  </thead>\n",
       "  <tbody>\n",
       "    <tr>\n",
       "      <th>420</th>\n",
       "      <td>(root vegetables, citrus fruit)</td>\n",
       "      <td>(other vegetables)</td>\n",
       "      <td>0.017692</td>\n",
       "      <td>0.193493</td>\n",
       "      <td>0.010371</td>\n",
       "      <td>0.586207</td>\n",
       "      <td>3.029608</td>\n",
       "      <td>0.006948</td>\n",
       "      <td>1.949059</td>\n",
       "    </tr>\n",
       "    <tr>\n",
       "      <th>492</th>\n",
       "      <td>(root vegetables, tropical fruit)</td>\n",
       "      <td>(other vegetables)</td>\n",
       "      <td>0.021047</td>\n",
       "      <td>0.193493</td>\n",
       "      <td>0.012303</td>\n",
       "      <td>0.584541</td>\n",
       "      <td>3.020999</td>\n",
       "      <td>0.008231</td>\n",
       "      <td>1.941244</td>\n",
       "    </tr>\n",
       "    <tr>\n",
       "      <th>437</th>\n",
       "      <td>(yogurt, curd)</td>\n",
       "      <td>(whole milk)</td>\n",
       "      <td>0.017285</td>\n",
       "      <td>0.255516</td>\n",
       "      <td>0.010066</td>\n",
       "      <td>0.582353</td>\n",
       "      <td>2.279125</td>\n",
       "      <td>0.005649</td>\n",
       "      <td>1.782567</td>\n",
       "    </tr>\n",
       "    <tr>\n",
       "      <th>413</th>\n",
       "      <td>(other vegetables, butter)</td>\n",
       "      <td>(whole milk)</td>\n",
       "      <td>0.020031</td>\n",
       "      <td>0.255516</td>\n",
       "      <td>0.011490</td>\n",
       "      <td>0.573604</td>\n",
       "      <td>2.244885</td>\n",
       "      <td>0.006371</td>\n",
       "      <td>1.745992</td>\n",
       "    </tr>\n",
       "    <tr>\n",
       "      <th>570</th>\n",
       "      <td>(root vegetables, tropical fruit)</td>\n",
       "      <td>(whole milk)</td>\n",
       "      <td>0.021047</td>\n",
       "      <td>0.255516</td>\n",
       "      <td>0.011998</td>\n",
       "      <td>0.570048</td>\n",
       "      <td>2.230969</td>\n",
       "      <td>0.006620</td>\n",
       "      <td>1.731553</td>\n",
       "    </tr>\n",
       "  </tbody>\n",
       "</table>\n",
       "</div>"
      ],
      "text/plain": [
       "                           antecedents         consequents  \\\n",
       "420    (root vegetables, citrus fruit)  (other vegetables)   \n",
       "492  (root vegetables, tropical fruit)  (other vegetables)   \n",
       "437                     (yogurt, curd)        (whole milk)   \n",
       "413         (other vegetables, butter)        (whole milk)   \n",
       "570  (root vegetables, tropical fruit)        (whole milk)   \n",
       "\n",
       "     antecedent support  consequent support   support  confidence      lift  \\\n",
       "420            0.017692            0.193493  0.010371    0.586207  3.029608   \n",
       "492            0.021047            0.193493  0.012303    0.584541  3.020999   \n",
       "437            0.017285            0.255516  0.010066    0.582353  2.279125   \n",
       "413            0.020031            0.255516  0.011490    0.573604  2.244885   \n",
       "570            0.021047            0.255516  0.011998    0.570048  2.230969   \n",
       "\n",
       "     leverage  conviction  \n",
       "420  0.006948    1.949059  \n",
       "492  0.008231    1.941244  \n",
       "437  0.005649    1.782567  \n",
       "413  0.006371    1.745992  \n",
       "570  0.006620    1.731553  "
      ]
     },
     "execution_count": 13,
     "metadata": {},
     "output_type": "execute_result"
    }
   ],
   "source": [
    "rules = rules[rules['confidence']>= 0.57]\n",
    "rules.head()"
   ]
  },
  {
   "cell_type": "markdown",
   "metadata": {},
   "source": [
    "**Observations**\n",
    "- **58.23%** of the customers who bought **curd, yogurt** also bought **whole milk**.\n",
    "- **58.45%** of the customers who bought **root vegetables, tropical fruit** also bought **other vegetables**.\n",
    "- **58.62%** of the customers who bought **root vegetables, citrus fruit** also bought **other vegetables**."
   ]
  },
  {
   "cell_type": "markdown",
   "metadata": {},
   "source": [
    "<a id=section504></a>\n",
    "### 5.4 Visualizing Association"
   ]
  },
  {
   "cell_type": "code",
   "execution_count": 14,
   "metadata": {},
   "outputs": [
    {
     "data": {
      "image/png": "[encoded data removed]",
      "text/plain": [
       "<Figure size 720x432 with 1 Axes>"
      ]
     },
     "metadata": {},
     "output_type": "display_data"
    }
   ],
   "source": [
    "rules.antecedents  =  rules.antecedents.apply(lambda x: next(iter(x)))\n",
    "rules.consequents  =  rules.consequents.apply(lambda x: next(iter(x)))\n",
    "fig, ax = plt.subplots(figsize = (10,6))\n",
    "GA = nx.from_pandas_edgelist(rules,source = 'antecedents',target = 'consequents')\n",
    "nx.draw(GA,with_labels = True)"
   ]
  },
  {
   "cell_type": "markdown",
   "metadata": {},
   "source": [
    "<a id=section6></a>\n",
    "## 6. Conclusion"
   ]
  },
  {
   "cell_type": "markdown",
   "metadata": {},
   "source": [
    "- **Whole milk** is the bestseller of this super market and it shows association with 3 items- **curd, root vegetables and other vegetables**. There are a couple of strategies that the super market can adopt to increase its sales considering the association we have seen between **whole milk** and its **3 partners**."
   ]
  },
  {
   "cell_type": "code",
   "execution_count": null,
   "metadata": {},
   "outputs": [],
   "source": []
  }
 ],
 "metadata": {
  "kernelspec": {
   "display_name": "Python 3",
   "language": "python",
   "name": "python3"
  },
  "language_info": {
   "codemirror_mode": {
    "name": "ipython",
    "version": 3
   },
   "file_extension": ".py",
   "mimetype": "text/x-python",
   "name": "python",
   "nbconvert_exporter": "python",
   "pygments_lexer": "ipython3",
   "version": "3.7.3"
  }
 },
 "nbformat": 4,
 "nbformat_minor": 2
}
