{
  "nbformat": 4,
  "nbformat_minor": 0,
  "metadata": {
    "colab": {
      "name": "Untitled0.ipynb",
      "provenance": [],
      "include_colab_link": true
    },
    "kernelspec": {
      "name": "python3",
      "display_name": "Python 3"
    }
  },
  "cells": [
    {
      "cell_type": "markdown",
      "metadata": {
        "id": "view-in-github",
        "colab_type": "text"
      },
      "source": [
        "<a href=\"https://colab.research.google.com/github/PrabhakarAlagarsamy/machine-learning/blob/master/python-exercise.ipynb\" target=\"_parent\"><img src=\"https://colab.research.google.com/assets/colab-badge.svg\" alt=\"Open In Colab\"/></a>"
      ]
    },
    {
      "cell_type": "code",
      "metadata": {
        "id": "s8e_Mr6rlIF4",
        "colab_type": "code",
        "outputId": "f7604d52-f70e-4219-f002-1871a6ec8ab8",
        "colab": {
          "base_uri": "https://localhost:8080/",
          "height": 119
        }
      },
      "source": [
        "print(\"Twinkle, twinkle, little star, \\n\\tHow I wonder what you are! \\n\\t\\tUp above the world so high, \\n\\t\\tLike a diamond in the sky. \\nTwinkle, twinkle, little star, \\n\\tHow I wonder what you are\")"
      ],
      "execution_count": 0,
      "outputs": [
        {
          "output_type": "stream",
          "text": [
            "Twinkle, twinkle, little star, \n",
            "\tHow I wonder what you are! \n",
            "\t\tUp above the world so high, \n",
            "\t\tLike a diamond in the sky. \n",
            "Twinkle, twinkle, little star, \n",
            "\tHow I wonder what you are\n"
          ],
          "name": "stdout"
        }
      ]
    },
    {
      "cell_type": "code",
      "metadata": {
        "id": "zH9l4Imkmk8y",
        "colab_type": "code",
        "outputId": "159158bd-5171-4193-de02-44380400c2ff",
        "colab": {
          "base_uri": "https://localhost:8080/",
          "height": 51
        }
      },
      "source": [
        "#python version\n",
        "import sys\n",
        "print(sys.version)"
      ],
      "execution_count": 0,
      "outputs": [
        {
          "output_type": "stream",
          "text": [
            "3.6.8 (default, Oct  7 2019, 12:59:55) \n",
            "[GCC 8.3.0]\n"
          ],
          "name": "stdout"
        }
      ]
    },
    {
      "cell_type": "code",
      "metadata": {
        "id": "YvtCJXvaoF1g",
        "colab_type": "code",
        "outputId": "39ec790e-1290-4dc4-9fd4-822cd2d298ab",
        "colab": {
          "base_uri": "https://localhost:8080/",
          "height": 34
        }
      },
      "source": [
        "#current date and time\n",
        "import datetime\n",
        "print(datetime.datetime.now())"
      ],
      "execution_count": 0,
      "outputs": [
        {
          "output_type": "stream",
          "text": [
            "2019-12-02 12:41:50.321971\n"
          ],
          "name": "stdout"
        }
      ]
    },
    {
      "cell_type": "code",
      "metadata": {
        "id": "7iwHSMBWo5fc",
        "colab_type": "code",
        "outputId": "1cb0c351-90ad-4106-cea0-f848ef1cfba4",
        "colab": {
          "base_uri": "https://localhost:8080/",
          "height": 51
        }
      },
      "source": [
        "#calculate area of the circle by getting radius as input from user\n",
        "from math import pi\n",
        "r = float(input(\"Radius of the circle: \"))\n",
        "print(\"Area of the circle is \"+str(pi*r**2))"
      ],
      "execution_count": 0,
      "outputs": [
        {
          "output_type": "stream",
          "text": [
            "Radius of the circle: 1.2\n",
            "Area of the circle is 4.523893421169302\n"
          ],
          "name": "stdout"
        }
      ]
    },
    {
      "cell_type": "code",
      "metadata": {
        "id": "87ZcpFT7qdhq",
        "colab_type": "code",
        "outputId": "58c1b82d-3d29-40c9-df01-b294d3e7fc5e",
        "colab": {
          "base_uri": "https://localhost:8080/",
          "height": 68
        }
      },
      "source": [
        "#create list and tuple from given numbers\n",
        "values = input(\"Numbers with comma separation :\")\n",
        "list = values.split(\",\")\n",
        "tuple = tuple(list)\n",
        "print(\"List :\",list)\n",
        "print(\"Tuple :\",tuple)"
      ],
      "execution_count": 0,
      "outputs": [
        {
          "output_type": "stream",
          "text": [
            "Numbers with comma separation :2,5,7,9,11\n",
            "List : ['2', '5', '7', '9', '11']\n",
            "Tuple : ('2', '5', '7', '9', '11')\n"
          ],
          "name": "stdout"
        }
      ]
    },
    {
      "cell_type": "code",
      "metadata": {
        "id": "eYLxD-2euagf",
        "colab_type": "code",
        "outputId": "5122c8f4-732b-4a92-aa5e-41647822bc4e",
        "colab": {
          "base_uri": "https://localhost:8080/",
          "height": 51
        }
      },
      "source": [
        "#print the file extension\n",
        "filename = input(\"File name :\")\n",
        "fileext = filename.split(\".\")\n",
        "print(\"File extension :\",fileext[-1])"
      ],
      "execution_count": 0,
      "outputs": [
        {
          "output_type": "stream",
          "text": [
            "File name :abc.java\n",
            "File extension : java\n"
          ],
          "name": "stdout"
        }
      ]
    },
    {
      "cell_type": "code",
      "metadata": {
        "id": "47bpKzOwvgr3",
        "colab_type": "code",
        "outputId": "467caf40-7c75-4936-d2a2-3050efac6803",
        "colab": {
          "base_uri": "https://localhost:8080/",
          "height": 34
        }
      },
      "source": [
        "#print the first and last value from list\n",
        "list = [\"Red\", \"Green\", \"Blue\", \"White\"]\n",
        "print(\"First and Last values :\",list[0],list[-1])"
      ],
      "execution_count": 0,
      "outputs": [
        {
          "output_type": "stream",
          "text": [
            "First and Last values : Red White\n"
          ],
          "name": "stdout"
        }
      ]
    },
    {
      "cell_type": "code",
      "metadata": {
        "id": "hYtON6ggw6DK",
        "colab_type": "code",
        "outputId": "18939823-b82c-4499-c004-1da557afc907",
        "colab": {
          "base_uri": "https://localhost:8080/",
          "height": 34
        }
      },
      "source": [
        "#print given numbers in date format\n",
        "date = (11,12,2019)\n",
        "print(\"The date is %i/%i/%i\"%date)"
      ],
      "execution_count": 0,
      "outputs": [
        {
          "output_type": "stream",
          "text": [
            "The date is 11/12/2019\n"
          ],
          "name": "stdout"
        }
      ]
    },
    {
      "cell_type": "code",
      "metadata": {
        "id": "WcT1kwyUy6oZ",
        "colab_type": "code",
        "outputId": "f44257ca-f23d-4c06-80cb-dc80eb70c7bd",
        "colab": {
          "base_uri": "https://localhost:8080/",
          "height": 51
        }
      },
      "source": [
        "#computes the value of n+nn+nnn\n",
        "n = int(input(\"Enter a number :\"))\n",
        "n1 = int(\"%s\"%n)\n",
        "n2 = int(\"%s%s\"%(n,n))\n",
        "n3 = int(\"%s%s%s\"%(n,n,n))\n",
        "print(\"n+nn+nnn of given number :\",n1+n2+n3)"
      ],
      "execution_count": 0,
      "outputs": [
        {
          "output_type": "stream",
          "text": [
            "Enter a number :5\n",
            "n+nn+nnn of given number : 615\n"
          ],
          "name": "stdout"
        }
      ]
    },
    {
      "cell_type": "code",
      "metadata": {
        "id": "9T1wDeJg1NHj",
        "colab_type": "code",
        "outputId": "9f680187-e108-4642-de28-1d0ac808bc73",
        "colab": {
          "base_uri": "https://localhost:8080/",
          "height": 204
        }
      },
      "source": [
        "#print the calendar of a given month and year\n",
        "import calendar\n",
        "y=int(input(\"Year :\"))\n",
        "m=int(input(\"Month :\"))\n",
        "print(calendar.month(y,m))"
      ],
      "execution_count": 0,
      "outputs": [
        {
          "output_type": "stream",
          "text": [
            "Year :2019\n",
            "Month :12\n",
            "   December 2019\n",
            "Mo Tu We Th Fr Sa Su\n",
            "                   1\n",
            " 2  3  4  5  6  7  8\n",
            " 9 10 11 12 13 14 15\n",
            "16 17 18 19 20 21 22\n",
            "23 24 25 26 27 28 29\n",
            "30 31\n",
            "\n"
          ],
          "name": "stdout"
        }
      ]
    },
    {
      "cell_type": "code",
      "metadata": {
        "id": "e_9VvygA21bu",
        "colab_type": "code",
        "outputId": "d3789059-bf1c-4e4e-ee03-e736ac960832",
        "colab": {
          "base_uri": "https://localhost:8080/",
          "height": 34
        }
      },
      "source": [
        "#calculate number of days between two dates\n",
        "from datetime import date\n",
        "fd = date(2019,12,2)\n",
        "ld = date(2019,12,7)\n",
        "print(\"Number of days between given dates :\",(ld-fd).days)"
      ],
      "execution_count": 0,
      "outputs": [
        {
          "output_type": "stream",
          "text": [
            "Number of days between given dates : 5\n"
          ],
          "name": "stdout"
        }
      ]
    },
    {
      "cell_type": "code",
      "metadata": {
        "id": "ZhuNCX4b7hWJ",
        "colab_type": "code",
        "outputId": "2cd37f6b-301c-4c42-80cb-0fa3ca2b4176",
        "colab": {
          "base_uri": "https://localhost:8080/",
          "height": 51
        }
      },
      "source": [
        "#Add Is to start of the string if it doesn't have\n",
        "def new_string(str):\n",
        "  if len(str) >= 2 and str[:2] == \"Is\":\n",
        "    return str\n",
        "  return \"Is\" + str\n",
        "\n",
        "print(new_string(\"Array\"))\n",
        "print(new_string(\"IsEmpty\"))"
      ],
      "execution_count": 0,
      "outputs": [
        {
          "output_type": "stream",
          "text": [
            "IsArray\n",
            "IsEmpty\n"
          ],
          "name": "stdout"
        }
      ]
    },
    {
      "cell_type": "code",
      "metadata": {
        "id": "QspXLuWJ872Q",
        "colab_type": "code",
        "outputId": "46fb9455-4dc5-4e07-a852-5b5aa6b37d49",
        "colab": {
          "base_uri": "https://localhost:8080/",
          "height": 51
        }
      },
      "source": [
        "#print a string which is n copies of a given string\n",
        "def larger_string(str, n):\n",
        "   result = \"\"\n",
        "   for i in range(n):\n",
        "      result = result + str\n",
        "   return result\n",
        "\n",
        "print(larger_string('.java', 2))\n",
        "print(larger_string('.py', 3))"
      ],
      "execution_count": 0,
      "outputs": [
        {
          "output_type": "stream",
          "text": [
            ".java.java\n",
            ".py.py.py\n"
          ],
          "name": "stdout"
        }
      ]
    },
    {
      "cell_type": "code",
      "metadata": {
        "id": "Ug8QjjAt-o19",
        "colab_type": "code",
        "colab": {}
      },
      "source": [
        "#count the number 4 in a given list\n",
        "def list_count_4(nums):\n",
        "  count = 0  \n",
        "  for num in nums:\n",
        "    if num == 4:\n",
        "      count = count + 1\n",
        "\n",
        "  return count\n",
        "\n",
        "print(list_count_4([1, 4, 6, 7, 4]))\n",
        "print(list_count_4([1, 4, 6, 4, 7, 4]))"
      ],
      "execution_count": 0,
      "outputs": []
    },
    {
      "cell_type": "code",
      "metadata": {
        "id": "DpCGxuN9BgwS",
        "colab_type": "code",
        "outputId": "a84f7e26-bea3-4316-d018-0a7ea96fb220",
        "colab": {
          "base_uri": "https://localhost:8080/",
          "height": 51
        }
      },
      "source": [
        "#whether a passed letter is a vowel or not\n",
        "def is_vowel(char):\n",
        "    all_vowels = 'aeiou'\n",
        "    return char in all_vowels\n",
        "print(is_vowel('c'))\n",
        "print(is_vowel('e'))"
      ],
      "execution_count": 0,
      "outputs": [
        {
          "output_type": "stream",
          "text": [
            "False\n",
            "True\n"
          ],
          "name": "stdout"
        }
      ]
    },
    {
      "cell_type": "code",
      "metadata": {
        "id": "HRbO4LpECrC7",
        "colab_type": "code",
        "colab": {}
      },
      "source": [
        "#create a histogram from a given list of integers\n",
        "def histogram( items ):\n",
        "    for n in items:\n",
        "        output = ''\n",
        "        times = n\n",
        "        while( times > 0 ):\n",
        "          output += '*'\n",
        "          times = times - 1\n",
        "        print(output)\n",
        "\n",
        "histogram([2, 3, 6, 5])"
      ],
      "execution_count": 0,
      "outputs": []
    },
    {
      "cell_type": "code",
      "metadata": {
        "id": "kyHA6LoVEAp4",
        "colab_type": "code",
        "colab": {}
      },
      "source": [
        "#concatenate all elements in a list\n",
        "def concatenate_list_data(list):\n",
        "    result= ''\n",
        "    for element in list:\n",
        "        result += str(element)\n",
        "    return result\n",
        "\n",
        "print(concatenate_list_data([1, 5, 12, 2]))"
      ],
      "execution_count": 0,
      "outputs": []
    },
    {
      "cell_type": "code",
      "metadata": {
        "id": "mfj7onDfF9uj",
        "colab_type": "code",
        "outputId": "57f62f7c-3f3c-4eef-934e-1325dc653bf9",
        "colab": {
          "base_uri": "https://localhost:8080/",
          "height": 34
        }
      },
      "source": [
        "#print out a set containing all the colors from color_list_1 which are not present in color_list_2\n",
        "color_list_1 = set([\"White\", \"Black\", \"Red\"])\n",
        "color_list_2 = set([\"Red\", \"Green\"])\n",
        "\n",
        "print(color_list_1.difference(color_list_2))"
      ],
      "execution_count": 0,
      "outputs": [
        {
          "output_type": "stream",
          "text": [
            "{'White', 'Black'}\n"
          ],
          "name": "stdout"
        }
      ]
    },
    {
      "cell_type": "code",
      "metadata": {
        "id": "IEv1-CtTHnNv",
        "colab_type": "code",
        "colab": {}
      },
      "source": [
        "#greatest common divisor (GCD) of two positive integers\n",
        "def gcd(x, y):\n",
        "    gcd = 1\n",
        "    \n",
        "    if x % y == 0:\n",
        "        return y\n",
        "    \n",
        "    for k in range(int(y / 2), 0, -1):\n",
        "        if x % k == 0 and y % k == 0:\n",
        "            gcd = k\n",
        "            break  \n",
        "    return gcd\n",
        "\n",
        "print(gcd(12, 17))\n",
        "print(gcd(4, 6))\n"
      ],
      "execution_count": 0,
      "outputs": []
    },
    {
      "cell_type": "code",
      "metadata": {
        "id": "wZ6JlHQTINd9",
        "colab_type": "code",
        "outputId": "b2ea67fe-8c31-4e7c-9be7-423fade092cb",
        "colab": {
          "base_uri": "https://localhost:8080/",
          "height": 51
        }
      },
      "source": [
        "#least common multiple (LCM) of two positive integers\n",
        "def lcm(x, y):\n",
        "   if x > y:\n",
        "       z = x\n",
        "   else:\n",
        "       z = y\n",
        "\n",
        "   while(True):\n",
        "       if((z % x == 0) and (z % y == 0)):\n",
        "           lcm = z\n",
        "           break\n",
        "       z += 1\n",
        "\n",
        "   return lcm\n",
        "print(lcm(4, 6))\n",
        "print(lcm(15, 17))"
      ],
      "execution_count": 0,
      "outputs": [
        {
          "output_type": "stream",
          "text": [
            "12\n",
            "255\n"
          ],
          "name": "stdout"
        }
      ]
    },
    {
      "cell_type": "code",
      "metadata": {
        "id": "oHlKRwj5bXA_",
        "colab_type": "code",
        "outputId": "fa86d070-a626-4be7-cfcf-4103bd4bb0f3",
        "colab": {
          "base_uri": "https://localhost:8080/",
          "height": 34
        }
      },
      "source": [
        "#future value of a specified principal amount, rate of interest, and a number of years\n",
        "amt = 10000\n",
        "int = 3.5\n",
        "years = 7\n",
        "\n",
        "future_value  = amt*((1+(0.01*int)) ** years)\n",
        "print(round(future_value,2))"
      ],
      "execution_count": 0,
      "outputs": [
        {
          "output_type": "stream",
          "text": [
            "12722.79\n"
          ],
          "name": "stdout"
        }
      ]
    },
    {
      "cell_type": "code",
      "metadata": {
        "id": "NmGG-ILBb3NJ",
        "colab_type": "code",
        "colab": {}
      },
      "source": [
        "#compute the distance between the points\n",
        "import math\n",
        "p1 = [4, 0]\n",
        "p2 = [6, 6]\n",
        "distance = math.sqrt( ((p1[0]-p2[0])**2)+((p1[1]-p2[1])**2) )\n",
        "\n",
        "print(distance)"
      ],
      "execution_count": 0,
      "outputs": []
    },
    {
      "cell_type": "code",
      "metadata": {
        "id": "fQP6CwCscTBi",
        "colab_type": "code",
        "outputId": "faf796b3-45f8-4027-babf-cb25576dc32e",
        "colab": {
          "base_uri": "https://localhost:8080/",
          "height": 34
        }
      },
      "source": [
        "#check whether a file exists\n",
        "import os.path\n",
        "print(os.path.isfile('abc.txt'))"
      ],
      "execution_count": 0,
      "outputs": [
        {
          "output_type": "stream",
          "text": [
            "False\n"
          ],
          "name": "stdout"
        }
      ]
    },
    {
      "cell_type": "code",
      "metadata": {
        "id": "RFiZZGaZcy_7",
        "colab_type": "code",
        "outputId": "7135520f-3c17-400c-aa19-a62eaa02d824",
        "colab": {
          "base_uri": "https://localhost:8080/",
          "height": 34
        }
      },
      "source": [
        "#determine if a Python shell is executing in 32bit or 64bit mode on OS\n",
        "import struct\n",
        "print(struct.calcsize(\"P\") * 8)"
      ],
      "execution_count": 0,
      "outputs": [
        {
          "output_type": "stream",
          "text": [
            "64\n"
          ],
          "name": "stdout"
        }
      ]
    },
    {
      "cell_type": "code",
      "metadata": {
        "id": "ricXZcJpdVaF",
        "colab_type": "code",
        "outputId": "177bdc6d-1ec6-4ed0-ca1e-100fd12526ac",
        "colab": {
          "base_uri": "https://localhost:8080/",
          "height": 68
        }
      },
      "source": [
        "#get OS name, platform and release information\n",
        "import platform\n",
        "import os\n",
        "print(os.name)\n",
        "print(platform.system())\n",
        "print(platform.release())"
      ],
      "execution_count": 0,
      "outputs": [
        {
          "output_type": "stream",
          "text": [
            "posix\n",
            "Linux\n",
            "4.14.137+\n"
          ],
          "name": "stdout"
        }
      ]
    },
    {
      "cell_type": "code",
      "metadata": {
        "id": "Tt0AUT1rd06F",
        "colab_type": "code",
        "outputId": "95cc56b3-0f63-431a-8132-9f9185fcad89",
        "colab": {
          "base_uri": "https://localhost:8080/",
          "height": 34
        }
      },
      "source": [
        "#locate Python site-packages\n",
        "import site; \n",
        "print(site.getsitepackages())"
      ],
      "execution_count": 0,
      "outputs": [
        {
          "output_type": "stream",
          "text": [
            "['/usr/local/lib/python3.6/dist-packages', '/usr/lib/python3/dist-packages', '/usr/lib/python3.6/dist-packages']\n"
          ],
          "name": "stdout"
        }
      ]
    },
    {
      "cell_type": "code",
      "metadata": {
        "id": "7JsHJRwseWC4",
        "colab_type": "code",
        "colab": {}
      },
      "source": [
        "#call an external command in Python\n",
        "from subprocess import call\n",
        "call([\"ls\", \"-l\"])"
      ],
      "execution_count": 0,
      "outputs": []
    },
    {
      "cell_type": "code",
      "metadata": {
        "id": "lb3zU4bJe3Vu",
        "colab_type": "code",
        "outputId": "4a0a255e-e37e-4aff-f4da-1453b87e59ea",
        "colab": {
          "base_uri": "https://localhost:8080/",
          "height": 34
        }
      },
      "source": [
        "#get the path and name of the file that is currently executing\n",
        "import os\n",
        "print(\"Current File Name : \",os.path.realpath('__file__'))"
      ],
      "execution_count": 0,
      "outputs": [
        {
          "output_type": "stream",
          "text": [
            "Current File Name :  /content/__file__\n"
          ],
          "name": "stdout"
        }
      ]
    },
    {
      "cell_type": "code",
      "metadata": {
        "id": "xoiGJlJxgt3f",
        "colab_type": "code",
        "outputId": "a0bb01c7-6314-47c8-9a04-4b3f3c23d196",
        "colab": {
          "base_uri": "https://localhost:8080/",
          "height": 34
        }
      },
      "source": [
        "#number of CPUs using\n",
        "import multiprocessing\n",
        "print(multiprocessing.cpu_count())"
      ],
      "execution_count": 0,
      "outputs": [
        {
          "output_type": "stream",
          "text": [
            "2\n"
          ],
          "name": "stdout"
        }
      ]
    },
    {
      "cell_type": "code",
      "metadata": {
        "id": "fEa7hABLhN-E",
        "colab_type": "code",
        "outputId": "ca32a6ad-5d2c-4b1b-df97-33596dcaed36",
        "colab": {
          "base_uri": "https://localhost:8080/",
          "height": 34
        }
      },
      "source": [
        "#list all files in a directory in Python\n",
        "from os import listdir\n",
        "from os.path import isfile, join\n",
        "files_list = [f for f in listdir('/home') if isfile(join('/home', f))]\n",
        "print(files_list);"
      ],
      "execution_count": 0,
      "outputs": [
        {
          "output_type": "stream",
          "text": [
            "[]\n"
          ],
          "name": "stdout"
        }
      ]
    },
    {
      "cell_type": "code",
      "metadata": {
        "id": "6DA_Ea50lQWJ",
        "colab_type": "code",
        "outputId": "037b0c4b-2b58-4d87-dfd4-e5d8efaa657a",
        "colab": {
          "base_uri": "https://localhost:8080/",
          "height": 34
        }
      },
      "source": [
        "#print without newline or space\n",
        "for i in range(0, 10):\n",
        "    print('*', end=\"\")"
      ],
      "execution_count": 0,
      "outputs": [
        {
          "output_type": "stream",
          "text": [
            "**********"
          ],
          "name": "stdout"
        }
      ]
    },
    {
      "cell_type": "code",
      "metadata": {
        "id": "pdo2d4H6mXbI",
        "colab_type": "code",
        "outputId": "cb0bede2-c172-4018-9544-b2b6193c883e",
        "colab": {
          "base_uri": "https://localhost:8080/",
          "height": 459
        }
      },
      "source": [
        "#determine profiling of Python programs\n",
        "#A profile is a set of statistics that describes how often and for how long various parts of the program executed\n",
        "import cProfile\n",
        "def sum():\n",
        "    print(1+2)\n",
        "cProfile.run('sum()')"
      ],
      "execution_count": 0,
      "outputs": [
        {
          "output_type": "stream",
          "text": [
            "3\n",
            "         39 function calls in 0.001 seconds\n",
            "\n",
            "   Ordered by: standard name\n",
            "\n",
            "   ncalls  tottime  percall  cumtime  percall filename:lineno(function)\n",
            "        1    0.000    0.000    0.001    0.001 <ipython-input-37-db52c97772c7>:2(sum)\n",
            "        1    0.000    0.000    0.001    0.001 <string>:1(<module>)\n",
            "        3    0.000    0.000    0.001    0.000 iostream.py:180(schedule)\n",
            "        2    0.000    0.000    0.000    0.000 iostream.py:284(_is_master_process)\n",
            "        2    0.000    0.000    0.000    0.000 iostream.py:297(_schedule_flush)\n",
            "        2    0.000    0.000    0.001    0.001 iostream.py:342(write)\n",
            "        3    0.000    0.000    0.000    0.000 iostream.py:87(_event_pipe)\n",
            "        3    0.001    0.000    0.001    0.000 socket.py:333(send)\n",
            "        3    0.000    0.000    0.000    0.000 threading.py:1062(_wait_for_tstate_lock)\n",
            "        3    0.000    0.000    0.000    0.000 threading.py:1104(is_alive)\n",
            "        3    0.000    0.000    0.000    0.000 threading.py:506(is_set)\n",
            "        1    0.000    0.000    0.001    0.001 {built-in method builtins.exec}\n",
            "        2    0.000    0.000    0.000    0.000 {built-in method builtins.isinstance}\n",
            "        1    0.000    0.000    0.001    0.001 {built-in method builtins.print}\n",
            "        2    0.000    0.000    0.000    0.000 {built-in method posix.getpid}\n",
            "        3    0.000    0.000    0.000    0.000 {built-in method posix.urandom}\n",
            "        3    0.000    0.000    0.000    0.000 {method 'acquire' of '_thread.lock' objects}\n",
            "        1    0.000    0.000    0.000    0.000 {method 'disable' of '_lsprof.Profiler' objects}\n",
            "\n",
            "\n"
          ],
          "name": "stdout"
        }
      ]
    },
    {
      "cell_type": "code",
      "metadata": {
        "id": "wO7MG3YYippH",
        "colab_type": "code",
        "colab": {
          "base_uri": "https://localhost:8080/",
          "height": 34
        },
        "outputId": "f02e7226-1254-4bc0-fbd7-9ede39a14079"
      },
      "source": [
        "#access environment variables\n",
        "import os\n",
        "print(os.environ['HOME'])"
      ],
      "execution_count": 1,
      "outputs": [
        {
          "output_type": "stream",
          "text": [
            "/root\n"
          ],
          "name": "stdout"
        }
      ]
    },
    {
      "cell_type": "code",
      "metadata": {
        "id": "V8xHaAOpjI0j",
        "colab_type": "code",
        "colab": {
          "base_uri": "https://localhost:8080/",
          "height": 34
        },
        "outputId": "d20de09a-916a-42b9-821a-436445608ae8"
      },
      "source": [
        "#get the current username\n",
        "import getpass\n",
        "print(getpass.getuser())"
      ],
      "execution_count": 2,
      "outputs": [
        {
          "output_type": "stream",
          "text": [
            "root\n"
          ],
          "name": "stdout"
        }
      ]
    },
    {
      "cell_type": "code",
      "metadata": {
        "id": "w4a4nukgnLSM",
        "colab_type": "code",
        "colab": {
          "base_uri": "https://localhost:8080/",
          "height": 34
        },
        "outputId": "9f416782-8f8e-4c21-801d-e56963528c9e"
      },
      "source": [
        "#get an absolute file path\n",
        "import os\n",
        "def absolute_file_path(path_fname):\n",
        "        return os.path.abspath(path_fname)        \n",
        "print(\"Absolute file path: \",absolute_file_path(\"test.txt\"))"
      ],
      "execution_count": 5,
      "outputs": [
        {
          "output_type": "stream",
          "text": [
            "Absolute file path:  /content/test.txt\n"
          ],
          "name": "stdout"
        }
      ]
    },
    {
      "cell_type": "code",
      "metadata": {
        "id": "2vcZxc39okoM",
        "colab_type": "code",
        "colab": {
          "base_uri": "https://localhost:8080/",
          "height": 316
        },
        "outputId": "e4698b1c-9af9-4c0e-aa3e-b1fff610dc2c"
      },
      "source": [
        "#get file creation and modification date/times\n",
        "import os.path, time\n",
        "print(\"Last modified: %s\" % time.ctime(os.path.getmtime(\"*.*\")))\n",
        "print(\"Created: %s\" % time.ctime(os.path.getctime(\"*.*\")))"
      ],
      "execution_count": 13,
      "outputs": [
        {
          "output_type": "error",
          "ename": "FileNotFoundError",
          "evalue": "ignored",
          "traceback": [
            "\u001b[0;31m---------------------------------------------------------------------------\u001b[0m",
            "\u001b[0;31mFileNotFoundError\u001b[0m                         Traceback (most recent call last)",
            "\u001b[0;32m<ipython-input-13-7a0e81ca3f59>\u001b[0m in \u001b[0;36m<module>\u001b[0;34m()\u001b[0m\n\u001b[1;32m      1\u001b[0m \u001b[0;32mimport\u001b[0m \u001b[0mos\u001b[0m\u001b[0;34m.\u001b[0m\u001b[0mpath\u001b[0m\u001b[0;34m,\u001b[0m \u001b[0mtime\u001b[0m\u001b[0;34m\u001b[0m\u001b[0;34m\u001b[0m\u001b[0m\n\u001b[0;32m----> 2\u001b[0;31m \u001b[0mprint\u001b[0m\u001b[0;34m(\u001b[0m\u001b[0;34m\"Last modified: %s\"\u001b[0m \u001b[0;34m%\u001b[0m \u001b[0mtime\u001b[0m\u001b[0;34m.\u001b[0m\u001b[0mctime\u001b[0m\u001b[0;34m(\u001b[0m\u001b[0mos\u001b[0m\u001b[0;34m.\u001b[0m\u001b[0mpath\u001b[0m\u001b[0;34m.\u001b[0m\u001b[0mgetmtime\u001b[0m\u001b[0;34m(\u001b[0m\u001b[0;34m\"*.*\"\u001b[0m\u001b[0;34m)\u001b[0m\u001b[0;34m)\u001b[0m\u001b[0;34m)\u001b[0m\u001b[0;34m\u001b[0m\u001b[0;34m\u001b[0m\u001b[0m\n\u001b[0m\u001b[1;32m      3\u001b[0m \u001b[0mprint\u001b[0m\u001b[0;34m(\u001b[0m\u001b[0;34m\"Created: %s\"\u001b[0m \u001b[0;34m%\u001b[0m \u001b[0mtime\u001b[0m\u001b[0;34m.\u001b[0m\u001b[0mctime\u001b[0m\u001b[0;34m(\u001b[0m\u001b[0mos\u001b[0m\u001b[0;34m.\u001b[0m\u001b[0mpath\u001b[0m\u001b[0;34m.\u001b[0m\u001b[0mgetctime\u001b[0m\u001b[0;34m(\u001b[0m\u001b[0;34m\"*.*\"\u001b[0m\u001b[0;34m)\u001b[0m\u001b[0;34m)\u001b[0m\u001b[0;34m)\u001b[0m\u001b[0;34m\u001b[0m\u001b[0;34m\u001b[0m\u001b[0m\n",
            "\u001b[0;32m/usr/lib/python3.6/genericpath.py\u001b[0m in \u001b[0;36mgetmtime\u001b[0;34m(filename)\u001b[0m\n\u001b[1;32m     53\u001b[0m \u001b[0;32mdef\u001b[0m \u001b[0mgetmtime\u001b[0m\u001b[0;34m(\u001b[0m\u001b[0mfilename\u001b[0m\u001b[0;34m)\u001b[0m\u001b[0;34m:\u001b[0m\u001b[0;34m\u001b[0m\u001b[0;34m\u001b[0m\u001b[0m\n\u001b[1;32m     54\u001b[0m     \u001b[0;34m\"\"\"Return the last modification time of a file, reported by os.stat().\"\"\"\u001b[0m\u001b[0;34m\u001b[0m\u001b[0;34m\u001b[0m\u001b[0m\n\u001b[0;32m---> 55\u001b[0;31m     \u001b[0;32mreturn\u001b[0m \u001b[0mos\u001b[0m\u001b[0;34m.\u001b[0m\u001b[0mstat\u001b[0m\u001b[0;34m(\u001b[0m\u001b[0mfilename\u001b[0m\u001b[0;34m)\u001b[0m\u001b[0;34m.\u001b[0m\u001b[0mst_mtime\u001b[0m\u001b[0;34m\u001b[0m\u001b[0;34m\u001b[0m\u001b[0m\n\u001b[0m\u001b[1;32m     56\u001b[0m \u001b[0;34m\u001b[0m\u001b[0m\n\u001b[1;32m     57\u001b[0m \u001b[0;34m\u001b[0m\u001b[0m\n",
            "\u001b[0;31mFileNotFoundError\u001b[0m: [Errno 2] No such file or directory: '*.*'"
          ]
        }
      ]
    },
    {
      "cell_type": "code",
      "metadata": {
        "id": "QUo4JRffssME",
        "colab_type": "code",
        "colab": {
          "base_uri": "https://localhost:8080/",
          "height": 34
        },
        "outputId": "341f371b-4eb3-4629-f672-20dfddf7df74"
      },
      "source": [
        "#sort files by date\n",
        "import glob\n",
        "import os\n",
        "\n",
        "files = glob.glob(\"/content/*.*\")\n",
        "files.sort(key=os.path.getmtime)\n",
        "print(\"\\n\".join(files))"
      ],
      "execution_count": 14,
      "outputs": [
        {
          "output_type": "stream",
          "text": [
            "\n"
          ],
          "name": "stdout"
        }
      ]
    },
    {
      "cell_type": "code",
      "metadata": {
        "id": "opbjQCJ61RmI",
        "colab_type": "code",
        "colab": {
          "base_uri": "https://localhost:8080/",
          "height": 204
        },
        "outputId": "b12648f9-2799-4c27-b602-d007aa81fe51"
      },
      "source": [
        "#copyright information\n",
        "import sys\n",
        "print(sys.copyright)"
      ],
      "execution_count": 15,
      "outputs": [
        {
          "output_type": "stream",
          "text": [
            "Copyright (c) 2001-2018 Python Software Foundation.\n",
            "All Rights Reserved.\n",
            "\n",
            "Copyright (c) 2000 BeOpen.com.\n",
            "All Rights Reserved.\n",
            "\n",
            "Copyright (c) 1995-2001 Corporation for National Research Initiatives.\n",
            "All Rights Reserved.\n",
            "\n",
            "Copyright (c) 1991-1995 Stichting Mathematisch Centrum, Amsterdam.\n",
            "All Rights Reserved.\n"
          ],
          "name": "stdout"
        }
      ]
    },
    {
      "cell_type": "code",
      "metadata": {
        "id": "Se6zo9_k2GBM",
        "colab_type": "code",
        "colab": {
          "base_uri": "https://localhost:8080/",
          "height": 34
        },
        "outputId": "4c4cb3b4-8259-49fc-8064-7d178fb2f6fe"
      },
      "source": [
        "#whether the system is a big-endian platform or little-endian platform\n",
        "import sys\n",
        "print(sys.byteorder)"
      ],
      "execution_count": 16,
      "outputs": [
        {
          "output_type": "stream",
          "text": [
            "little\n"
          ],
          "name": "stdout"
        }
      ]
    },
    {
      "cell_type": "code",
      "metadata": {
        "id": "0kxHUAnv2xed",
        "colab_type": "code",
        "colab": {
          "base_uri": "https://localhost:8080/",
          "height": 153
        },
        "outputId": "1231b9e9-5f81-4a66-9712-4a9329bd95c3"
      },
      "source": [
        "#available built-in modules\n",
        "#import sys\n",
        "import textwrap\n",
        "module_name = ', '.join(sorted(sys.builtin_module_names))\n",
        "print(textwrap.fill(module_name, width=70))"
      ],
      "execution_count": 17,
      "outputs": [
        {
          "output_type": "stream",
          "text": [
            "_ast, _bisect, _blake2, _codecs, _collections, _datetime,\n",
            "_elementtree, _functools, _heapq, _imp, _io, _locale, _md5, _operator,\n",
            "_pickle, _posixsubprocess, _random, _sha1, _sha256, _sha3, _sha512,\n",
            "_signal, _socket, _sre, _stat, _string, _struct, _symtable, _thread,\n",
            "_tracemalloc, _warnings, _weakref, array, atexit, binascii, builtins,\n",
            "cmath, errno, faulthandler, fcntl, gc, grp, itertools, marshal, math,\n",
            "posix, pwd, pyexpat, select, spwd, sys, syslog, time, unicodedata,\n",
            "xxsubtype, zipimport, zlib\n"
          ],
          "name": "stdout"
        }
      ]
    },
    {
      "cell_type": "code",
      "metadata": {
        "id": "VNVScfFZ8l1n",
        "colab_type": "code",
        "colab": {
          "base_uri": "https://localhost:8080/",
          "height": 34
        },
        "outputId": "7a44194d-4f95-43d8-a4aa-51a51c8cbf90"
      },
      "source": [
        "#concatenate N strings\n",
        "list_of_colors = ['Red', 'White', 'Black']  \n",
        "colors = '-'.join(list_of_colors)\n",
        "print(colors)"
      ],
      "execution_count": 18,
      "outputs": [
        {
          "output_type": "stream",
          "text": [
            "Red-White-Black\n"
          ],
          "name": "stdout"
        }
      ]
    },
    {
      "cell_type": "code",
      "metadata": {
        "id": "sY2njp_y9LbT",
        "colab_type": "code",
        "colab": {
          "base_uri": "https://localhost:8080/",
          "height": 34
        },
        "outputId": "89161461-6fe4-4e5c-9de7-98a74e1cec72"
      },
      "source": [
        "#sum over a container\n",
        "s = sum([10,20,30])\n",
        "print(\"Sum of the container: \", s)"
      ],
      "execution_count": 20,
      "outputs": [
        {
          "output_type": "stream",
          "text": [
            "Sum of the container:  60\n"
          ],
          "name": "stdout"
        }
      ]
    },
    {
      "cell_type": "code",
      "metadata": {
        "id": "aoHDT91s9szd",
        "colab_type": "code",
        "colab": {
          "base_uri": "https://localhost:8080/",
          "height": 51
        },
        "outputId": "93f7389b-6a5e-4731-e783-cf046aed5ba4"
      },
      "source": [
        "#whether all numbers of a list is greater than a certain number\n",
        "num = [2,3,4]\n",
        "print(all(x > 1 for x in num))\n",
        "print(all(x > 2 for x in num))"
      ],
      "execution_count": 21,
      "outputs": [
        {
          "output_type": "stream",
          "text": [
            "True\n",
            "False\n"
          ],
          "name": "stdout"
        }
      ]
    },
    {
      "cell_type": "code",
      "metadata": {
        "id": "hACm6cfL-Unj",
        "colab_type": "code",
        "colab": {
          "base_uri": "https://localhost:8080/",
          "height": 34
        },
        "outputId": "09578568-51b1-4e72-def2-a97c71919096"
      },
      "source": [
        "#count the number of occurrence of a specific character in a string\n",
        "s = \"The quick brown fox jumps over the lazy dog.\"\n",
        "print(s.count(\"t\"))"
      ],
      "execution_count": 22,
      "outputs": [
        {
          "output_type": "stream",
          "text": [
            "1\n"
          ],
          "name": "stdout"
        }
      ]
    },
    {
      "cell_type": "code",
      "metadata": {
        "id": "Xz4rPUdo-0pe",
        "colab_type": "code",
        "colab": {
          "base_uri": "https://localhost:8080/",
          "height": 34
        },
        "outputId": "b9120164-81bf-4624-8efe-9fc1d86b07d7"
      },
      "source": [
        "#check if a file path is a file or a directory\n",
        "import os  \n",
        "path=\"abc\"  \n",
        "if os.path.isdir(path):  \n",
        "    print(\"\\nIt is a directory\")  \n",
        "elif os.path.isfile(path):  \n",
        "    print(\"\\nIt is a normal file\")  \n",
        "else:  \n",
        "    print(\"It is a special file (socket, FIFO, device file)\" )"
      ],
      "execution_count": 24,
      "outputs": [
        {
          "output_type": "stream",
          "text": [
            "It is a special file (socket, FIFO, device file)\n"
          ],
          "name": "stdout"
        }
      ]
    },
    {
      "cell_type": "code",
      "metadata": {
        "id": "LR5yW6nPAyz2",
        "colab_type": "code",
        "colab": {
          "base_uri": "https://localhost:8080/",
          "height": 34
        },
        "outputId": "8d355237-6dde-4e22-9041-b804003918ae"
      },
      "source": [
        "#swap two variables\n",
        "a = 30\n",
        "b = 20\n",
        "a, b = b, a\n",
        "print(a, b)"
      ],
      "execution_count": 25,
      "outputs": [
        {
          "output_type": "stream",
          "text": [
            "20 30\n"
          ],
          "name": "stdout"
        }
      ]
    },
    {
      "cell_type": "code",
      "metadata": {
        "id": "xa9kaEv4B9Gx",
        "colab_type": "code",
        "colab": {
          "base_uri": "https://localhost:8080/",
          "height": 34
        },
        "outputId": "1c7c89e3-f36f-4119-ea0c-770b1687f473"
      },
      "source": [
        "#convert a byte string to a list of integers\n",
        "x = b'Abc'\n",
        "print(list(x))"
      ],
      "execution_count": 26,
      "outputs": [
        {
          "output_type": "stream",
          "text": [
            "[65, 98, 99]\n"
          ],
          "name": "stdout"
        }
      ]
    },
    {
      "cell_type": "code",
      "metadata": {
        "id": "T8U4jiD9CqxK",
        "colab_type": "code",
        "colab": {
          "base_uri": "https://localhost:8080/",
          "height": 34
        },
        "outputId": "f2e725e1-a95f-4fbf-f24a-a01af6d1c7d2"
      },
      "source": [
        "#check if a string is numeric\n",
        "str = 'a123'\n",
        "try:\n",
        "    i = float(str)\n",
        "except (ValueError, TypeError):\n",
        "    print('Not numeric')"
      ],
      "execution_count": 28,
      "outputs": [
        {
          "output_type": "stream",
          "text": [
            "Not numeric\n"
          ],
          "name": "stdout"
        }
      ]
    },
    {
      "cell_type": "code",
      "metadata": {
        "id": "YnkNwhzIDX-2",
        "colab_type": "code",
        "colab": {
          "base_uri": "https://localhost:8080/",
          "height": 765
        },
        "outputId": "c2f7c012-cd31-4c8f-bb8a-72af9acc84dc"
      },
      "source": [
        "#print the current call stack\n",
        "import traceback\n",
        "def f1():return abc()\n",
        "def abc():traceback.print_stack()\n",
        "f1()"
      ],
      "execution_count": 29,
      "outputs": [
        {
          "output_type": "stream",
          "text": [
            "  File \"/usr/lib/python3.6/runpy.py\", line 193, in _run_module_as_main\n",
            "    \"__main__\", mod_spec)\n",
            "  File \"/usr/lib/python3.6/runpy.py\", line 85, in _run_code\n",
            "    exec(code, run_globals)\n",
            "  File \"/usr/local/lib/python3.6/dist-packages/ipykernel_launcher.py\", line 16, in <module>\n",
            "    app.launch_new_instance()\n",
            "  File \"/usr/local/lib/python3.6/dist-packages/traitlets/config/application.py\", line 664, in launch_instance\n",
            "    app.start()\n",
            "  File \"/usr/local/lib/python3.6/dist-packages/ipykernel/kernelapp.py\", line 477, in start\n",
            "    ioloop.IOLoop.instance().start()\n",
            "  File \"/usr/local/lib/python3.6/dist-packages/tornado/ioloop.py\", line 888, in start\n",
            "    handler_func(fd_obj, events)\n",
            "  File \"/usr/local/lib/python3.6/dist-packages/tornado/stack_context.py\", line 277, in null_wrapper\n",
            "    return fn(*args, **kwargs)\n",
            "  File \"/usr/local/lib/python3.6/dist-packages/zmq/eventloop/zmqstream.py\", line 450, in _handle_events\n",
            "    self._handle_recv()\n",
            "  File \"/usr/local/lib/python3.6/dist-packages/zmq/eventloop/zmqstream.py\", line 480, in _handle_recv\n",
            "    self._run_callback(callback, msg)\n",
            "  File \"/usr/local/lib/python3.6/dist-packages/zmq/eventloop/zmqstream.py\", line 432, in _run_callback\n",
            "    callback(*args, **kwargs)\n",
            "  File \"/usr/local/lib/python3.6/dist-packages/tornado/stack_context.py\", line 277, in null_wrapper\n",
            "    return fn(*args, **kwargs)\n",
            "  File \"/usr/local/lib/python3.6/dist-packages/ipykernel/kernelbase.py\", line 283, in dispatcher\n",
            "    return self.dispatch_shell(stream, msg)\n",
            "  File \"/usr/local/lib/python3.6/dist-packages/ipykernel/kernelbase.py\", line 235, in dispatch_shell\n",
            "    handler(stream, idents, msg)\n",
            "  File \"/usr/local/lib/python3.6/dist-packages/ipykernel/kernelbase.py\", line 399, in execute_request\n",
            "    user_expressions, allow_stdin)\n",
            "  File \"/usr/local/lib/python3.6/dist-packages/ipykernel/ipkernel.py\", line 196, in do_execute\n",
            "    res = shell.run_cell(code, store_history=store_history, silent=silent)\n",
            "  File \"/usr/local/lib/python3.6/dist-packages/ipykernel/zmqshell.py\", line 533, in run_cell\n",
            "    return super(ZMQInteractiveShell, self).run_cell(*args, **kwargs)\n",
            "  File \"/usr/local/lib/python3.6/dist-packages/IPython/core/interactiveshell.py\", line 2718, in run_cell\n",
            "    interactivity=interactivity, compiler=compiler, result=result)\n",
            "  File \"/usr/local/lib/python3.6/dist-packages/IPython/core/interactiveshell.py\", line 2828, in run_ast_nodes\n",
            "    if self.run_code(code, result):\n",
            "  File \"/usr/local/lib/python3.6/dist-packages/IPython/core/interactiveshell.py\", line 2882, in run_code\n",
            "    exec(code_obj, self.user_global_ns, self.user_ns)\n",
            "  File \"<ipython-input-29-6d7770682e5b>\", line 4, in <module>\n",
            "    f1()\n",
            "  File \"<ipython-input-29-6d7770682e5b>\", line 2, in f1\n",
            "    def f1():return abc()\n",
            "  File \"<ipython-input-29-6d7770682e5b>\", line 3, in abc\n",
            "    def abc():traceback.print_stack()\n"
          ],
          "name": "stderr"
        }
      ]
    },
    {
      "cell_type": "code",
      "metadata": {
        "id": "o9HwqxoVEO9M",
        "colab_type": "code",
        "colab": {
          "base_uri": "https://localhost:8080/",
          "height": 34
        },
        "outputId": "6afd0b60-1cf6-4a4f-f4ed-fbbd192bea5a"
      },
      "source": [
        "#get the system time\n",
        "import time\n",
        "print(time.ctime())"
      ],
      "execution_count": 30,
      "outputs": [
        {
          "output_type": "stream",
          "text": [
            "Wed Dec  4 08:41:17 2019\n"
          ],
          "name": "stdout"
        }
      ]
    },
    {
      "cell_type": "code",
      "metadata": {
        "id": "EEtYWJd9FQml",
        "colab_type": "code",
        "colab": {
          "base_uri": "https://localhost:8080/",
          "height": 34
        },
        "outputId": "32eae738-18a7-4499-f086-b9a637486eae"
      },
      "source": [
        "#get the name of the host on which the routine is running\n",
        "import socket\n",
        "host_name = socket.gethostname()\n",
        "print(\"Host name:\", host_name)"
      ],
      "execution_count": 31,
      "outputs": [
        {
          "output_type": "stream",
          "text": [
            "Host name: a83a02e1c06e\n"
          ],
          "name": "stdout"
        }
      ]
    },
    {
      "cell_type": "code",
      "metadata": {
        "id": "KRiEEIYbFwYu",
        "colab_type": "code",
        "colab": {
          "base_uri": "https://localhost:8080/",
          "height": 54
        },
        "outputId": "e8241de4-3bef-480b-a8c6-a0f17737c903"
      },
      "source": [
        "#access and print a URL's content to the console\n",
        "from http.client import HTTPConnection\n",
        "conn = HTTPConnection(\"example.com\")\n",
        "conn.request(\"GET\", \"/\")  \n",
        "result = conn.getresponse()\n",
        "# retrieves the entire contents.  \n",
        "contents = result.read() \n",
        "print(contents)"
      ],
      "execution_count": 32,
      "outputs": [
        {
          "output_type": "stream",
          "text": [
            "b'<!doctype html>\\n<html>\\n<head>\\n    <title>Example Domain</title>\\n\\n    <meta charset=\"utf-8\" />\\n    <meta http-equiv=\"Content-type\" content=\"text/html; charset=utf-8\" />\\n    <meta name=\"viewport\" content=\"width=device-width, initial-scale=1\" />\\n    <style type=\"text/css\">\\n    body {\\n        background-color: #f0f0f2;\\n        margin: 0;\\n        padding: 0;\\n        font-family: -apple-system, system-ui, BlinkMacSystemFont, \"Segoe UI\", \"Open Sans\", \"Helvetica Neue\", Helvetica, Arial, sans-serif;\\n        \\n    }\\n    div {\\n        width: 600px;\\n        margin: 5em auto;\\n        padding: 2em;\\n        background-color: #fdfdff;\\n        border-radius: 0.5em;\\n        box-shadow: 2px 3px 7px 2px rgba(0,0,0,0.02);\\n    }\\n    a:link, a:visited {\\n        color: #38488f;\\n        text-decoration: none;\\n    }\\n    @media (max-width: 700px) {\\n        div {\\n            margin: 0 auto;\\n            width: auto;\\n        }\\n    }\\n    </style>    \\n</head>\\n\\n<body>\\n<div>\\n    <h1>Example Domain</h1>\\n    <p>This domain is for use in illustrative examples in documents. You may use this\\n    domain in literature without prior coordination or asking for permission.</p>\\n    <p><a href=\"https://www.iana.org/domains/example\">More information...</a></p>\\n</div>\\n</body>\\n</html>\\n'\n"
          ],
          "name": "stdout"
        }
      ]
    },
    {
      "cell_type": "code",
      "metadata": {
        "id": "TSjf-qgxGau4",
        "colab_type": "code",
        "colab": {
          "base_uri": "https://localhost:8080/",
          "height": 68
        },
        "outputId": "16d5763a-33b3-4f93-c4d8-0384c12f3b61"
      },
      "source": [
        "#get system command output\n",
        "import subprocess\n",
        "# file and directory listing\n",
        "returned_text = subprocess.check_output(\"dir\", shell=True, universal_newlines=True)\n",
        "print(\"dir command to list file and directory\")\n",
        "print(returned_text)"
      ],
      "execution_count": 33,
      "outputs": [
        {
          "output_type": "stream",
          "text": [
            "dir command to list file and directory\n",
            "sample_data\n",
            "\n"
          ],
          "name": "stdout"
        }
      ]
    },
    {
      "cell_type": "code",
      "metadata": {
        "id": "XJlF7TzaHfSG",
        "colab_type": "code",
        "colab": {
          "base_uri": "https://localhost:8080/",
          "height": 85
        },
        "outputId": "83777a0c-c36e-4eca-9705-023feef74c3c"
      },
      "source": [
        "#get the effective group id, effective user id, real group id, a list of supplemental group ids associated with the current process\n",
        "import os\n",
        "print(\"Effective group id: \",os.getegid())\n",
        "print(\"Effective user id: \",os.geteuid())\n",
        "print(\"Real group id: \",os.getgid())\n",
        "print(\"List of supplemental group ids: \",os.getgroups())"
      ],
      "execution_count": 34,
      "outputs": [
        {
          "output_type": "stream",
          "text": [
            "Effective group id:  0\n",
            "Effective user id:  0\n",
            "Real group id:  0\n",
            "List of supplemental group ids:  []\n"
          ],
          "name": "stdout"
        }
      ]
    },
    {
      "cell_type": "code",
      "metadata": {
        "id": "uW5YDvtfvZ4A",
        "colab_type": "code",
        "colab": {}
      },
      "source": [
        "#get numbers divisible by fifteen from a list using an anonymous function\n",
        "num_list = [45, 55, 60, 37, 100, 105, 220]\n",
        "result = list(filter(lambda x: (x % 15 == 0), num_list))\n",
        "print(result)"
      ],
      "execution_count": 0,
      "outputs": []
    },
    {
      "cell_type": "code",
      "metadata": {
        "id": "6py1c1v2yUr5",
        "colab_type": "code",
        "colab": {}
      },
      "source": [
        "#file lists from current directory using a wildcard\n",
        "import glob\n",
        "file_list = glob.glob('*.*')\n",
        "print(file_list)"
      ],
      "execution_count": 0,
      "outputs": []
    },
    {
      "cell_type": "code",
      "metadata": {
        "id": "fd-wfyZU0EDr",
        "colab_type": "code",
        "colab": {}
      },
      "source": [
        "#compute the product of a list of integers (without using for loop)\n",
        "from functools import reduce\n",
        "nums = [10, 20, 30,]\n",
        "nums_product = reduce( (lambda x, y: x * y), nums)\n",
        "print(\"Product of the numbers : \",nums_product)"
      ],
      "execution_count": 0,
      "outputs": []
    }
  ]
}