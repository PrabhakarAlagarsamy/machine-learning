{
  "nbformat": 4,
  "nbformat_minor": 0,
  "metadata": {
    "colab": {
      "name": "Untitled0.ipynb",
      "provenance": [],
      "include_colab_link": true
    },
    "kernelspec": {
      "name": "python3",
      "display_name": "Python 3"
    }
  },
  "cells": [
    {
      "cell_type": "markdown",
      "metadata": {
        "id": "view-in-github",
        "colab_type": "text"
      },
      "source": [
        "<a href=\"https://colab.research.google.com/github/PrabhakarAlagarsamy/machine-learning/blob/master/python-exercise.ipynb\" target=\"_parent\"><img src=\"https://colab.research.google.com/assets/colab-badge.svg\" alt=\"Open In Colab\"/></a>"
      ]
    },
    {
      "cell_type": "code",
      "metadata": {
        "id": "s8e_Mr6rlIF4",
        "colab_type": "code",
        "colab": {
          "base_uri": "https://localhost:8080/",
          "height": 119
        },
        "outputId": "f7604d52-f70e-4219-f002-1871a6ec8ab8"
      },
      "source": [
        "print(\"Twinkle, twinkle, little star, \\n\\tHow I wonder what you are! \\n\\t\\tUp above the world so high, \\n\\t\\tLike a diamond in the sky. \\nTwinkle, twinkle, little star, \\n\\tHow I wonder what you are\")"
      ],
      "execution_count": 3,
      "outputs": [
        {
          "output_type": "stream",
          "text": [
            "Twinkle, twinkle, little star, \n",
            "\tHow I wonder what you are! \n",
            "\t\tUp above the world so high, \n",
            "\t\tLike a diamond in the sky. \n",
            "Twinkle, twinkle, little star, \n",
            "\tHow I wonder what you are\n"
          ],
          "name": "stdout"
        }
      ]
    },
    {
      "cell_type": "code",
      "metadata": {
        "id": "zH9l4Imkmk8y",
        "colab_type": "code",
        "colab": {
          "base_uri": "https://localhost:8080/",
          "height": 51
        },
        "outputId": "159158bd-5171-4193-de02-44380400c2ff"
      },
      "source": [
        "#python version\n",
        "import sys\n",
        "print(sys.version)"
      ],
      "execution_count": 5,
      "outputs": [
        {
          "output_type": "stream",
          "text": [
            "3.6.8 (default, Oct  7 2019, 12:59:55) \n",
            "[GCC 8.3.0]\n"
          ],
          "name": "stdout"
        }
      ]
    },
    {
      "cell_type": "code",
      "metadata": {
        "id": "YvtCJXvaoF1g",
        "colab_type": "code",
        "colab": {
          "base_uri": "https://localhost:8080/",
          "height": 34
        },
        "outputId": "39ec790e-1290-4dc4-9fd4-822cd2d298ab"
      },
      "source": [
        "#current date and time\n",
        "import datetime\n",
        "print(datetime.datetime.now())"
      ],
      "execution_count": 6,
      "outputs": [
        {
          "output_type": "stream",
          "text": [
            "2019-12-02 12:41:50.321971\n"
          ],
          "name": "stdout"
        }
      ]
    },
    {
      "cell_type": "code",
      "metadata": {
        "id": "7iwHSMBWo5fc",
        "colab_type": "code",
        "colab": {
          "base_uri": "https://localhost:8080/",
          "height": 51
        },
        "outputId": "1cb0c351-90ad-4106-cea0-f848ef1cfba4"
      },
      "source": [
        "#calculate area of the circle by getting radius as input from user\n",
        "from math import pi\n",
        "r = float(input(\"Radius of the circle: \"))\n",
        "print(\"Area of the circle is \"+str(pi*r**2))"
      ],
      "execution_count": 8,
      "outputs": [
        {
          "output_type": "stream",
          "text": [
            "Radius of the circle: 1.2\n",
            "Area of the circle is 4.523893421169302\n"
          ],
          "name": "stdout"
        }
      ]
    },
    {
      "cell_type": "code",
      "metadata": {
        "id": "87ZcpFT7qdhq",
        "colab_type": "code",
        "colab": {
          "base_uri": "https://localhost:8080/",
          "height": 68
        },
        "outputId": "58c1b82d-3d29-40c9-df01-b294d3e7fc5e"
      },
      "source": [
        "#create list and tuple from given numbers\n",
        "values = input(\"Numbers with comma separation :\")\n",
        "list = values.split(\",\")\n",
        "tuple = tuple(list)\n",
        "print(\"List :\",list)\n",
        "print(\"Tuple :\",tuple)"
      ],
      "execution_count": 9,
      "outputs": [
        {
          "output_type": "stream",
          "text": [
            "Numbers with comma separation :2,5,7,9,11\n",
            "List : ['2', '5', '7', '9', '11']\n",
            "Tuple : ('2', '5', '7', '9', '11')\n"
          ],
          "name": "stdout"
        }
      ]
    },
    {
      "cell_type": "code",
      "metadata": {
        "id": "eYLxD-2euagf",
        "colab_type": "code",
        "colab": {
          "base_uri": "https://localhost:8080/",
          "height": 51
        },
        "outputId": "5122c8f4-732b-4a92-aa5e-41647822bc4e"
      },
      "source": [
        "#print the file extension\n",
        "filename = input(\"File name :\")\n",
        "fileext = filename.split(\".\")\n",
        "print(\"File extension :\",fileext[-1])"
      ],
      "execution_count": 10,
      "outputs": [
        {
          "output_type": "stream",
          "text": [
            "File name :abc.java\n",
            "File extension : java\n"
          ],
          "name": "stdout"
        }
      ]
    },
    {
      "cell_type": "code",
      "metadata": {
        "id": "47bpKzOwvgr3",
        "colab_type": "code",
        "colab": {
          "base_uri": "https://localhost:8080/",
          "height": 34
        },
        "outputId": "467caf40-7c75-4936-d2a2-3050efac6803"
      },
      "source": [
        "#print the first and last value from list\n",
        "list = [\"Red\", \"Green\", \"Blue\", \"White\"]\n",
        "print(\"First and Last values :\",list[0],list[-1])"
      ],
      "execution_count": 11,
      "outputs": [
        {
          "output_type": "stream",
          "text": [
            "First and Last values : Red White\n"
          ],
          "name": "stdout"
        }
      ]
    },
    {
      "cell_type": "code",
      "metadata": {
        "id": "hYtON6ggw6DK",
        "colab_type": "code",
        "colab": {
          "base_uri": "https://localhost:8080/",
          "height": 34
        },
        "outputId": "18939823-b82c-4499-c004-1da557afc907"
      },
      "source": [
        "#print given numbers in date format\n",
        "date = (11,12,2019)\n",
        "print(\"The date is %i/%i/%i\"%date)"
      ],
      "execution_count": 13,
      "outputs": [
        {
          "output_type": "stream",
          "text": [
            "The date is 11/12/2019\n"
          ],
          "name": "stdout"
        }
      ]
    },
    {
      "cell_type": "code",
      "metadata": {
        "id": "WcT1kwyUy6oZ",
        "colab_type": "code",
        "colab": {
          "base_uri": "https://localhost:8080/",
          "height": 51
        },
        "outputId": "f44257ca-f23d-4c06-80cb-dc80eb70c7bd"
      },
      "source": [
        "#computes the value of n+nn+nnn\n",
        "n = int(input(\"Enter a number :\"))\n",
        "n1 = int(\"%s\"%n)\n",
        "n2 = int(\"%s%s\"%(n,n))\n",
        "n3 = int(\"%s%s%s\"%(n,n,n))\n",
        "print(\"n+nn+nnn of given number :\",n1+n2+n3)"
      ],
      "execution_count": 15,
      "outputs": [
        {
          "output_type": "stream",
          "text": [
            "Enter a number :5\n",
            "n+nn+nnn of given number : 615\n"
          ],
          "name": "stdout"
        }
      ]
    },
    {
      "cell_type": "code",
      "metadata": {
        "id": "9T1wDeJg1NHj",
        "colab_type": "code",
        "colab": {
          "base_uri": "https://localhost:8080/",
          "height": 204
        },
        "outputId": "9f680187-e108-4642-de28-1d0ac808bc73"
      },
      "source": [
        "#print the calendar of a given month and year\n",
        "import calendar\n",
        "y=int(input(\"Year :\"))\n",
        "m=int(input(\"Month :\"))\n",
        "print(calendar.month(y,m))"
      ],
      "execution_count": 17,
      "outputs": [
        {
          "output_type": "stream",
          "text": [
            "Year :2019\n",
            "Month :12\n",
            "   December 2019\n",
            "Mo Tu We Th Fr Sa Su\n",
            "                   1\n",
            " 2  3  4  5  6  7  8\n",
            " 9 10 11 12 13 14 15\n",
            "16 17 18 19 20 21 22\n",
            "23 24 25 26 27 28 29\n",
            "30 31\n",
            "\n"
          ],
          "name": "stdout"
        }
      ]
    },
    {
      "cell_type": "code",
      "metadata": {
        "id": "e_9VvygA21bu",
        "colab_type": "code",
        "colab": {
          "base_uri": "https://localhost:8080/",
          "height": 34
        },
        "outputId": "d3789059-bf1c-4e4e-ee03-e736ac960832"
      },
      "source": [
        "#calculate number of days between two dates\n",
        "from datetime import date\n",
        "fd = date(2019,12,2)\n",
        "ld = date(2019,12,7)\n",
        "print(\"Number of days between given dates :\",(ld-fd).days)"
      ],
      "execution_count": 19,
      "outputs": [
        {
          "output_type": "stream",
          "text": [
            "Number of days between given dates : 5\n"
          ],
          "name": "stdout"
        }
      ]
    },
    {
      "cell_type": "code",
      "metadata": {
        "id": "ZhuNCX4b7hWJ",
        "colab_type": "code",
        "colab": {
          "base_uri": "https://localhost:8080/",
          "height": 51
        },
        "outputId": "2cd37f6b-301c-4c42-80cb-0fa3ca2b4176"
      },
      "source": [
        "#Add Is to start of the string if it doesn't have\n",
        "def new_string(str):\n",
        "  if len(str) >= 2 and str[:2] == \"Is\":\n",
        "    return str\n",
        "  return \"Is\" + str\n",
        "\n",
        "print(new_string(\"Array\"))\n",
        "print(new_string(\"IsEmpty\"))"
      ],
      "execution_count": 20,
      "outputs": [
        {
          "output_type": "stream",
          "text": [
            "IsArray\n",
            "IsEmpty\n"
          ],
          "name": "stdout"
        }
      ]
    },
    {
      "cell_type": "code",
      "metadata": {
        "id": "QspXLuWJ872Q",
        "colab_type": "code",
        "colab": {
          "base_uri": "https://localhost:8080/",
          "height": 51
        },
        "outputId": "46fb9455-4dc5-4e07-a852-5b5aa6b37d49"
      },
      "source": [
        "#print a string which is n copies of a given string\n",
        "def larger_string(str, n):\n",
        "   result = \"\"\n",
        "   for i in range(n):\n",
        "      result = result + str\n",
        "   return result\n",
        "\n",
        "print(larger_string('.java', 2))\n",
        "print(larger_string('.py', 3))"
      ],
      "execution_count": 21,
      "outputs": [
        {
          "output_type": "stream",
          "text": [
            ".java.java\n",
            ".py.py.py\n"
          ],
          "name": "stdout"
        }
      ]
    },
    {
      "cell_type": "code",
      "metadata": {
        "id": "Ug8QjjAt-o19",
        "colab_type": "code",
        "colab": {}
      },
      "source": [
        "#count the number 4 in a given list\n",
        "def list_count_4(nums):\n",
        "  count = 0  \n",
        "  for num in nums:\n",
        "    if num == 4:\n",
        "      count = count + 1\n",
        "\n",
        "  return count\n",
        "\n",
        "print(list_count_4([1, 4, 6, 7, 4]))\n",
        "print(list_count_4([1, 4, 6, 4, 7, 4]))"
      ],
      "execution_count": 0,
      "outputs": []
    },
    {
      "cell_type": "code",
      "metadata": {
        "id": "DpCGxuN9BgwS",
        "colab_type": "code",
        "colab": {
          "base_uri": "https://localhost:8080/",
          "height": 51
        },
        "outputId": "a84f7e26-bea3-4316-d018-0a7ea96fb220"
      },
      "source": [
        "#whether a passed letter is a vowel or not\n",
        "def is_vowel(char):\n",
        "    all_vowels = 'aeiou'\n",
        "    return char in all_vowels\n",
        "print(is_vowel('c'))\n",
        "print(is_vowel('e'))"
      ],
      "execution_count": 22,
      "outputs": [
        {
          "output_type": "stream",
          "text": [
            "False\n",
            "True\n"
          ],
          "name": "stdout"
        }
      ]
    },
    {
      "cell_type": "code",
      "metadata": {
        "id": "HRbO4LpECrC7",
        "colab_type": "code",
        "colab": {}
      },
      "source": [
        "#create a histogram from a given list of integers\n",
        "def histogram( items ):\n",
        "    for n in items:\n",
        "        output = ''\n",
        "        times = n\n",
        "        while( times > 0 ):\n",
        "          output += '*'\n",
        "          times = times - 1\n",
        "        print(output)\n",
        "\n",
        "histogram([2, 3, 6, 5])"
      ],
      "execution_count": 0,
      "outputs": []
    },
    {
      "cell_type": "code",
      "metadata": {
        "id": "kyHA6LoVEAp4",
        "colab_type": "code",
        "colab": {}
      },
      "source": [
        "#concatenate all elements in a list\n",
        "def concatenate_list_data(list):\n",
        "    result= ''\n",
        "    for element in list:\n",
        "        result += str(element)\n",
        "    return result\n",
        "\n",
        "print(concatenate_list_data([1, 5, 12, 2]))"
      ],
      "execution_count": 0,
      "outputs": []
    },
    {
      "cell_type": "code",
      "metadata": {
        "id": "mfj7onDfF9uj",
        "colab_type": "code",
        "colab": {
          "base_uri": "https://localhost:8080/",
          "height": 34
        },
        "outputId": "57f62f7c-3f3c-4eef-934e-1325dc653bf9"
      },
      "source": [
        "#print out a set containing all the colors from color_list_1 which are not present in color_list_2\n",
        "color_list_1 = set([\"White\", \"Black\", \"Red\"])\n",
        "color_list_2 = set([\"Red\", \"Green\"])\n",
        "\n",
        "print(color_list_1.difference(color_list_2))"
      ],
      "execution_count": 23,
      "outputs": [
        {
          "output_type": "stream",
          "text": [
            "{'White', 'Black'}\n"
          ],
          "name": "stdout"
        }
      ]
    },
    {
      "cell_type": "code",
      "metadata": {
        "id": "IEv1-CtTHnNv",
        "colab_type": "code",
        "colab": {}
      },
      "source": [
        "#greatest common divisor (GCD) of two positive integers\n",
        "def gcd(x, y):\n",
        "    gcd = 1\n",
        "    \n",
        "    if x % y == 0:\n",
        "        return y\n",
        "    \n",
        "    for k in range(int(y / 2), 0, -1):\n",
        "        if x % k == 0 and y % k == 0:\n",
        "            gcd = k\n",
        "            break  \n",
        "    return gcd\n",
        "\n",
        "print(gcd(12, 17))\n",
        "print(gcd(4, 6))\n"
      ],
      "execution_count": 0,
      "outputs": []
    },
    {
      "cell_type": "code",
      "metadata": {
        "id": "wZ6JlHQTINd9",
        "colab_type": "code",
        "colab": {
          "base_uri": "https://localhost:8080/",
          "height": 51
        },
        "outputId": "b2ea67fe-8c31-4e7c-9be7-423fade092cb"
      },
      "source": [
        "#least common multiple (LCM) of two positive integers\n",
        "def lcm(x, y):\n",
        "   if x > y:\n",
        "       z = x\n",
        "   else:\n",
        "       z = y\n",
        "\n",
        "   while(True):\n",
        "       if((z % x == 0) and (z % y == 0)):\n",
        "           lcm = z\n",
        "           break\n",
        "       z += 1\n",
        "\n",
        "   return lcm\n",
        "print(lcm(4, 6))\n",
        "print(lcm(15, 17))"
      ],
      "execution_count": 24,
      "outputs": [
        {
          "output_type": "stream",
          "text": [
            "12\n",
            "255\n"
          ],
          "name": "stdout"
        }
      ]
    },
    {
      "cell_type": "code",
      "metadata": {
        "id": "oHlKRwj5bXA_",
        "colab_type": "code",
        "colab": {
          "base_uri": "https://localhost:8080/",
          "height": 34
        },
        "outputId": "fa86d070-a626-4be7-cfcf-4103bd4bb0f3"
      },
      "source": [
        "#future value of a specified principal amount, rate of interest, and a number of years\n",
        "amt = 10000\n",
        "int = 3.5\n",
        "years = 7\n",
        "\n",
        "future_value  = amt*((1+(0.01*int)) ** years)\n",
        "print(round(future_value,2))"
      ],
      "execution_count": 25,
      "outputs": [
        {
          "output_type": "stream",
          "text": [
            "12722.79\n"
          ],
          "name": "stdout"
        }
      ]
    },
    {
      "cell_type": "code",
      "metadata": {
        "id": "NmGG-ILBb3NJ",
        "colab_type": "code",
        "colab": {}
      },
      "source": [
        "#compute the distance between the points\n",
        "import math\n",
        "p1 = [4, 0]\n",
        "p2 = [6, 6]\n",
        "distance = math.sqrt( ((p1[0]-p2[0])**2)+((p1[1]-p2[1])**2) )\n",
        "\n",
        "print(distance)"
      ],
      "execution_count": 0,
      "outputs": []
    },
    {
      "cell_type": "code",
      "metadata": {
        "id": "fQP6CwCscTBi",
        "colab_type": "code",
        "colab": {
          "base_uri": "https://localhost:8080/",
          "height": 34
        },
        "outputId": "faf796b3-45f8-4027-babf-cb25576dc32e"
      },
      "source": [
        "#check whether a file exists\n",
        "import os.path\n",
        "print(os.path.isfile('abc.txt'))"
      ],
      "execution_count": 26,
      "outputs": [
        {
          "output_type": "stream",
          "text": [
            "False\n"
          ],
          "name": "stdout"
        }
      ]
    },
    {
      "cell_type": "code",
      "metadata": {
        "id": "RFiZZGaZcy_7",
        "colab_type": "code",
        "colab": {
          "base_uri": "https://localhost:8080/",
          "height": 34
        },
        "outputId": "7135520f-3c17-400c-aa19-a62eaa02d824"
      },
      "source": [
        "#determine if a Python shell is executing in 32bit or 64bit mode on OS\n",
        "import struct\n",
        "print(struct.calcsize(\"P\") * 8)"
      ],
      "execution_count": 27,
      "outputs": [
        {
          "output_type": "stream",
          "text": [
            "64\n"
          ],
          "name": "stdout"
        }
      ]
    },
    {
      "cell_type": "code",
      "metadata": {
        "id": "ricXZcJpdVaF",
        "colab_type": "code",
        "colab": {
          "base_uri": "https://localhost:8080/",
          "height": 68
        },
        "outputId": "177bdc6d-1ec6-4ed0-ca1e-100fd12526ac"
      },
      "source": [
        "#get OS name, platform and release information\n",
        "import platform\n",
        "import os\n",
        "print(os.name)\n",
        "print(platform.system())\n",
        "print(platform.release())"
      ],
      "execution_count": 28,
      "outputs": [
        {
          "output_type": "stream",
          "text": [
            "posix\n",
            "Linux\n",
            "4.14.137+\n"
          ],
          "name": "stdout"
        }
      ]
    },
    {
      "cell_type": "code",
      "metadata": {
        "id": "Tt0AUT1rd06F",
        "colab_type": "code",
        "colab": {
          "base_uri": "https://localhost:8080/",
          "height": 34
        },
        "outputId": "95cc56b3-0f63-431a-8132-9f9185fcad89"
      },
      "source": [
        "#locate Python site-packages\n",
        "import site; \n",
        "print(site.getsitepackages())"
      ],
      "execution_count": 29,
      "outputs": [
        {
          "output_type": "stream",
          "text": [
            "['/usr/local/lib/python3.6/dist-packages', '/usr/lib/python3/dist-packages', '/usr/lib/python3.6/dist-packages']\n"
          ],
          "name": "stdout"
        }
      ]
    },
    {
      "cell_type": "code",
      "metadata": {
        "id": "7JsHJRwseWC4",
        "colab_type": "code",
        "colab": {}
      },
      "source": [
        "#call an external command in Python\n",
        "from subprocess import call\n",
        "call([\"ls\", \"-l\"])"
      ],
      "execution_count": 0,
      "outputs": []
    },
    {
      "cell_type": "code",
      "metadata": {
        "id": "lb3zU4bJe3Vu",
        "colab_type": "code",
        "colab": {
          "base_uri": "https://localhost:8080/",
          "height": 34
        },
        "outputId": "4a0a255e-e37e-4aff-f4da-1453b87e59ea"
      },
      "source": [
        "#get the path and name of the file that is currently executing\n",
        "import os\n",
        "print(\"Current File Name : \",os.path.realpath('__file__'))"
      ],
      "execution_count": 31,
      "outputs": [
        {
          "output_type": "stream",
          "text": [
            "Current File Name :  /content/__file__\n"
          ],
          "name": "stdout"
        }
      ]
    },
    {
      "cell_type": "code",
      "metadata": {
        "id": "xoiGJlJxgt3f",
        "colab_type": "code",
        "colab": {
          "base_uri": "https://localhost:8080/",
          "height": 34
        },
        "outputId": "a0bb01c7-6314-47c8-9a04-4b3f3c23d196"
      },
      "source": [
        "#number of CPUs using\n",
        "import multiprocessing\n",
        "print(multiprocessing.cpu_count())"
      ],
      "execution_count": 32,
      "outputs": [
        {
          "output_type": "stream",
          "text": [
            "2\n"
          ],
          "name": "stdout"
        }
      ]
    },
    {
      "cell_type": "code",
      "metadata": {
        "id": "fEa7hABLhN-E",
        "colab_type": "code",
        "colab": {
          "base_uri": "https://localhost:8080/",
          "height": 34
        },
        "outputId": "ca32a6ad-5d2c-4b1b-df97-33596dcaed36"
      },
      "source": [
        "#list all files in a directory in Python\n",
        "from os import listdir\n",
        "from os.path import isfile, join\n",
        "files_list = [f for f in listdir('/home') if isfile(join('/home', f))]\n",
        "print(files_list);"
      ],
      "execution_count": 34,
      "outputs": [
        {
          "output_type": "stream",
          "text": [
            "[]\n"
          ],
          "name": "stdout"
        }
      ]
    },
    {
      "cell_type": "code",
      "metadata": {
        "id": "6DA_Ea50lQWJ",
        "colab_type": "code",
        "colab": {
          "base_uri": "https://localhost:8080/",
          "height": 34
        },
        "outputId": "037b0c4b-2b58-4d87-dfd4-e5d8efaa657a"
      },
      "source": [
        "#print without newline or space\n",
        "for i in range(0, 10):\n",
        "    print('*', end=\"\")"
      ],
      "execution_count": 36,
      "outputs": [
        {
          "output_type": "stream",
          "text": [
            "**********"
          ],
          "name": "stdout"
        }
      ]
    },
    {
      "cell_type": "code",
      "metadata": {
        "id": "pdo2d4H6mXbI",
        "colab_type": "code",
        "colab": {
          "base_uri": "https://localhost:8080/",
          "height": 459
        },
        "outputId": "cb0bede2-c172-4018-9544-b2b6193c883e"
      },
      "source": [
        "#determine profiling of Python programs\n",
        "#A profile is a set of statistics that describes how often and for how long various parts of the program executed\n",
        "import cProfile\n",
        "def sum():\n",
        "    print(1+2)\n",
        "cProfile.run('sum()')"
      ],
      "execution_count": 37,
      "outputs": [
        {
          "output_type": "stream",
          "text": [
            "3\n",
            "         39 function calls in 0.001 seconds\n",
            "\n",
            "   Ordered by: standard name\n",
            "\n",
            "   ncalls  tottime  percall  cumtime  percall filename:lineno(function)\n",
            "        1    0.000    0.000    0.001    0.001 <ipython-input-37-db52c97772c7>:2(sum)\n",
            "        1    0.000    0.000    0.001    0.001 <string>:1(<module>)\n",
            "        3    0.000    0.000    0.001    0.000 iostream.py:180(schedule)\n",
            "        2    0.000    0.000    0.000    0.000 iostream.py:284(_is_master_process)\n",
            "        2    0.000    0.000    0.000    0.000 iostream.py:297(_schedule_flush)\n",
            "        2    0.000    0.000    0.001    0.001 iostream.py:342(write)\n",
            "        3    0.000    0.000    0.000    0.000 iostream.py:87(_event_pipe)\n",
            "        3    0.001    0.000    0.001    0.000 socket.py:333(send)\n",
            "        3    0.000    0.000    0.000    0.000 threading.py:1062(_wait_for_tstate_lock)\n",
            "        3    0.000    0.000    0.000    0.000 threading.py:1104(is_alive)\n",
            "        3    0.000    0.000    0.000    0.000 threading.py:506(is_set)\n",
            "        1    0.000    0.000    0.001    0.001 {built-in method builtins.exec}\n",
            "        2    0.000    0.000    0.000    0.000 {built-in method builtins.isinstance}\n",
            "        1    0.000    0.000    0.001    0.001 {built-in method builtins.print}\n",
            "        2    0.000    0.000    0.000    0.000 {built-in method posix.getpid}\n",
            "        3    0.000    0.000    0.000    0.000 {built-in method posix.urandom}\n",
            "        3    0.000    0.000    0.000    0.000 {method 'acquire' of '_thread.lock' objects}\n",
            "        1    0.000    0.000    0.000    0.000 {method 'disable' of '_lsprof.Profiler' objects}\n",
            "\n",
            "\n"
          ],
          "name": "stdout"
        }
      ]
    }
  ]
}