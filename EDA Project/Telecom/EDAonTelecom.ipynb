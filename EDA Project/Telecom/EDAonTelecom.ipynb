{
 "cells": [
  {
   "cell_type": "markdown",
   "metadata": {},
   "source": [
    "# Data Analysis On Telecom"
   ]
  },
  {
   "cell_type": "markdown",
   "metadata": {},
   "source": [
    "## Table of Contents\n",
    "\n",
    "1. [Problem Statement](#section1)<br>\n",
    "2. [Importing Packages](#section2)<br>\n",
    "3. [Loading Data](#section3)<br>\n",
    "    3.1 [Importing Dataset from events_data](#section301)<br>\n",
    "    3.2 [Indentify Missing Values of events_data](#section302)<br>\n",
    "    3.3 [Importing Dataset from gender_age_train](#section303)<br>\n",
    "    3.4 [Indentify Missing Values of gender_age_train](#section304)<br>\n",
    "    3.5 [Importing Dataset from phone_brand_device_model](#section305)<br>\n",
    "    3.6 [Indentify Missing Values of phone_brand_device_model](#section306)<br>\n",
    "4. [Data Preprocessing](#section4)<br>\n",
    "    4.1 [Preprocessing](#section401)<br>\n",
    "    4.2 [Statistics of events data](#section402)<br>\n",
    "5. [Exploratory Data Analysis](#section5)<br>\n",
    "    5.1 [Analysis based on state](#section501)<br>\n",
    "    5.2 [Distribution of customers on Map](#section502)<br>\n",
    "    5.3 [Frequency of Events with respect to Time](#section503)<br>\n",
    "    5.4 [Analysis based on gender](#section504)<br>\n",
    "    5.5 [Analysis based on age_group](#section505)<br>\n",
    "    5.6 [Analysis based on phone brand](#section506)<br>\n",
    "    5.7 [Analysis based on phone model](#section507)<br>\n",
    "    5.8 [Common phone_id between gender and phone tables](#section508)<br>\n",
    "    5.9 [Combine gender and phone tables](#section509)<br>\n",
    "    5.10 [Group latitude and longitude](#section5010)<br>\n",
    "    5.11 [Latitude and longitude plotted on Map](#section5011)<br>\n",
    "6. [Conclusion](#section6)<br>"
   ]
  },
  {
   "cell_type": "markdown",
   "metadata": {},
   "source": [
    "<a id=section1></a>\n",
    "## 1. Problem Statement"
   ]
  },
  {
   "cell_type": "markdown",
   "metadata": {},
   "source": [
    "One of the leading __telecom__ players, understands that __customizing offering__\n",
    "is very important for its __business to stay competitive__. Data from more than 60% of the 50 million \n",
    "mobile devices active daily in India to help its clients better understand and interact with their audiences. Data analysis done for the following states WestBengal, Karnataka, Gujarat, Bihar, Punjab and Kerala."
   ]
  },
  {
   "cell_type": "markdown",
   "metadata": {},
   "source": [
    "<a id=section2></a>\n",
    "## 2. Import Packages"
   ]
  },
  {
   "cell_type": "code",
   "execution_count": 1,
   "metadata": {},
   "outputs": [],
   "source": [
    "import numpy as np\n",
    "import pandas as pd\n",
    "import os\n",
    "\n",
    "import matplotlib.pyplot as plt\n",
    "import seaborn as sns\n",
    "\n",
    "import mysql.connector as sql\n",
    "import pandas_profiling\n",
    "\n",
    "from googletrans import Translator\n",
    "from translate import Translator\n",
    "import folium\n",
    "import gmplot\n",
    "\n",
    "import warnings\n",
    "warnings.filterwarnings('ignore')"
   ]
  },
  {
   "cell_type": "markdown",
   "metadata": {},
   "source": [
    "<a id=section3></a>\n",
    "## 3. Loading Data"
   ]
  },
  {
   "cell_type": "markdown",
   "metadata": {},
   "source": [
    "<a id=section301></a>\n",
    "### 3.1 Importing Dataset from events_data"
   ]
  },
  {
   "cell_type": "code",
   "execution_count": 2,
   "metadata": {},
   "outputs": [
    {
     "data": {
      "text/html": [
       "<div>\n",
       "<style scoped>\n",
       "    .dataframe tbody tr th:only-of-type {\n",
       "        vertical-align: middle;\n",
       "    }\n",
       "\n",
       "    .dataframe tbody tr th {\n",
       "        vertical-align: top;\n",
       "    }\n",
       "\n",
       "    .dataframe thead th {\n",
       "        text-align: right;\n",
       "    }\n",
       "</style>\n",
       "<table border=\"1\" class=\"dataframe\">\n",
       "  <thead>\n",
       "    <tr style=\"text-align: right;\">\n",
       "      <th></th>\n",
       "      <th>event_id</th>\n",
       "      <th>device_id</th>\n",
       "      <th>timestamp</th>\n",
       "      <th>longitude</th>\n",
       "      <th>latitude</th>\n",
       "      <th>city</th>\n",
       "      <th>state</th>\n",
       "    </tr>\n",
       "  </thead>\n",
       "  <tbody>\n",
       "    <tr>\n",
       "      <th>2829979</th>\n",
       "      <td>74778.0</td>\n",
       "      <td>6.173131e+18</td>\n",
       "      <td>2016-05-01 08:02:02</td>\n",
       "      <td>88.39748</td>\n",
       "      <td>22.65216</td>\n",
       "      <td>Calcutta</td>\n",
       "      <td>WestBengal</td>\n",
       "    </tr>\n",
       "    <tr>\n",
       "      <th>2829980</th>\n",
       "      <td>527238.0</td>\n",
       "      <td>6.173131e+18</td>\n",
       "      <td>2016-05-02 21:03:22</td>\n",
       "      <td>88.39748</td>\n",
       "      <td>22.65216</td>\n",
       "      <td>Calcutta</td>\n",
       "      <td>WestBengal</td>\n",
       "    </tr>\n",
       "    <tr>\n",
       "      <th>2829981</th>\n",
       "      <td>1264753.0</td>\n",
       "      <td>6.173131e+18</td>\n",
       "      <td>2016-05-06 21:36:26</td>\n",
       "      <td>88.39748</td>\n",
       "      <td>22.65216</td>\n",
       "      <td>Calcutta</td>\n",
       "      <td>WestBengal</td>\n",
       "    </tr>\n",
       "    <tr>\n",
       "      <th>2829982</th>\n",
       "      <td>2252310.0</td>\n",
       "      <td>6.173131e+18</td>\n",
       "      <td>2016-05-03 23:02:19</td>\n",
       "      <td>88.39748</td>\n",
       "      <td>22.65216</td>\n",
       "      <td>Calcutta</td>\n",
       "      <td>WestBengal</td>\n",
       "    </tr>\n",
       "    <tr>\n",
       "      <th>2829983</th>\n",
       "      <td>2318262.0</td>\n",
       "      <td>6.173131e+18</td>\n",
       "      <td>2016-05-03 09:11:20</td>\n",
       "      <td>88.39748</td>\n",
       "      <td>22.65216</td>\n",
       "      <td>Calcutta</td>\n",
       "      <td>WestBengal</td>\n",
       "    </tr>\n",
       "  </tbody>\n",
       "</table>\n",
       "</div>"
      ],
      "text/plain": [
       "          event_id     device_id            timestamp  longitude  latitude  \\\n",
       "2829979    74778.0  6.173131e+18  2016-05-01 08:02:02   88.39748  22.65216   \n",
       "2829980   527238.0  6.173131e+18  2016-05-02 21:03:22   88.39748  22.65216   \n",
       "2829981  1264753.0  6.173131e+18  2016-05-06 21:36:26   88.39748  22.65216   \n",
       "2829982  2252310.0  6.173131e+18  2016-05-03 23:02:19   88.39748  22.65216   \n",
       "2829983  2318262.0  6.173131e+18  2016-05-03 09:11:20   88.39748  22.65216   \n",
       "\n",
       "             city       state  \n",
       "2829979  Calcutta  WestBengal  \n",
       "2829980  Calcutta  WestBengal  \n",
       "2829981  Calcutta  WestBengal  \n",
       "2829982  Calcutta  WestBengal  \n",
       "2829983  Calcutta  WestBengal  "
      ]
     },
     "execution_count": 2,
     "metadata": {},
     "output_type": "execute_result"
    }
   ],
   "source": [
    "# Importing dataset from local directory\n",
    "eventFile = \"E:/Document/CapstoneProject/Data/events_data.csv\"\n",
    "\n",
    "# Get current working directory\n",
    "pwd = os.getcwd()\n",
    "# Change the directory to file location\n",
    "os.chdir(os.path.dirname(eventFile))\n",
    "# Create dataframe from dataset\n",
    "df_event = pd.read_csv(os.path.basename(eventFile))\n",
    "# Again change to current working directory\n",
    "os.chdir(pwd)\n",
    "\n",
    "df_event_states = df_event.query(\"state=='WestBengal' | state=='Karnataka' | state=='Gujarat' | state=='Bihar' | state=='Punjab' | state=='Kerala'\")\n",
    "df_event_states.head()"
   ]
  },
  {
   "cell_type": "code",
   "execution_count": 3,
   "metadata": {},
   "outputs": [
    {
     "data": {
      "text/plain": [
       "(422915, 7)"
      ]
     },
     "execution_count": 3,
     "metadata": {},
     "output_type": "execute_result"
    }
   ],
   "source": [
    "df_event_states.shape"
   ]
  },
  {
   "cell_type": "markdown",
   "metadata": {},
   "source": [
    "#### Observations:"
   ]
  },
  {
   "cell_type": "markdown",
   "metadata": {},
   "source": [
    "- There are **422915 rows** and **7 columns**"
   ]
  },
  {
   "cell_type": "code",
   "execution_count": 4,
   "metadata": {},
   "outputs": [
    {
     "name": "stdout",
     "output_type": "stream",
     "text": [
      "<class 'pandas.core.frame.DataFrame'>\n",
      "Int64Index: 422915 entries, 2829979 to 3252949\n",
      "Data columns (total 7 columns):\n",
      "event_id     422915 non-null float64\n",
      "device_id    422867 non-null float64\n",
      "timestamp    422915 non-null object\n",
      "longitude    422873 non-null float64\n",
      "latitude     422873 non-null float64\n",
      "city         422915 non-null object\n",
      "state        422915 non-null object\n",
      "dtypes: float64(4), object(3)\n",
      "memory usage: 25.8+ MB\n"
     ]
    }
   ],
   "source": [
    "df_event_states.info()"
   ]
  },
  {
   "cell_type": "markdown",
   "metadata": {},
   "source": [
    "#### Observations:"
   ]
  },
  {
   "cell_type": "markdown",
   "metadata": {},
   "source": [
    "- **event_id, device_id, longitude, latitude** are float datatypes\n",
    "- **timestamp, city, state** are object datatypes"
   ]
  },
  {
   "cell_type": "markdown",
   "metadata": {},
   "source": [
    "<a id=section302></a>\n",
    "### 3.2 Indentify Missing Values of events_data"
   ]
  },
  {
   "cell_type": "code",
   "execution_count": 5,
   "metadata": {},
   "outputs": [
    {
     "data": {
      "text/plain": [
       "event_id      0\n",
       "device_id    48\n",
       "timestamp     0\n",
       "longitude    42\n",
       "latitude     42\n",
       "city          0\n",
       "state         0\n",
       "dtype: int64"
      ]
     },
     "execution_count": 5,
     "metadata": {},
     "output_type": "execute_result"
    }
   ],
   "source": [
    "df_event_states.isnull().sum()"
   ]
  },
  {
   "cell_type": "markdown",
   "metadata": {},
   "source": [
    "#### Observations:"
   ]
  },
  {
   "cell_type": "markdown",
   "metadata": {},
   "source": [
    "- There are **missing values** in **device_id, longitude and latitude**"
   ]
  },
  {
   "cell_type": "markdown",
   "metadata": {},
   "source": [
    "<a id=section303></a>\n",
    "### 3.3 Importing Dataset from gender_age_train"
   ]
  },
  {
   "cell_type": "code",
   "execution_count": 6,
   "metadata": {},
   "outputs": [
    {
     "data": {
      "text/html": [
       "<div>\n",
       "<style scoped>\n",
       "    .dataframe tbody tr th:only-of-type {\n",
       "        vertical-align: middle;\n",
       "    }\n",
       "\n",
       "    .dataframe tbody tr th {\n",
       "        vertical-align: top;\n",
       "    }\n",
       "\n",
       "    .dataframe thead th {\n",
       "        text-align: right;\n",
       "    }\n",
       "</style>\n",
       "<table border=\"1\" class=\"dataframe\">\n",
       "  <thead>\n",
       "    <tr style=\"text-align: right;\">\n",
       "      <th></th>\n",
       "      <th>0</th>\n",
       "      <th>1</th>\n",
       "      <th>2</th>\n",
       "      <th>3</th>\n",
       "    </tr>\n",
       "  </thead>\n",
       "  <tbody>\n",
       "    <tr>\n",
       "      <th>0</th>\n",
       "      <td>-8076087639492063270</td>\n",
       "      <td>M</td>\n",
       "      <td>35</td>\n",
       "      <td>M32-38</td>\n",
       "    </tr>\n",
       "    <tr>\n",
       "      <th>1</th>\n",
       "      <td>-2897161552818060146</td>\n",
       "      <td>M</td>\n",
       "      <td>35</td>\n",
       "      <td>M32-38</td>\n",
       "    </tr>\n",
       "    <tr>\n",
       "      <th>2</th>\n",
       "      <td>-8260683887967679142</td>\n",
       "      <td>M</td>\n",
       "      <td>35</td>\n",
       "      <td>M32-38</td>\n",
       "    </tr>\n",
       "    <tr>\n",
       "      <th>3</th>\n",
       "      <td>-4938849341048082022</td>\n",
       "      <td>M</td>\n",
       "      <td>30</td>\n",
       "      <td>M29-31</td>\n",
       "    </tr>\n",
       "    <tr>\n",
       "      <th>4</th>\n",
       "      <td>245133531816851882</td>\n",
       "      <td>M</td>\n",
       "      <td>30</td>\n",
       "      <td>M29-31</td>\n",
       "    </tr>\n",
       "  </tbody>\n",
       "</table>\n",
       "</div>"
      ],
      "text/plain": [
       "                     0  1   2       3\n",
       "0 -8076087639492063270  M  35  M32-38\n",
       "1 -2897161552818060146  M  35  M32-38\n",
       "2 -8260683887967679142  M  35  M32-38\n",
       "3 -4938849341048082022  M  30  M29-31\n",
       "4   245133531816851882  M  30  M29-31"
      ]
     },
     "execution_count": 6,
     "metadata": {},
     "output_type": "execute_result"
    }
   ],
   "source": [
    "db_connection = sql.connect(user='student',password='student',host='cpanel.insaid.co',database='Capstone1')\n",
    "db_cursor = db_connection.cursor()\n",
    "db_cursor.execute('SELECT * FROM gender_age_train')\n",
    "\n",
    "table_rows = db_cursor.fetchall()\n",
    "df_gender = pd.DataFrame(table_rows)\n",
    "df_gender.head()"
   ]
  },
  {
   "cell_type": "code",
   "execution_count": 7,
   "metadata": {},
   "outputs": [
    {
     "data": {
      "text/plain": [
       "(74645, 4)"
      ]
     },
     "execution_count": 7,
     "metadata": {},
     "output_type": "execute_result"
    }
   ],
   "source": [
    "df_gender.shape"
   ]
  },
  {
   "cell_type": "markdown",
   "metadata": {},
   "source": [
    "#### Observations:"
   ]
  },
  {
   "cell_type": "markdown",
   "metadata": {},
   "source": [
    "- There are **74645 rows** and **4 columns** in **gender_age_train** table"
   ]
  },
  {
   "cell_type": "code",
   "execution_count": 8,
   "metadata": {},
   "outputs": [
    {
     "name": "stdout",
     "output_type": "stream",
     "text": [
      "<class 'pandas.core.frame.DataFrame'>\n",
      "RangeIndex: 74645 entries, 0 to 74644\n",
      "Data columns (total 4 columns):\n",
      "0    74645 non-null int64\n",
      "1    74645 non-null object\n",
      "2    74645 non-null int64\n",
      "3    74645 non-null object\n",
      "dtypes: int64(2), object(2)\n",
      "memory usage: 2.3+ MB\n"
     ]
    }
   ],
   "source": [
    "df_gender.info()"
   ]
  },
  {
   "cell_type": "markdown",
   "metadata": {},
   "source": [
    "#### Observations:"
   ]
  },
  {
   "cell_type": "markdown",
   "metadata": {},
   "source": [
    "- **1 and 3** columns are **int** datatype\n",
    "- **2 and 4** columns are **object** datatype in **gender_age_train** table"
   ]
  },
  {
   "cell_type": "markdown",
   "metadata": {},
   "source": [
    "<a id=section304></a>\n",
    "### 3.4 Identify Missing Values of gender_age_train"
   ]
  },
  {
   "cell_type": "code",
   "execution_count": 9,
   "metadata": {},
   "outputs": [
    {
     "data": {
      "text/plain": [
       "0    0\n",
       "1    0\n",
       "2    0\n",
       "3    0\n",
       "dtype: int64"
      ]
     },
     "execution_count": 9,
     "metadata": {},
     "output_type": "execute_result"
    }
   ],
   "source": [
    "df_gender.isnull().sum()"
   ]
  },
  {
   "cell_type": "markdown",
   "metadata": {},
   "source": [
    "#### Observations:"
   ]
  },
  {
   "cell_type": "markdown",
   "metadata": {},
   "source": [
    "- There is **no missing values** in **gender_age_train** table"
   ]
  },
  {
   "cell_type": "markdown",
   "metadata": {},
   "source": [
    "<a id=section305></a>\n",
    "### 3.5 Importing Dataset from phone_brand_device_model"
   ]
  },
  {
   "cell_type": "code",
   "execution_count": 10,
   "metadata": {},
   "outputs": [
    {
     "data": {
      "text/html": [
       "<div>\n",
       "<style scoped>\n",
       "    .dataframe tbody tr th:only-of-type {\n",
       "        vertical-align: middle;\n",
       "    }\n",
       "\n",
       "    .dataframe tbody tr th {\n",
       "        vertical-align: top;\n",
       "    }\n",
       "\n",
       "    .dataframe thead th {\n",
       "        text-align: right;\n",
       "    }\n",
       "</style>\n",
       "<table border=\"1\" class=\"dataframe\">\n",
       "  <thead>\n",
       "    <tr style=\"text-align: right;\">\n",
       "      <th></th>\n",
       "      <th>0</th>\n",
       "      <th>1</th>\n",
       "      <th>2</th>\n",
       "    </tr>\n",
       "  </thead>\n",
       "  <tbody>\n",
       "    <tr>\n",
       "      <th>0</th>\n",
       "      <td>1877775838486905855</td>\n",
       "      <td>vivo</td>\n",
       "      <td>Y13</td>\n",
       "    </tr>\n",
       "    <tr>\n",
       "      <th>1</th>\n",
       "      <td>-3766087376657242966</td>\n",
       "      <td>小米</td>\n",
       "      <td>V183</td>\n",
       "    </tr>\n",
       "    <tr>\n",
       "      <th>2</th>\n",
       "      <td>-6238937574958215831</td>\n",
       "      <td>OPPO</td>\n",
       "      <td>R7s</td>\n",
       "    </tr>\n",
       "    <tr>\n",
       "      <th>3</th>\n",
       "      <td>8973197758510677470</td>\n",
       "      <td>三星</td>\n",
       "      <td>A368t</td>\n",
       "    </tr>\n",
       "    <tr>\n",
       "      <th>4</th>\n",
       "      <td>-2015528097870762664</td>\n",
       "      <td>小米</td>\n",
       "      <td>红米Note2</td>\n",
       "    </tr>\n",
       "  </tbody>\n",
       "</table>\n",
       "</div>"
      ],
      "text/plain": [
       "                     0     1        2\n",
       "0  1877775838486905855  vivo      Y13\n",
       "1 -3766087376657242966    小米     V183\n",
       "2 -6238937574958215831  OPPO      R7s\n",
       "3  8973197758510677470    三星    A368t\n",
       "4 -2015528097870762664    小米  红米Note2"
      ]
     },
     "execution_count": 10,
     "metadata": {},
     "output_type": "execute_result"
    }
   ],
   "source": [
    "db_connection = sql.connect(user='student',password='student',host='cpanel.insaid.co',database='Capstone1')\n",
    "db_cursor = db_connection.cursor()\n",
    "db_cursor.execute('SELECT * FROM phone_brand_device_model')\n",
    "\n",
    "table_rows = db_cursor.fetchall()\n",
    "df_phone = pd.DataFrame(table_rows)\n",
    "df_phone.head()"
   ]
  },
  {
   "cell_type": "code",
   "execution_count": 11,
   "metadata": {},
   "outputs": [
    {
     "data": {
      "text/plain": [
       "(87726, 3)"
      ]
     },
     "execution_count": 11,
     "metadata": {},
     "output_type": "execute_result"
    }
   ],
   "source": [
    "df_phone.shape"
   ]
  },
  {
   "cell_type": "markdown",
   "metadata": {},
   "source": [
    "#### Observations:"
   ]
  },
  {
   "cell_type": "markdown",
   "metadata": {},
   "source": [
    "- There are **87726 rows** and **3 columns** in **phone_brand_device_model** table"
   ]
  },
  {
   "cell_type": "code",
   "execution_count": 12,
   "metadata": {},
   "outputs": [
    {
     "name": "stdout",
     "output_type": "stream",
     "text": [
      "<class 'pandas.core.frame.DataFrame'>\n",
      "RangeIndex: 87726 entries, 0 to 87725\n",
      "Data columns (total 3 columns):\n",
      "0    87726 non-null int64\n",
      "1    87726 non-null object\n",
      "2    87726 non-null object\n",
      "dtypes: int64(1), object(2)\n",
      "memory usage: 2.0+ MB\n"
     ]
    }
   ],
   "source": [
    "df_phone.info()"
   ]
  },
  {
   "cell_type": "markdown",
   "metadata": {},
   "source": [
    "#### Observations:"
   ]
  },
  {
   "cell_type": "markdown",
   "metadata": {},
   "source": [
    "- **Column 1** is **int** datatype\n",
    "- **Columns 2 and 3** are **object** datatype"
   ]
  },
  {
   "cell_type": "markdown",
   "metadata": {},
   "source": [
    "<a id=section306></a>\n",
    "### 3.6 Identify Missing Values of phone_brand_device_model"
   ]
  },
  {
   "cell_type": "code",
   "execution_count": 13,
   "metadata": {},
   "outputs": [
    {
     "data": {
      "text/plain": [
       "0    0\n",
       "1    0\n",
       "2    0\n",
       "dtype: int64"
      ]
     },
     "execution_count": 13,
     "metadata": {},
     "output_type": "execute_result"
    }
   ],
   "source": [
    "df_phone.isnull().sum()"
   ]
  },
  {
   "cell_type": "markdown",
   "metadata": {},
   "source": [
    "#### Observations:"
   ]
  },
  {
   "cell_type": "markdown",
   "metadata": {},
   "source": [
    "- There are **no missing values**"
   ]
  },
  {
   "cell_type": "markdown",
   "metadata": {},
   "source": [
    "<a id=section4></a>\n",
    "## 4. Data Preprocessing"
   ]
  },
  {
   "cell_type": "markdown",
   "metadata": {},
   "source": [
    "<a id=section401></a>\n",
    "### 4.1 Preprocessing"
   ]
  },
  {
   "cell_type": "markdown",
   "metadata": {},
   "source": [
    "- Find the mapping values of longitude for device_id"
   ]
  },
  {
   "cell_type": "code",
   "execution_count": 14,
   "metadata": {},
   "outputs": [],
   "source": [
    "mapping_longitude = (df_event_states.query('longitude != \"NaN\"')\n",
    "             .drop_duplicates('device_id')\n",
    "             .set_index('device_id')\n",
    "             .longitude)"
   ]
  },
  {
   "cell_type": "markdown",
   "metadata": {},
   "source": [
    "- Filling null values of longitude with matching device_id"
   ]
  },
  {
   "cell_type": "code",
   "execution_count": 15,
   "metadata": {},
   "outputs": [],
   "source": [
    "df_event_states['longitude'] = df_event_states['device_id'].map(mapping_longitude).fillna('NaN')"
   ]
  },
  {
   "cell_type": "markdown",
   "metadata": {},
   "source": [
    "- Find the mapping values of latitude for device_id"
   ]
  },
  {
   "cell_type": "code",
   "execution_count": 16,
   "metadata": {},
   "outputs": [],
   "source": [
    "mapping_latitude = (df_event_states.query('latitude != \"NaN\"')\n",
    "             .drop_duplicates('device_id')\n",
    "             .set_index('device_id')\n",
    "             .latitude)"
   ]
  },
  {
   "cell_type": "markdown",
   "metadata": {},
   "source": [
    "- Filling null values of latitude with matching device_id"
   ]
  },
  {
   "cell_type": "code",
   "execution_count": 17,
   "metadata": {},
   "outputs": [],
   "source": [
    "df_event_states['latitude'] = df_event_states['device_id'].map(mapping_latitude).fillna('NaN')"
   ]
  },
  {
   "cell_type": "markdown",
   "metadata": {},
   "source": [
    "- Find the mapping values of device_id for longitude"
   ]
  },
  {
   "cell_type": "code",
   "execution_count": 18,
   "metadata": {},
   "outputs": [],
   "source": [
    "mapping_device_id = (df_event_states.query('device_id != \"NaN\"')\n",
    "             .drop_duplicates('longitude')\n",
    "             .set_index('longitude')\n",
    "             .device_id)"
   ]
  },
  {
   "cell_type": "markdown",
   "metadata": {},
   "source": [
    "- Filling null values of device_id with matching longitude"
   ]
  },
  {
   "cell_type": "code",
   "execution_count": 19,
   "metadata": {},
   "outputs": [],
   "source": [
    "df_event_states['device_id'] = df_event_states['longitude'].map(mapping_device_id).fillna('NaN')"
   ]
  },
  {
   "cell_type": "markdown",
   "metadata": {},
   "source": [
    "- Check any null values are there or not"
   ]
  },
  {
   "cell_type": "code",
   "execution_count": 20,
   "metadata": {},
   "outputs": [
    {
     "data": {
      "text/plain": [
       "event_id     0\n",
       "device_id    0\n",
       "timestamp    0\n",
       "longitude    0\n",
       "latitude     0\n",
       "city         0\n",
       "state        0\n",
       "dtype: int64"
      ]
     },
     "execution_count": 20,
     "metadata": {},
     "output_type": "execute_result"
    }
   ],
   "source": [
    "df_event_states.isnull().sum()"
   ]
  },
  {
   "cell_type": "markdown",
   "metadata": {},
   "source": [
    "- Write to .csv file for submission"
   ]
  },
  {
   "cell_type": "code",
   "execution_count": 21,
   "metadata": {},
   "outputs": [],
   "source": [
    "df_event_states.to_csv(\"EventsData.csv\", index=False)"
   ]
  },
  {
   "cell_type": "markdown",
   "metadata": {},
   "source": [
    "- Rename the columns in phone table"
   ]
  },
  {
   "cell_type": "code",
   "execution_count": 22,
   "metadata": {},
   "outputs": [],
   "source": [
    "df_phone.columns = ['phone_id', 'brand', 'model']"
   ]
  },
  {
   "cell_type": "markdown",
   "metadata": {},
   "source": [
    "- Column added for phone brand english name"
   ]
  },
  {
   "cell_type": "code",
   "execution_count": 23,
   "metadata": {},
   "outputs": [],
   "source": [
    "brand_english = {'华为':'Huawei', '小米':'Xiaomi', '三星':'Samsung', 'vivo':'vivo', 'OPPO':'OPPO', '魅族':'Meizu', '酷派':'Coolpad', '乐视':'LeEco', '联想':'Lenovo', 'HTC':'HTC'}\n",
    "df_phone.loc[:,'brand_english']=df_phone['brand'].map(brand_english)"
   ]
  },
  {
   "cell_type": "code",
   "execution_count": 24,
   "metadata": {},
   "outputs": [
    {
     "data": {
      "text/html": [
       "<div>\n",
       "<style scoped>\n",
       "    .dataframe tbody tr th:only-of-type {\n",
       "        vertical-align: middle;\n",
       "    }\n",
       "\n",
       "    .dataframe tbody tr th {\n",
       "        vertical-align: top;\n",
       "    }\n",
       "\n",
       "    .dataframe thead th {\n",
       "        text-align: right;\n",
       "    }\n",
       "</style>\n",
       "<table border=\"1\" class=\"dataframe\">\n",
       "  <thead>\n",
       "    <tr style=\"text-align: right;\">\n",
       "      <th></th>\n",
       "      <th>phone_id</th>\n",
       "      <th>brand</th>\n",
       "      <th>model</th>\n",
       "      <th>brand_english</th>\n",
       "    </tr>\n",
       "  </thead>\n",
       "  <tbody>\n",
       "    <tr>\n",
       "      <th>0</th>\n",
       "      <td>1877775838486905855</td>\n",
       "      <td>vivo</td>\n",
       "      <td>Y13</td>\n",
       "      <td>vivo</td>\n",
       "    </tr>\n",
       "    <tr>\n",
       "      <th>1</th>\n",
       "      <td>-3766087376657242966</td>\n",
       "      <td>小米</td>\n",
       "      <td>V183</td>\n",
       "      <td>Xiaomi</td>\n",
       "    </tr>\n",
       "    <tr>\n",
       "      <th>2</th>\n",
       "      <td>-6238937574958215831</td>\n",
       "      <td>OPPO</td>\n",
       "      <td>R7s</td>\n",
       "      <td>OPPO</td>\n",
       "    </tr>\n",
       "    <tr>\n",
       "      <th>3</th>\n",
       "      <td>8973197758510677470</td>\n",
       "      <td>三星</td>\n",
       "      <td>A368t</td>\n",
       "      <td>Samsung</td>\n",
       "    </tr>\n",
       "    <tr>\n",
       "      <th>4</th>\n",
       "      <td>-2015528097870762664</td>\n",
       "      <td>小米</td>\n",
       "      <td>红米Note2</td>\n",
       "      <td>Xiaomi</td>\n",
       "    </tr>\n",
       "  </tbody>\n",
       "</table>\n",
       "</div>"
      ],
      "text/plain": [
       "              phone_id brand    model brand_english\n",
       "0  1877775838486905855  vivo      Y13          vivo\n",
       "1 -3766087376657242966    小米     V183        Xiaomi\n",
       "2 -6238937574958215831  OPPO      R7s          OPPO\n",
       "3  8973197758510677470    三星    A368t       Samsung\n",
       "4 -2015528097870762664    小米  红米Note2        Xiaomi"
      ]
     },
     "execution_count": 24,
     "metadata": {},
     "output_type": "execute_result"
    }
   ],
   "source": [
    "df_phone.head()"
   ]
  },
  {
   "cell_type": "markdown",
   "metadata": {},
   "source": [
    "- Rename the columns in gender table"
   ]
  },
  {
   "cell_type": "code",
   "execution_count": 25,
   "metadata": {},
   "outputs": [],
   "source": [
    "df_gender.columns = ['phone_id', 'gender', 'age', 'age_group']"
   ]
  },
  {
   "cell_type": "code",
   "execution_count": 26,
   "metadata": {},
   "outputs": [
    {
     "data": {
      "text/html": [
       "<div>\n",
       "<style scoped>\n",
       "    .dataframe tbody tr th:only-of-type {\n",
       "        vertical-align: middle;\n",
       "    }\n",
       "\n",
       "    .dataframe tbody tr th {\n",
       "        vertical-align: top;\n",
       "    }\n",
       "\n",
       "    .dataframe thead th {\n",
       "        text-align: right;\n",
       "    }\n",
       "</style>\n",
       "<table border=\"1\" class=\"dataframe\">\n",
       "  <thead>\n",
       "    <tr style=\"text-align: right;\">\n",
       "      <th></th>\n",
       "      <th>phone_id</th>\n",
       "      <th>gender</th>\n",
       "      <th>age</th>\n",
       "      <th>age_group</th>\n",
       "    </tr>\n",
       "  </thead>\n",
       "  <tbody>\n",
       "    <tr>\n",
       "      <th>0</th>\n",
       "      <td>-8076087639492063270</td>\n",
       "      <td>M</td>\n",
       "      <td>35</td>\n",
       "      <td>M32-38</td>\n",
       "    </tr>\n",
       "    <tr>\n",
       "      <th>1</th>\n",
       "      <td>-2897161552818060146</td>\n",
       "      <td>M</td>\n",
       "      <td>35</td>\n",
       "      <td>M32-38</td>\n",
       "    </tr>\n",
       "    <tr>\n",
       "      <th>2</th>\n",
       "      <td>-8260683887967679142</td>\n",
       "      <td>M</td>\n",
       "      <td>35</td>\n",
       "      <td>M32-38</td>\n",
       "    </tr>\n",
       "    <tr>\n",
       "      <th>3</th>\n",
       "      <td>-4938849341048082022</td>\n",
       "      <td>M</td>\n",
       "      <td>30</td>\n",
       "      <td>M29-31</td>\n",
       "    </tr>\n",
       "    <tr>\n",
       "      <th>4</th>\n",
       "      <td>245133531816851882</td>\n",
       "      <td>M</td>\n",
       "      <td>30</td>\n",
       "      <td>M29-31</td>\n",
       "    </tr>\n",
       "  </tbody>\n",
       "</table>\n",
       "</div>"
      ],
      "text/plain": [
       "              phone_id gender  age age_group\n",
       "0 -8076087639492063270      M   35    M32-38\n",
       "1 -2897161552818060146      M   35    M32-38\n",
       "2 -8260683887967679142      M   35    M32-38\n",
       "3 -4938849341048082022      M   30    M29-31\n",
       "4   245133531816851882      M   30    M29-31"
      ]
     },
     "execution_count": 26,
     "metadata": {},
     "output_type": "execute_result"
    }
   ],
   "source": [
    "df_gender.head()"
   ]
  },
  {
   "cell_type": "markdown",
   "metadata": {},
   "source": [
    "<a id=section402></a>\n",
    "### 4.2 Statistics of events data"
   ]
  },
  {
   "cell_type": "code",
   "execution_count": 27,
   "metadata": {},
   "outputs": [
    {
     "data": {
      "text/html": [
       "<div>\n",
       "<style scoped>\n",
       "    .dataframe tbody tr th:only-of-type {\n",
       "        vertical-align: middle;\n",
       "    }\n",
       "\n",
       "    .dataframe tbody tr th {\n",
       "        vertical-align: top;\n",
       "    }\n",
       "\n",
       "    .dataframe thead th {\n",
       "        text-align: right;\n",
       "    }\n",
       "</style>\n",
       "<table border=\"1\" class=\"dataframe\">\n",
       "  <thead>\n",
       "    <tr style=\"text-align: right;\">\n",
       "      <th></th>\n",
       "      <th>event_id</th>\n",
       "      <th>device_id</th>\n",
       "      <th>longitude</th>\n",
       "      <th>latitude</th>\n",
       "    </tr>\n",
       "  </thead>\n",
       "  <tbody>\n",
       "    <tr>\n",
       "      <th>count</th>\n",
       "      <td>4.229150e+05</td>\n",
       "      <td>4.229150e+05</td>\n",
       "      <td>422915.000000</td>\n",
       "      <td>422915.000000</td>\n",
       "    </tr>\n",
       "    <tr>\n",
       "      <th>mean</th>\n",
       "      <td>1.635566e+06</td>\n",
       "      <td>5.290252e+16</td>\n",
       "      <td>82.335375</td>\n",
       "      <td>20.793167</td>\n",
       "    </tr>\n",
       "    <tr>\n",
       "      <th>std</th>\n",
       "      <td>9.309147e+05</td>\n",
       "      <td>5.335819e+18</td>\n",
       "      <td>6.378784</td>\n",
       "      <td>5.423993</td>\n",
       "    </tr>\n",
       "    <tr>\n",
       "      <th>min</th>\n",
       "      <td>2.088100e+04</td>\n",
       "      <td>-9.221066e+18</td>\n",
       "      <td>69.612421</td>\n",
       "      <td>8.412438</td>\n",
       "    </tr>\n",
       "    <tr>\n",
       "      <th>25%</th>\n",
       "      <td>8.229240e+05</td>\n",
       "      <td>-4.580846e+18</td>\n",
       "      <td>76.550601</td>\n",
       "      <td>15.204908</td>\n",
       "    </tr>\n",
       "    <tr>\n",
       "      <th>50%</th>\n",
       "      <td>1.632964e+06</td>\n",
       "      <td>1.274328e+17</td>\n",
       "      <td>85.519033</td>\n",
       "      <td>22.620531</td>\n",
       "    </tr>\n",
       "    <tr>\n",
       "      <th>75%</th>\n",
       "      <td>2.443410e+06</td>\n",
       "      <td>4.703286e+18</td>\n",
       "      <td>88.408053</td>\n",
       "      <td>23.104146</td>\n",
       "    </tr>\n",
       "    <tr>\n",
       "      <th>max</th>\n",
       "      <td>3.252946e+06</td>\n",
       "      <td>9.222849e+18</td>\n",
       "      <td>89.622073</td>\n",
       "      <td>32.369606</td>\n",
       "    </tr>\n",
       "  </tbody>\n",
       "</table>\n",
       "</div>"
      ],
      "text/plain": [
       "           event_id     device_id      longitude       latitude\n",
       "count  4.229150e+05  4.229150e+05  422915.000000  422915.000000\n",
       "mean   1.635566e+06  5.290252e+16      82.335375      20.793167\n",
       "std    9.309147e+05  5.335819e+18       6.378784       5.423993\n",
       "min    2.088100e+04 -9.221066e+18      69.612421       8.412438\n",
       "25%    8.229240e+05 -4.580846e+18      76.550601      15.204908\n",
       "50%    1.632964e+06  1.274328e+17      85.519033      22.620531\n",
       "75%    2.443410e+06  4.703286e+18      88.408053      23.104146\n",
       "max    3.252946e+06  9.222849e+18      89.622073      32.369606"
      ]
     },
     "execution_count": 27,
     "metadata": {},
     "output_type": "execute_result"
    }
   ],
   "source": [
    "df_event_states.describe()"
   ]
  },
  {
   "cell_type": "markdown",
   "metadata": {},
   "source": [
    "<a id=section5></a>\n",
    "## 5. Exploratory Data Analysis"
   ]
  },
  {
   "cell_type": "markdown",
   "metadata": {},
   "source": [
    "<a id=section501></a>\n",
    "### 5.1 Analysis based on state"
   ]
  },
  {
   "cell_type": "code",
   "execution_count": 28,
   "metadata": {},
   "outputs": [
    {
     "data": {
      "text/plain": [
       "Text(0, 0.5, 'Frequency')"
      ]
     },
     "execution_count": 28,
     "metadata": {},
     "output_type": "execute_result"
    },
    {
     "data": {
      "image/png": "[encoded data removed]",
      "text/plain": [
       "<Figure size 1440x432 with 1 Axes>"
      ]
     },
     "metadata": {
      "needs_background": "light"
     },
     "output_type": "display_data"
    }
   ],
   "source": [
    "df_event_states['state'].value_counts(normalize=True).plot(figsize=(20,6), kind='bar', fontsize=14)\n",
    "plt.xlabel('State')\n",
    "plt.ylabel('Frequency')"
   ]
  },
  {
   "cell_type": "markdown",
   "metadata": {},
   "source": [
    "__Observations:__\n",
    "- Almost **47%** of customers from **WestBengal** followed by **Karnataka and Gujarat** having **22% and 10%** respectively."
   ]
  },
  {
   "cell_type": "markdown",
   "metadata": {},
   "source": [
    "<a id=section502></a>\n",
    "### 5.2 Distribution of customers on Map"
   ]
  },
  {
   "cell_type": "code",
   "execution_count": 29,
   "metadata": {},
   "outputs": [],
   "source": [
    "# Store our latitude and longitude values\n",
    "latitudes = df_event_states[\"latitude\"]\n",
    "longitudes = df_event_states[\"longitude\"]\n",
    "\n",
    "# Creating the location we would like to initialize the focus on. \n",
    "# Parameters: Lattitude, Longitude, Zoom\n",
    "gmap = gmplot.GoogleMapPlotter(22.65216, 88.39748, 10)\n",
    "\n",
    "# Overlay our datapoints onto the map\n",
    "gmap.heatmap(latitudes, longitudes)\n",
    "\n",
    "# Generate the heatmap into an HTML file\n",
    "gmap.draw(\"events_data_heatmap.html\")"
   ]
  },
  {
   "cell_type": "markdown",
   "metadata": {},
   "source": [
    "<a id=section503></a>\n",
    "### 5.3 Frequency of Events with respect to Time"
   ]
  },
  {
   "cell_type": "code",
   "execution_count": 30,
   "metadata": {},
   "outputs": [
    {
     "data": {
      "text/plain": [
       "Text(0, 0.5, 'Frequency')"
      ]
     },
     "execution_count": 30,
     "metadata": {},
     "output_type": "execute_result"
    },
    {
     "data": {
      "image/png": "[encoded data removed]",
      "text/plain": [
       "<Figure size 1440x432 with 1 Axes>"
      ]
     },
     "metadata": {
      "needs_background": "light"
     },
     "output_type": "display_data"
    }
   ],
   "source": [
    "df_event_states['timestamp'].value_counts(normalize=True)[:100].plot(figsize=(20,6), kind='bar')\n",
    "plt.xlabel('timestamp')\n",
    "plt.ylabel('Frequency')"
   ]
  },
  {
   "cell_type": "markdown",
   "metadata": {},
   "source": [
    "<a id=section504></a>\n",
    "### 5.4 Analysis based on gender"
   ]
  },
  {
   "cell_type": "code",
   "execution_count": 31,
   "metadata": {},
   "outputs": [
    {
     "data": {
      "text/plain": [
       "Text(0, 0.5, 'Frequency')"
      ]
     },
     "execution_count": 31,
     "metadata": {},
     "output_type": "execute_result"
    },
    {
     "data": {
      "image/png": "[encoded data removed]",
      "text/plain": [
       "<Figure size 720x432 with 1 Axes>"
      ]
     },
     "metadata": {
      "needs_background": "light"
     },
     "output_type": "display_data"
    }
   ],
   "source": [
    "df_gender['gender'].value_counts(normalize=True).plot(figsize=(10,6), kind='bar', fontsize=14)\n",
    "plt.xlabel('Gender')\n",
    "plt.ylabel('Frequency')"
   ]
  },
  {
   "cell_type": "markdown",
   "metadata": {},
   "source": [
    "#### Observations:"
   ]
  },
  {
   "cell_type": "markdown",
   "metadata": {},
   "source": [
    "- **64%** of users of phone are males"
   ]
  },
  {
   "cell_type": "markdown",
   "metadata": {},
   "source": [
    "<a id=section505></a>\n",
    "### 5.5 Analysis based on age_group"
   ]
  },
  {
   "cell_type": "code",
   "execution_count": 32,
   "metadata": {
    "scrolled": false
   },
   "outputs": [
    {
     "data": {
      "text/plain": [
       "Text(0, 0.5, 'Frequency')"
      ]
     },
     "execution_count": 32,
     "metadata": {},
     "output_type": "execute_result"
    },
    {
     "data": {
      "image/png": "[encoded data removed]",
      "text/plain": [
       "<Figure size 1440x432 with 1 Axes>"
      ]
     },
     "metadata": {
      "needs_background": "light"
     },
     "output_type": "display_data"
    }
   ],
   "source": [
    "df_gender['age_group'].value_counts(normalize=True)[:10].plot(figsize=(20,6), kind='bar', fontsize=14)\n",
    "plt.xlabel('Age Group')\n",
    "plt.ylabel('Frequency')"
   ]
  },
  {
   "cell_type": "markdown",
   "metadata": {},
   "source": [
    "#### Observations:"
   ]
  },
  {
   "cell_type": "markdown",
   "metadata": {},
   "source": [
    "- Almost **12.9% of users** between **age 23 to 26** and **24.2% of users above age 32** are **males** the **maximum** users of phone\n",
    "- **9.8% of users** between **age 24 to 28** and **5.6% of users above age 43** are **females** the **least** users of phone"
   ]
  },
  {
   "cell_type": "markdown",
   "metadata": {},
   "source": [
    "<a id=section506></a>\n",
    "### 5.6 Analysis based on phone brand "
   ]
  },
  {
   "cell_type": "code",
   "execution_count": 33,
   "metadata": {},
   "outputs": [
    {
     "data": {
      "text/plain": [
       "Text(0, 0.5, 'Frequency')"
      ]
     },
     "execution_count": 33,
     "metadata": {},
     "output_type": "execute_result"
    },
    {
     "data": {
      "image/png": "[encoded data removed]",
      "text/plain": [
       "<Figure size 1440x432 with 1 Axes>"
      ]
     },
     "metadata": {
      "needs_background": "light"
     },
     "output_type": "display_data"
    }
   ],
   "source": [
    "df_phone['brand_english'].value_counts(normalize=True)[:10].plot(figsize=(20,6), kind='bar', fontsize=14)\n",
    "plt.xlabel('Phone Brand')\n",
    "plt.ylabel('Frequency')"
   ]
  },
  {
   "cell_type": "markdown",
   "metadata": {},
   "source": [
    "#### Observations:"
   ]
  },
  {
   "cell_type": "markdown",
   "metadata": {},
   "source": [
    "- **Top 3** selling brands are **Xiaomi, Samsung and Huawei** with **26%, 24% and 19%** of users respectively.\n",
    "- Following these brands **vivo, OPPO** have quite number of customers."
   ]
  },
  {
   "cell_type": "markdown",
   "metadata": {},
   "source": [
    "<a id=section507></a>\n",
    "### 5.7 Analysis based on phone model"
   ]
  },
  {
   "cell_type": "code",
   "execution_count": 34,
   "metadata": {},
   "outputs": [
    {
     "data": {
      "text/plain": [
       "Text(0, 0.5, 'Frequency')"
      ]
     },
     "execution_count": 34,
     "metadata": {},
     "output_type": "execute_result"
    },
    {
     "data": {
      "image/png": "[encoded data removed]",
      "text/plain": [
       "<Figure size 1440x432 with 1 Axes>"
      ]
     },
     "metadata": {
      "needs_background": "light"
     },
     "output_type": "display_data"
    }
   ],
   "source": [
    "df_phone['model'].value_counts(normalize=True)[:7].plot(figsize=(20,6), kind='bar', fontsize=14)\n",
    "plt.xlabel('Phone Model')\n",
    "plt.ylabel('Frequency')"
   ]
  },
  {
   "cell_type": "markdown",
   "metadata": {},
   "source": [
    "#### Observations:"
   ]
  },
  {
   "cell_type": "markdown",
   "metadata": {},
   "source": [
    "- **Top 3** selling models are **Red ricenote, MI 3 and MI 2S** with **4%, 3.1% and 2.9%** of users respectively.\n",
    "- Following these models **Galaxy Note 3, MI 4** have quite number of customers."
   ]
  },
  {
   "cell_type": "markdown",
   "metadata": {},
   "source": [
    "<a id=section508></a>\n",
    "### 5.8 Common phone_id between gender and phone tables"
   ]
  },
  {
   "cell_type": "code",
   "execution_count": 35,
   "metadata": {},
   "outputs": [
    {
     "data": {
      "text/plain": [
       "<matplotlib.axes._subplots.AxesSubplot at 0x21e21864550>"
      ]
     },
     "execution_count": 35,
     "metadata": {},
     "output_type": "execute_result"
    },
    {
     "data": {
      "image/png": "[encoded data removed]",
      "text/plain": [
       "<Figure size 720x432 with 1 Axes>"
      ]
     },
     "metadata": {
      "needs_background": "light"
     },
     "output_type": "display_data"
    }
   ],
   "source": [
    "df_gender['phone_id'].isin(df_phone['phone_id']).value_counts().plot(figsize=(10,6), kind='bar', fontsize=14)"
   ]
  },
  {
   "cell_type": "markdown",
   "metadata": {},
   "source": [
    "#### Observations:"
   ]
  },
  {
   "cell_type": "markdown",
   "metadata": {},
   "source": [
    "- **74617 phone_id**s are same between **gender and phone** tables.\n",
    "- **28 phone_id**s are not matching between 2 tables."
   ]
  },
  {
   "cell_type": "markdown",
   "metadata": {},
   "source": [
    "<a id=section509></a>\n",
    "### 5.9 Combine gender and phone tables"
   ]
  },
  {
   "cell_type": "code",
   "execution_count": 36,
   "metadata": {},
   "outputs": [
    {
     "data": {
      "text/html": [
       "<div>\n",
       "<style scoped>\n",
       "    .dataframe tbody tr th:only-of-type {\n",
       "        vertical-align: middle;\n",
       "    }\n",
       "\n",
       "    .dataframe tbody tr th {\n",
       "        vertical-align: top;\n",
       "    }\n",
       "\n",
       "    .dataframe thead th {\n",
       "        text-align: right;\n",
       "    }\n",
       "</style>\n",
       "<table border=\"1\" class=\"dataframe\">\n",
       "  <thead>\n",
       "    <tr style=\"text-align: right;\">\n",
       "      <th></th>\n",
       "      <th>phone_id</th>\n",
       "      <th>gender</th>\n",
       "      <th>age</th>\n",
       "      <th>age_group</th>\n",
       "      <th>brand</th>\n",
       "      <th>model</th>\n",
       "      <th>brand_english</th>\n",
       "    </tr>\n",
       "  </thead>\n",
       "  <tbody>\n",
       "    <tr>\n",
       "      <th>0</th>\n",
       "      <td>-8076087639492063270</td>\n",
       "      <td>M</td>\n",
       "      <td>35</td>\n",
       "      <td>M32-38</td>\n",
       "      <td>小米</td>\n",
       "      <td>MI 2</td>\n",
       "      <td>Xiaomi</td>\n",
       "    </tr>\n",
       "    <tr>\n",
       "      <th>1</th>\n",
       "      <td>-2897161552818060146</td>\n",
       "      <td>M</td>\n",
       "      <td>35</td>\n",
       "      <td>M32-38</td>\n",
       "      <td>小米</td>\n",
       "      <td>MI 2</td>\n",
       "      <td>Xiaomi</td>\n",
       "    </tr>\n",
       "    <tr>\n",
       "      <th>2</th>\n",
       "      <td>-8260683887967679142</td>\n",
       "      <td>M</td>\n",
       "      <td>35</td>\n",
       "      <td>M32-38</td>\n",
       "      <td>小米</td>\n",
       "      <td>MI 2</td>\n",
       "      <td>Xiaomi</td>\n",
       "    </tr>\n",
       "    <tr>\n",
       "      <th>3</th>\n",
       "      <td>-4938849341048082022</td>\n",
       "      <td>M</td>\n",
       "      <td>30</td>\n",
       "      <td>M29-31</td>\n",
       "      <td>三星</td>\n",
       "      <td>Galaxy S4</td>\n",
       "      <td>Samsung</td>\n",
       "    </tr>\n",
       "    <tr>\n",
       "      <th>4</th>\n",
       "      <td>245133531816851882</td>\n",
       "      <td>M</td>\n",
       "      <td>30</td>\n",
       "      <td>M29-31</td>\n",
       "      <td>SUGAR</td>\n",
       "      <td>时尚手机</td>\n",
       "      <td>NaN</td>\n",
       "    </tr>\n",
       "  </tbody>\n",
       "</table>\n",
       "</div>"
      ],
      "text/plain": [
       "              phone_id gender  age age_group  brand      model brand_english\n",
       "0 -8076087639492063270      M   35    M32-38     小米       MI 2        Xiaomi\n",
       "1 -2897161552818060146      M   35    M32-38     小米       MI 2        Xiaomi\n",
       "2 -8260683887967679142      M   35    M32-38     小米       MI 2        Xiaomi\n",
       "3 -4938849341048082022      M   30    M29-31     三星  Galaxy S4       Samsung\n",
       "4   245133531816851882      M   30    M29-31  SUGAR       时尚手机           NaN"
      ]
     },
     "execution_count": 36,
     "metadata": {},
     "output_type": "execute_result"
    }
   ],
   "source": [
    "df_phone_user = pd.merge(df_gender, df_phone, on='phone_id', how='inner')\n",
    "df_phone_user.head()"
   ]
  },
  {
   "cell_type": "code",
   "execution_count": 37,
   "metadata": {},
   "outputs": [
    {
     "data": {
      "text/plain": [
       "(74617, 7)"
      ]
     },
     "execution_count": 37,
     "metadata": {},
     "output_type": "execute_result"
    }
   ],
   "source": [
    "df_phone_user.shape"
   ]
  },
  {
   "cell_type": "code",
   "execution_count": 39,
   "metadata": {
    "scrolled": false
   },
   "outputs": [
    {
     "name": "stdout",
     "output_type": "stream",
     "text": [
      "age_group  brand_english\n",
      "M23-26     Xiaomi           2471\n",
      "M32-38     Xiaomi           2285\n",
      "           Samsung          2188\n",
      "M39+       Xiaomi           2061\n",
      "           Samsung          1973\n",
      "M23-26     Samsung          1932\n",
      "M22-       Xiaomi           1917\n",
      "M29-31     Xiaomi           1791\n",
      "M32-38     Huawei           1744\n",
      "M39+       Huawei           1726\n",
      "M29-31     Samsung          1580\n",
      "M23-26     Huawei           1545\n",
      "M27-28     Xiaomi           1403\n",
      "F33-42     Xiaomi           1377\n",
      "M22-       Samsung          1371\n",
      "M29-31     Huawei           1365\n",
      "F33-42     Samsung          1332\n",
      "M22-       Huawei           1169\n",
      "M27-28     Samsung          1166\n",
      "F23-       Xiaomi           1155\n",
      "F29-32     Xiaomi           1139\n",
      "F43+       Samsung          1103\n",
      "F29-32     Samsung          1076\n",
      "F24-26     Xiaomi           1066\n",
      "F23-       Samsung           999\n",
      "F33-42     Huawei            971\n",
      "F43+       Xiaomi            932\n",
      "F24-26     Samsung           885\n",
      "M27-28     Huawei            856\n",
      "M23-26     vivo              846\n",
      "                            ... \n",
      "F43+       Coolpad           200\n",
      "           Meizu             193\n",
      "F27-28     Meizu             192\n",
      "F29-32     Coolpad           184\n",
      "F24-26     Coolpad           169\n",
      "M32-38     HTC               149\n",
      "M23-26     HTC               147\n",
      "F27-28     Coolpad           134\n",
      "M22-       HTC               126\n",
      "M29-31     HTC               123\n",
      "M39+       HTC               120\n",
      "M23-26     LeEco             110\n",
      "M32-38     LeEco             104\n",
      "M29-31     LeEco              88\n",
      "F33-42     HTC                82\n",
      "M27-28     HTC                73\n",
      "M39+       LeEco              71\n",
      "F23-       HTC                63\n",
      "M22-       LeEco              62\n",
      "F29-32     HTC                57\n",
      "F43+       HTC                57\n",
      "F24-26     HTC                57\n",
      "M27-28     LeEco              49\n",
      "F33-42     LeEco              45\n",
      "F29-32     LeEco              43\n",
      "F23-       LeEco              42\n",
      "F24-26     LeEco              40\n",
      "F27-28     HTC                38\n",
      "F43+       LeEco              37\n",
      "F27-28     LeEco              20\n",
      "Length: 108, dtype: int64\n"
     ]
    }
   ],
   "source": [
    "df_age_brand = df_phone_user.groupby(['age_group', 'brand_english']).size().sort_values(ascending=False)\n",
    "print(df_age_brand)"
   ]
  },
  {
   "cell_type": "markdown",
   "metadata": {},
   "source": [
    "#### Observations:"
   ]
  },
  {
   "cell_type": "markdown",
   "metadata": {},
   "source": [
    "- **Xiaomi and Samsung** are preferred brands in **males** in **age** group between **23 to 26** \n",
    "    with **3.3% and 2.6%** of users respectively.\n",
    "- **Xiaomi and Samsung** are preferred brands in **males** above **age 32** with **5.8% and 5.6%** of users respectively.\n",
    "- Around **1.8% of users** are **females** in age group between **33 to 42** preferred **Xiaomi and Samsung**."
   ]
  },
  {
   "cell_type": "code",
   "execution_count": 40,
   "metadata": {},
   "outputs": [
    {
     "data": {
      "text/plain": [
       "<matplotlib.axes._subplots.AxesSubplot at 0x21e213ef860>"
      ]
     },
     "execution_count": 40,
     "metadata": {},
     "output_type": "execute_result"
    },
    {
     "data": {
      "image/png": "[encoded data removed]",
      "text/plain": [
       "<Figure size 1440x432 with 1 Axes>"
      ]
     },
     "metadata": {
      "needs_background": "light"
     },
     "output_type": "display_data"
    }
   ],
   "source": [
    "df_age_brand[:10].plot(figsize=(20,6), kind='bar')"
   ]
  },
  {
   "cell_type": "code",
   "execution_count": 41,
   "metadata": {},
   "outputs": [
    {
     "name": "stdout",
     "output_type": "stream",
     "text": [
      "age_group  model          \n",
      "M32-38     红米note             379\n",
      "M39+       红米note             375\n",
      "M23-26     红米note             354\n",
      "           MI 2S              309\n",
      "M29-31     红米note             296\n",
      "M23-26     MI 3               293\n",
      "           MI 4               293\n",
      "M22-       MI 3               289\n",
      "M32-38     Galaxy Note 3      289\n",
      "M22-       红米note             262\n",
      "           MI 2S              260\n",
      "M32-38     MI 3               260\n",
      "F33-42     红米note             246\n",
      "M32-38     MI 4               242\n",
      "M39+       MI 3               242\n",
      "           Galaxy Note 3      240\n",
      "M23-26     Galaxy Note 3      226\n",
      "M32-38     MI 2S              225\n",
      "M29-31     MI 3               225\n",
      "M32-38     Galaxy S4          218\n",
      "M39+       MI 2S              211\n",
      "           MI 4               210\n",
      "M27-28     红米note             208\n",
      "F29-32     红米note             207\n",
      "M39+       Galaxy Note 2      204\n",
      "M32-38     Galaxy Note 2      203\n",
      "M22-       MI 4               201\n",
      "M29-31     MI 2S              200\n",
      "M23-26     Galaxy S4          200\n",
      "F33-42     Galaxy Note 3      193\n",
      "                             ... \n",
      "M22-       U880F1               1\n",
      "           U8825D               1\n",
      "           U960S3               1\n",
      "           V10                  1\n",
      "           U55GT                1\n",
      "           V185                 1\n",
      "           V188S                1\n",
      "           V4                   1\n",
      "           V6                   1\n",
      "           V8                   1\n",
      "           V889M                1\n",
      "           U808                 1\n",
      "           U51GT-W              1\n",
      "           S938t                1\n",
      "           T50                  1\n",
      "           S960                 1\n",
      "           SCH-I939             1\n",
      "           Sensation Z710E      1\n",
      "           T1-821w              1\n",
      "           T29                  1\n",
      "           T329d                1\n",
      "           T528w                1\n",
      "           Touch V              1\n",
      "           T860                 1\n",
      "           T87+                 1\n",
      "           T9                   1\n",
      "M39+       黄金斗士S8畅玩版            1\n",
      "M22-       TAB 2 A7-30          1\n",
      "           Touch 3              1\n",
      "F23-       1105                 1\n",
      "Length: 8855, dtype: int64\n"
     ]
    }
   ],
   "source": [
    "df_age_model = df_phone_user.groupby(['age_group', 'model']).size().sort_values(ascending=False)\n",
    "print(df_age_model)"
   ]
  },
  {
   "cell_type": "markdown",
   "metadata": {},
   "source": [
    "#### Observations:"
   ]
  },
  {
   "cell_type": "markdown",
   "metadata": {},
   "source": [
    "- **Red rice note** is mostly preferred by **males** above **age 29**\n",
    "- **Males** in age group between **23 to 26** preferred **Red rice note** followed by **MI 2S**\n",
    "- Maximum number of **females** in age group between **33 to 42** preferred **Red rice note** followed by **Galaxy Note 3**"
   ]
  },
  {
   "cell_type": "code",
   "execution_count": 42,
   "metadata": {},
   "outputs": [
    {
     "data": {
      "text/plain": [
       "<matplotlib.axes._subplots.AxesSubplot at 0x21e2145cac8>"
      ]
     },
     "execution_count": 42,
     "metadata": {},
     "output_type": "execute_result"
    },
    {
     "data": {
      "image/png": "[encoded data removed]",
      "text/plain": [
       "<Figure size 1440x432 with 1 Axes>"
      ]
     },
     "metadata": {
      "needs_background": "light"
     },
     "output_type": "display_data"
    }
   ],
   "source": [
    "df_age_model[:10].plot(figsize=(20,6), kind='bar')"
   ]
  },
  {
   "cell_type": "markdown",
   "metadata": {},
   "source": [
    "<a id=section5010></a>\n",
    "### 5.10 Group latitude and longitude"
   ]
  },
  {
   "cell_type": "code",
   "execution_count": 44,
   "metadata": {},
   "outputs": [
    {
     "data": {
      "text/plain": [
       "latitude   longitude\n",
       "12.715878  77.209356    892\n",
       "22.957980  87.812710    761\n",
       "27.177397  84.140900    547\n",
       "25.484459  88.619418    535\n",
       "26.211919  87.570736    496\n",
       "21.790693  70.686387    476\n",
       "30.904178  75.268748    458\n",
       "31.561747  75.992551    413\n",
       "25.863393  84.747203    393\n",
       "21.194283  73.169345    381\n",
       "12.822380  74.906026    370\n",
       "12.737445  77.207593    369\n",
       "25.092727  83.715825    361\n",
       "22.806273  88.442747    355\n",
       "12.120985  75.440756    355\n",
       "26.756090  89.067475    352\n",
       "22.750621  88.459303    344\n",
       "25.675577  85.125892    343\n",
       "21.145156  73.137274    342\n",
       "30.873274  75.520600    333\n",
       "22.756079  87.794606    330\n",
       "25.601433  84.715585    325\n",
       "15.984554  76.224259    320\n",
       "25.871217  87.507743    318\n",
       "25.391906  85.099449    317\n",
       "25.283298  85.550095    310\n",
       "23.831119  72.399513    308\n",
       "14.004370  76.671906    307\n",
       "9.952263   76.404063    291\n",
       "23.709730  87.125649    287\n",
       "                       ... \n",
       "23.394411  86.382335      1\n",
       "14.883368  74.160922      1\n",
       "14.831092  75.478077      1\n",
       "23.484432  73.390916      1\n",
       "12.819435  75.298436      1\n",
       "12.853129  75.268752      1\n",
       "22.350061  87.394735      1\n",
       "22.656064  88.435874      1\n",
       "23.551039  73.338131      1\n",
       "23.547946  87.393377      1\n",
       "14.596913  75.875329      1\n",
       "12.993322  77.611615      1\n",
       "14.597349  75.887741      1\n",
       "12.832952  74.919427      1\n",
       "23.530186  73.362337      1\n",
       "14.600024  75.832346      1\n",
       "22.656095  88.392741      1\n",
       "12.993290  77.615972      1\n",
       "23.514654  87.407497      1\n",
       "22.347318  72.662151      1\n",
       "12.841605  74.940352      1\n",
       "12.844982  74.887252      1\n",
       "22.346099  72.663260      1\n",
       "23.505944  88.545848      1\n",
       "23.505886  73.363604      1\n",
       "23.499723  88.548628      1\n",
       "14.695146  74.938360      1\n",
       "14.711793  74.886548      1\n",
       "14.716644  75.675753      1\n",
       "22.600554  88.432609      1\n",
       "Length: 19032, dtype: int64"
      ]
     },
     "execution_count": 44,
     "metadata": {},
     "output_type": "execute_result"
    }
   ],
   "source": [
    "df_event_states.groupby(['latitude', 'longitude']).size().sort_values(ascending=False)"
   ]
  },
  {
   "cell_type": "markdown",
   "metadata": {},
   "source": [
    "<a id=section5011></a>\n",
    "### 5.11 Latitude and longitude plotted on Map"
   ]
  },
  {
   "cell_type": "code",
   "execution_count": 45,
   "metadata": {},
   "outputs": [],
   "source": [
    "from folium import plugins\n",
    "\n",
    "mapit = folium.Map(location=[22.65216, 88.39748])\n",
    "subset = df_event_states[['latitude', 'longitude']].as_matrix()\n",
    "\n",
    "# plot heatmap\n",
    "mapit.add_children(plugins.HeatMap(subset, radius=5))\n",
    "# save the map to html file\n",
    "mapit.save('map.html')"
   ]
  },
  {
   "cell_type": "markdown",
   "metadata": {},
   "source": [
    "<a id=section6></a>\n",
    "## 6. Conclusion"
   ]
  },
  {
   "cell_type": "markdown",
   "metadata": {},
   "source": [
    "- **Bihar, Punjab, Kerala** having **least number of customers**. So,the telecom company can concentrate this area to boost the people to use service.\n",
    "- **Females** are **less number of users**. So, think about giving more offer to female segment in order to increase female customers.\n",
    "- **Above 43** age group are **least users of phone**. \n",
    "- **Males age** between **22 to 43** are **more users of phone**. So, identify what they like most and try to give more of those things.\n",
    "- **Maximum number of customers** have phone **brands of Xiaomi, Samsung and Huawei**.\n",
    "- **Most of the customers** use phone **models of Red ricenote, MI 3 and MI 2S**."
   ]
  },
  {
   "cell_type": "code",
   "execution_count": null,
   "metadata": {},
   "outputs": [],
   "source": []
  }
 ],
 "metadata": {
  "kernelspec": {
   "display_name": "Python 3",
   "language": "python",
   "name": "python3"
  },
  "language_info": {
   "codemirror_mode": {
    "name": "ipython",
    "version": 3
   },
   "file_extension": ".py",
   "mimetype": "text/x-python",
   "name": "python",
   "nbconvert_exporter": "python",
   "pygments_lexer": "ipython3",
   "version": "3.7.3"
  }
 },
 "nbformat": 4,
 "nbformat_minor": 2
}
